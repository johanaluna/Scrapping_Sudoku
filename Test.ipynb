{
 "cells": [
  {
   "cell_type": "markdown",
   "metadata": {
    "colab_type": "text",
    "id": "umL15HBo5AUd"
   },
   "source": [
    "### Final version Scrapping Sudoku UK\n"
   ]
  },
  {
   "cell_type": "code",
   "execution_count": 1,
   "metadata": {
    "colab": {},
    "colab_type": "code",
    "id": "_QG2jmswOkHm"
   },
   "outputs": [],
   "source": [
    "from bs4 import BeautifulSoup\n",
    "import urllib3\n",
    "import requests \n",
    "import datetime\n",
    "import numpy as np\n",
    "import pandas as pd\n",
    "from urllib.request import urlopen \n",
    "from urllib.error import HTTPError \n",
    "from urllib.error import URLError\n",
    "from tqdm import tqdm"
   ]
  },
  {
   "cell_type": "markdown",
   "metadata": {
    "colab_type": "text",
    "id": "VApKMQxns-oj"
   },
   "source": [
    "## FUNCTIONS"
   ]
  },
  {
   "cell_type": "markdown",
   "metadata": {
    "colab_type": "text",
    "id": "FmyZphEBtCow"
   },
   "source": [
    "## Get_dates():\n",
    "To extract all the data we need to open all the different solutions that have been posted during the time in the web site. "
   ]
  },
  {
   "cell_type": "code",
   "execution_count": 27,
   "metadata": {
    "colab": {},
    "colab_type": "code",
    "id": "O3YA5wgC4_zI"
   },
   "outputs": [],
   "source": [
    "def list_dates():\n",
    "  dates = []\n",
    "  dates_error = []\n",
    "  urls = []\n",
    "  for i in tqdm(range(2,10)):\n",
    "    d = datetime.date.today()- datetime.timedelta(days = i)\n",
    "    d_format = str(d.day)+'/'+str(d.month) +'/'+ str(d.year)\n",
    "    URL = \"http://www.sudoku.org.uk/DailySudoku.asp?solution=please&day=\"+d_format\n",
    "    try:\n",
    "      urlopen(URL)\n",
    "    except HTTPError as e:\n",
    "        pass\n",
    "#       dates_error.append(d_format)\n",
    "    except URLError as e:\n",
    "        pass\n",
    "#       dates_error.append(d_format)\n",
    "    else:\n",
    "#       dates.append(d_format)\n",
    "      urls.append(URL)\n",
    "  return urls\n"
   ]
  },
  {
   "cell_type": "markdown",
   "metadata": {
    "colab_type": "text",
    "id": "glu191x9tpmH"
   },
   "source": [
    "## Get_html()\n",
    "Using the list of the days we're going to open each URL and extract all the HTML code."
   ]
  },
  {
   "cell_type": "code",
   "execution_count": 28,
   "metadata": {
    "colab": {},
    "colab_type": "code",
    "id": "2FdF6AfD4-VX"
   },
   "outputs": [],
   "source": [
    "def get_html(url):\n",
    "  r = requests.get(url) \n",
    "  return BeautifulSoup(r.content,'html.parser')"
   ]
  },
  {
   "cell_type": "markdown",
   "metadata": {
    "colab_type": "text",
    "id": "ssT4VJMuuCjm"
   },
   "source": [
    "## Consolidate()\n",
    "extract all the sudokus and their solutions, the level of difficulty, number of people that solved the soduku and the average time in minutes."
   ]
  },
  {
   "cell_type": "code",
   "execution_count": 29,
   "metadata": {
    "colab": {},
    "colab_type": "code",
    "id": "yuwVP45yOoiz"
   },
   "outputs": [],
   "source": [
    "def consolidate(urls):\n",
    "    solution, sudoku, level, people,av_time, unit = ([] for i in range(6))\n",
    "\n",
    "    for url in tqdm(urls):\n",
    "        a, b = ([] for i in range(2))\n",
    "        soup = get_html(url)\n",
    "        for link in soup.find_all('td', attrs={'class': ['InnerTDone2','InnerTDone'] }):\n",
    "            if link.attrs['class'] == ['InnerTDone2']:\n",
    "              b.append(link.text)\n",
    "            else:\n",
    "              b.append('.')\n",
    "            a.append(link.text)\n",
    "            \n",
    "        sudoku.append(''.join(b))\n",
    "        solution.append(''.join(a))\n",
    "             \n",
    "        p = list(list(soup.table.td)[2])\n",
    "        level.append(str(p[1].get_text()).split(\", \")[1].split()[0])\n",
    "        people.append(str(p[3]).split()[0])\n",
    "        av_time.append(str(p[3]).split()[6])\n",
    "        unit.append(str(p[3]).split()[7])\n",
    "        \n",
    "    return  urls, level, people, av_time, unit, sudoku, solution "
   ]
  },
  {
   "cell_type": "markdown",
   "metadata": {
    "colab_type": "text",
    "id": "KvyA16N-GyEK"
   },
   "source": [
    "# Extract Dates"
   ]
  },
  {
   "cell_type": "code",
   "execution_count": 30,
   "metadata": {
    "colab": {},
    "colab_type": "code",
    "id": "0_ubcNKjOrAo"
   },
   "outputs": [
    {
     "name": "stderr",
     "output_type": "stream",
     "text": [
      "100%|██████████| 8/8 [00:02<00:00,  2.95it/s]\n"
     ]
    }
   ],
   "source": [
    "# dates, urls, dates_error = list_dates()\n",
    "urls = list_dates()"
   ]
  },
  {
   "cell_type": "code",
   "execution_count": 31,
   "metadata": {},
   "outputs": [
    {
     "data": {
      "text/plain": [
       "8"
      ]
     },
     "execution_count": 31,
     "metadata": {},
     "output_type": "execute_result"
    }
   ],
   "source": [
    "len(urls)"
   ]
  },
  {
   "cell_type": "markdown",
   "metadata": {},
   "source": [
    "# Export URLs to CSV"
   ]
  },
  {
   "cell_type": "code",
   "execution_count": 32,
   "metadata": {},
   "outputs": [],
   "source": [
    "urls_df = pd.DataFrame(list(urls), \n",
    "               columns =['urls'])\n",
    "urls_df.to_csv('urls_test.csv')"
   ]
  },
  {
   "cell_type": "markdown",
   "metadata": {},
   "source": [
    "# Load URLs"
   ]
  },
  {
   "cell_type": "code",
   "execution_count": 33,
   "metadata": {
    "colab": {},
    "colab_type": "code",
    "id": "-fr90DBPHIcZ"
   },
   "outputs": [],
   "source": [
    "df_urls = pd.read_csv('urls_test.csv', sep=',').drop('Unnamed: 0', axis=1)"
   ]
  },
  {
   "cell_type": "code",
   "execution_count": 34,
   "metadata": {},
   "outputs": [
    {
     "data": {
      "text/html": [
       "<div>\n",
       "<style scoped>\n",
       "    .dataframe tbody tr th:only-of-type {\n",
       "        vertical-align: middle;\n",
       "    }\n",
       "\n",
       "    .dataframe tbody tr th {\n",
       "        vertical-align: top;\n",
       "    }\n",
       "\n",
       "    .dataframe thead th {\n",
       "        text-align: right;\n",
       "    }\n",
       "</style>\n",
       "<table border=\"1\" class=\"dataframe\">\n",
       "  <thead>\n",
       "    <tr style=\"text-align: right;\">\n",
       "      <th></th>\n",
       "      <th>urls</th>\n",
       "    </tr>\n",
       "  </thead>\n",
       "  <tbody>\n",
       "    <tr>\n",
       "      <th>0</th>\n",
       "      <td>http://www.sudoku.org.uk/DailySudoku.asp?solut...</td>\n",
       "    </tr>\n",
       "    <tr>\n",
       "      <th>1</th>\n",
       "      <td>http://www.sudoku.org.uk/DailySudoku.asp?solut...</td>\n",
       "    </tr>\n",
       "    <tr>\n",
       "      <th>2</th>\n",
       "      <td>http://www.sudoku.org.uk/DailySudoku.asp?solut...</td>\n",
       "    </tr>\n",
       "    <tr>\n",
       "      <th>3</th>\n",
       "      <td>http://www.sudoku.org.uk/DailySudoku.asp?solut...</td>\n",
       "    </tr>\n",
       "    <tr>\n",
       "      <th>4</th>\n",
       "      <td>http://www.sudoku.org.uk/DailySudoku.asp?solut...</td>\n",
       "    </tr>\n",
       "    <tr>\n",
       "      <th>5</th>\n",
       "      <td>http://www.sudoku.org.uk/DailySudoku.asp?solut...</td>\n",
       "    </tr>\n",
       "    <tr>\n",
       "      <th>6</th>\n",
       "      <td>http://www.sudoku.org.uk/DailySudoku.asp?solut...</td>\n",
       "    </tr>\n",
       "    <tr>\n",
       "      <th>7</th>\n",
       "      <td>http://www.sudoku.org.uk/DailySudoku.asp?solut...</td>\n",
       "    </tr>\n",
       "  </tbody>\n",
       "</table>\n",
       "</div>"
      ],
      "text/plain": [
       "                                                urls\n",
       "0  http://www.sudoku.org.uk/DailySudoku.asp?solut...\n",
       "1  http://www.sudoku.org.uk/DailySudoku.asp?solut...\n",
       "2  http://www.sudoku.org.uk/DailySudoku.asp?solut...\n",
       "3  http://www.sudoku.org.uk/DailySudoku.asp?solut...\n",
       "4  http://www.sudoku.org.uk/DailySudoku.asp?solut...\n",
       "5  http://www.sudoku.org.uk/DailySudoku.asp?solut...\n",
       "6  http://www.sudoku.org.uk/DailySudoku.asp?solut...\n",
       "7  http://www.sudoku.org.uk/DailySudoku.asp?solut..."
      ]
     },
     "execution_count": 34,
     "metadata": {},
     "output_type": "execute_result"
    }
   ],
   "source": [
    "df_urls"
   ]
  },
  {
   "cell_type": "markdown",
   "metadata": {},
   "source": [
    "#### before Mar 7 of 2006 location 5010 there are not registers about the players or the average time in the website, for this reason we're cut this urls "
   ]
  },
  {
   "cell_type": "code",
   "execution_count": 35,
   "metadata": {},
   "outputs": [],
   "source": [
    "# index = df_urls.index[df_urls['urls'].str.contains('=7/3/2006', regex=False)]"
   ]
  },
  {
   "cell_type": "code",
   "execution_count": 36,
   "metadata": {},
   "outputs": [],
   "source": [
    "# print(index[0])"
   ]
  },
  {
   "cell_type": "code",
   "execution_count": 37,
   "metadata": {},
   "outputs": [],
   "source": [
    "\n",
    "# \n"
   ]
  },
  {
   "cell_type": "code",
   "execution_count": 38,
   "metadata": {},
   "outputs": [],
   "source": [
    "# new_urls.shape"
   ]
  },
  {
   "cell_type": "code",
   "execution_count": 39,
   "metadata": {},
   "outputs": [],
   "source": [
    "# #Export to csv\n",
    "# new_urls.to_csv('new_urls.csv')"
   ]
  },
  {
   "cell_type": "markdown",
   "metadata": {},
   "source": [
    "# Extract Data"
   ]
  },
  {
   "cell_type": "code",
   "execution_count": 40,
   "metadata": {},
   "outputs": [
    {
     "name": "stderr",
     "output_type": "stream",
     "text": [
      "100%|██████████| 8/8 [00:02<00:00,  3.06it/s]\n"
     ]
    }
   ],
   "source": [
    "urls, level, people,av_time, unit, sudoku, solution = consolidate(df_urls['urls'])"
   ]
  },
  {
   "cell_type": "markdown",
   "metadata": {
    "colab_type": "text",
    "id": "gTxohNqsG1f8"
   },
   "source": [
    "# Create Dataframe"
   ]
  },
  {
   "cell_type": "code",
   "execution_count": 41,
   "metadata": {
    "colab": {},
    "colab_type": "code",
    "id": "ktdQd4jGxv-m"
   },
   "outputs": [],
   "source": [
    "df = pd.DataFrame(list(zip(urls, level, people,av_time, unit, sudoku, solution)), \n",
    "               columns =['URL', 'Level','People','Average-Time', 'Unit-Time', 'Sudoku', 'Solution']) "
   ]
  },
  {
   "cell_type": "code",
   "execution_count": 42,
   "metadata": {
    "colab": {
     "base_uri": "https://localhost:8080/",
     "height": 326
    },
    "colab_type": "code",
    "id": "B4MmhMSmzSv8",
    "outputId": "721dd156-3889-4590-b0db-671c0b32547c"
   },
   "outputs": [
    {
     "data": {
      "text/html": [
       "<div>\n",
       "<style scoped>\n",
       "    .dataframe tbody tr th:only-of-type {\n",
       "        vertical-align: middle;\n",
       "    }\n",
       "\n",
       "    .dataframe tbody tr th {\n",
       "        vertical-align: top;\n",
       "    }\n",
       "\n",
       "    .dataframe thead th {\n",
       "        text-align: right;\n",
       "    }\n",
       "</style>\n",
       "<table border=\"1\" class=\"dataframe\">\n",
       "  <thead>\n",
       "    <tr style=\"text-align: right;\">\n",
       "      <th></th>\n",
       "      <th>URL</th>\n",
       "      <th>Level</th>\n",
       "      <th>People</th>\n",
       "      <th>Average-Time</th>\n",
       "      <th>Unit-Time</th>\n",
       "      <th>Sudoku</th>\n",
       "      <th>Solution</th>\n",
       "    </tr>\n",
       "  </thead>\n",
       "  <tbody>\n",
       "    <tr>\n",
       "      <th>0</th>\n",
       "      <td>http://www.sudoku.org.uk/DailySudoku.asp?solut...</td>\n",
       "      <td>Gentle</td>\n",
       "      <td>283</td>\n",
       "      <td>12</td>\n",
       "      <td>minutes</td>\n",
       "      <td>..7..34....17528......8.....4.5...3.1.2...5.8....</td>\n",
       "      <td>9871634254317528696259843718495167321623795487...</td>\n",
       "    </tr>\n",
       "    <tr>\n",
       "      <th>1</th>\n",
       "      <td>http://www.sudoku.org.uk/DailySudoku.asp?solut...</td>\n",
       "      <td>Diabolical</td>\n",
       "      <td>238</td>\n",
       "      <td>30</td>\n",
       "      <td>minutes</td>\n",
       "      <td>.6...3.7.....6.1.49.......3..97.45..7...1...9....</td>\n",
       "      <td>8641239753259671849175486232897345617462158391...</td>\n",
       "    </tr>\n",
       "    <tr>\n",
       "      <th>2</th>\n",
       "      <td>http://www.sudoku.org.uk/DailySudoku.asp?solut...</td>\n",
       "      <td>Moderate</td>\n",
       "      <td>274</td>\n",
       "      <td>14</td>\n",
       "      <td>minutes</td>\n",
       "      <td>.54....8.....4..7.79...8.....26..1....35..2......</td>\n",
       "      <td>1547639823289456717962183459726341588435712965...</td>\n",
       "    </tr>\n",
       "    <tr>\n",
       "      <th>3</th>\n",
       "      <td>http://www.sudoku.org.uk/DailySudoku.asp?solut...</td>\n",
       "      <td>Diabolical</td>\n",
       "      <td>244</td>\n",
       "      <td>28</td>\n",
       "      <td>minutes</td>\n",
       "      <td>..2...9......425.....751...4.......63.7...8..8...</td>\n",
       "      <td>5126389477639425819847516234218953763571268948...</td>\n",
       "    </tr>\n",
       "    <tr>\n",
       "      <th>4</th>\n",
       "      <td>http://www.sudoku.org.uk/DailySudoku.asp?solut...</td>\n",
       "      <td>Tough</td>\n",
       "      <td>251</td>\n",
       "      <td>27</td>\n",
       "      <td>minutes</td>\n",
       "      <td>23..6...8.9.....5.....4....1....4..3..72.15..5...</td>\n",
       "      <td>2359674184983127566715482391296548733872915645...</td>\n",
       "    </tr>\n",
       "  </tbody>\n",
       "</table>\n",
       "</div>"
      ],
      "text/plain": [
       "                                                 URL       Level People  \\\n",
       "0  http://www.sudoku.org.uk/DailySudoku.asp?solut...      Gentle    283   \n",
       "1  http://www.sudoku.org.uk/DailySudoku.asp?solut...  Diabolical    238   \n",
       "2  http://www.sudoku.org.uk/DailySudoku.asp?solut...    Moderate    274   \n",
       "3  http://www.sudoku.org.uk/DailySudoku.asp?solut...  Diabolical    244   \n",
       "4  http://www.sudoku.org.uk/DailySudoku.asp?solut...       Tough    251   \n",
       "\n",
       "  Average-Time Unit-Time                                             Sudoku  \\\n",
       "0           12   minutes  ..7..34....17528......8.....4.5...3.1.2...5.8....   \n",
       "1           30   minutes  .6...3.7.....6.1.49.......3..97.45..7...1...9....   \n",
       "2           14   minutes  .54....8.....4..7.79...8.....26..1....35..2......   \n",
       "3           28   minutes  ..2...9......425.....751...4.......63.7...8..8...   \n",
       "4           27   minutes  23..6...8.9.....5.....4....1....4..3..72.15..5...   \n",
       "\n",
       "                                            Solution  \n",
       "0  9871634254317528696259843718495167321623795487...  \n",
       "1  8641239753259671849175486232897345617462158391...  \n",
       "2  1547639823289456717962183459726341588435712965...  \n",
       "3  5126389477639425819847516234218953763571268948...  \n",
       "4  2359674184983127566715482391296548733872915645...  "
      ]
     },
     "execution_count": 42,
     "metadata": {},
     "output_type": "execute_result"
    }
   ],
   "source": [
    "df.head()"
   ]
  },
  {
   "cell_type": "code",
   "execution_count": 43,
   "metadata": {},
   "outputs": [
    {
     "data": {
      "text/plain": [
       "(8, 7)"
      ]
     },
     "execution_count": 43,
     "metadata": {},
     "output_type": "execute_result"
    }
   ],
   "source": [
    "df.shape"
   ]
  },
  {
   "cell_type": "code",
   "execution_count": 44,
   "metadata": {},
   "outputs": [
    {
     "data": {
      "text/plain": [
       "8"
      ]
     },
     "execution_count": 44,
     "metadata": {},
     "output_type": "execute_result"
    }
   ],
   "source": [
    "len(df['Sudoku'].value_counts())"
   ]
  },
  {
   "cell_type": "code",
   "execution_count": 45,
   "metadata": {},
   "outputs": [
    {
     "data": {
      "text/plain": [
       "8"
      ]
     },
     "execution_count": 45,
     "metadata": {},
     "output_type": "execute_result"
    }
   ],
   "source": [
    "len(df['Solution'].value_counts())"
   ]
  },
  {
   "cell_type": "markdown",
   "metadata": {},
   "source": [
    "## Splititng DataFrame \n",
    "#### DF1: URL,Level, unit-time,  and solution \n",
    "#### DF2: People, Average-Time and Sudoku\n"
   ]
  },
  {
   "cell_type": "code",
   "execution_count": 46,
   "metadata": {},
   "outputs": [],
   "source": [
    "df['Id'] = df.index"
   ]
  },
  {
   "cell_type": "code",
   "execution_count": 47,
   "metadata": {},
   "outputs": [
    {
     "data": {
      "text/html": [
       "<div>\n",
       "<style scoped>\n",
       "    .dataframe tbody tr th:only-of-type {\n",
       "        vertical-align: middle;\n",
       "    }\n",
       "\n",
       "    .dataframe tbody tr th {\n",
       "        vertical-align: top;\n",
       "    }\n",
       "\n",
       "    .dataframe thead th {\n",
       "        text-align: right;\n",
       "    }\n",
       "</style>\n",
       "<table border=\"1\" class=\"dataframe\">\n",
       "  <thead>\n",
       "    <tr style=\"text-align: right;\">\n",
       "      <th></th>\n",
       "      <th>URL</th>\n",
       "      <th>Level</th>\n",
       "      <th>People</th>\n",
       "      <th>Average-Time</th>\n",
       "      <th>Unit-Time</th>\n",
       "      <th>Sudoku</th>\n",
       "      <th>Solution</th>\n",
       "      <th>Id</th>\n",
       "    </tr>\n",
       "  </thead>\n",
       "  <tbody>\n",
       "    <tr>\n",
       "      <th>0</th>\n",
       "      <td>http://www.sudoku.org.uk/DailySudoku.asp?solut...</td>\n",
       "      <td>Gentle</td>\n",
       "      <td>283</td>\n",
       "      <td>12</td>\n",
       "      <td>minutes</td>\n",
       "      <td>..7..34....17528......8.....4.5...3.1.2...5.8....</td>\n",
       "      <td>9871634254317528696259843718495167321623795487...</td>\n",
       "      <td>0</td>\n",
       "    </tr>\n",
       "    <tr>\n",
       "      <th>1</th>\n",
       "      <td>http://www.sudoku.org.uk/DailySudoku.asp?solut...</td>\n",
       "      <td>Diabolical</td>\n",
       "      <td>238</td>\n",
       "      <td>30</td>\n",
       "      <td>minutes</td>\n",
       "      <td>.6...3.7.....6.1.49.......3..97.45..7...1...9....</td>\n",
       "      <td>8641239753259671849175486232897345617462158391...</td>\n",
       "      <td>1</td>\n",
       "    </tr>\n",
       "    <tr>\n",
       "      <th>2</th>\n",
       "      <td>http://www.sudoku.org.uk/DailySudoku.asp?solut...</td>\n",
       "      <td>Moderate</td>\n",
       "      <td>274</td>\n",
       "      <td>14</td>\n",
       "      <td>minutes</td>\n",
       "      <td>.54....8.....4..7.79...8.....26..1....35..2......</td>\n",
       "      <td>1547639823289456717962183459726341588435712965...</td>\n",
       "      <td>2</td>\n",
       "    </tr>\n",
       "    <tr>\n",
       "      <th>3</th>\n",
       "      <td>http://www.sudoku.org.uk/DailySudoku.asp?solut...</td>\n",
       "      <td>Diabolical</td>\n",
       "      <td>244</td>\n",
       "      <td>28</td>\n",
       "      <td>minutes</td>\n",
       "      <td>..2...9......425.....751...4.......63.7...8..8...</td>\n",
       "      <td>5126389477639425819847516234218953763571268948...</td>\n",
       "      <td>3</td>\n",
       "    </tr>\n",
       "    <tr>\n",
       "      <th>4</th>\n",
       "      <td>http://www.sudoku.org.uk/DailySudoku.asp?solut...</td>\n",
       "      <td>Tough</td>\n",
       "      <td>251</td>\n",
       "      <td>27</td>\n",
       "      <td>minutes</td>\n",
       "      <td>23..6...8.9.....5.....4....1....4..3..72.15..5...</td>\n",
       "      <td>2359674184983127566715482391296548733872915645...</td>\n",
       "      <td>4</td>\n",
       "    </tr>\n",
       "  </tbody>\n",
       "</table>\n",
       "</div>"
      ],
      "text/plain": [
       "                                                 URL       Level People  \\\n",
       "0  http://www.sudoku.org.uk/DailySudoku.asp?solut...      Gentle    283   \n",
       "1  http://www.sudoku.org.uk/DailySudoku.asp?solut...  Diabolical    238   \n",
       "2  http://www.sudoku.org.uk/DailySudoku.asp?solut...    Moderate    274   \n",
       "3  http://www.sudoku.org.uk/DailySudoku.asp?solut...  Diabolical    244   \n",
       "4  http://www.sudoku.org.uk/DailySudoku.asp?solut...       Tough    251   \n",
       "\n",
       "  Average-Time Unit-Time                                             Sudoku  \\\n",
       "0           12   minutes  ..7..34....17528......8.....4.5...3.1.2...5.8....   \n",
       "1           30   minutes  .6...3.7.....6.1.49.......3..97.45..7...1...9....   \n",
       "2           14   minutes  .54....8.....4..7.79...8.....26..1....35..2......   \n",
       "3           28   minutes  ..2...9......425.....751...4.......63.7...8..8...   \n",
       "4           27   minutes  23..6...8.9.....5.....4....1....4..3..72.15..5...   \n",
       "\n",
       "                                            Solution  Id  \n",
       "0  9871634254317528696259843718495167321623795487...   0  \n",
       "1  8641239753259671849175486232897345617462158391...   1  \n",
       "2  1547639823289456717962183459726341588435712965...   2  \n",
       "3  5126389477639425819847516234218953763571268948...   3  \n",
       "4  2359674184983127566715482391296548733872915645...   4  "
      ]
     },
     "execution_count": 47,
     "metadata": {},
     "output_type": "execute_result"
    }
   ],
   "source": [
    "df.head()"
   ]
  },
  {
   "cell_type": "code",
   "execution_count": 37,
   "metadata": {},
   "outputs": [],
   "source": [
    "df1 = df[['Id','URL', 'Level','Unit-Time','Solution']]\n",
    "df2 = df[['Id','People','Average-Time','Sudoku']]"
   ]
  },
  {
   "cell_type": "code",
   "execution_count": 39,
   "metadata": {},
   "outputs": [
    {
     "data": {
      "text/plain": [
       "((5014, 5), (5014, 4))"
      ]
     },
     "execution_count": 39,
     "metadata": {},
     "output_type": "execute_result"
    }
   ],
   "source": [
    "df1.shape, df2.shape"
   ]
  },
  {
   "cell_type": "code",
   "execution_count": 40,
   "metadata": {},
   "outputs": [
    {
     "data": {
      "text/html": [
       "<div>\n",
       "<style scoped>\n",
       "    .dataframe tbody tr th:only-of-type {\n",
       "        vertical-align: middle;\n",
       "    }\n",
       "\n",
       "    .dataframe tbody tr th {\n",
       "        vertical-align: top;\n",
       "    }\n",
       "\n",
       "    .dataframe thead th {\n",
       "        text-align: right;\n",
       "    }\n",
       "</style>\n",
       "<table border=\"1\" class=\"dataframe\">\n",
       "  <thead>\n",
       "    <tr style=\"text-align: right;\">\n",
       "      <th></th>\n",
       "      <th>Id</th>\n",
       "      <th>URL</th>\n",
       "      <th>Level</th>\n",
       "      <th>Unit-Time</th>\n",
       "      <th>Solution</th>\n",
       "    </tr>\n",
       "  </thead>\n",
       "  <tbody>\n",
       "    <tr>\n",
       "      <th>0</th>\n",
       "      <td>0</td>\n",
       "      <td>http://www.sudoku.org.uk/DailySudoku.asp?solut...</td>\n",
       "      <td>Moderate</td>\n",
       "      <td>minutes</td>\n",
       "      <td>1547639823289456717962183459726341588435712965...</td>\n",
       "    </tr>\n",
       "    <tr>\n",
       "      <th>1</th>\n",
       "      <td>1</td>\n",
       "      <td>http://www.sudoku.org.uk/DailySudoku.asp?solut...</td>\n",
       "      <td>Diabolical</td>\n",
       "      <td>minutes</td>\n",
       "      <td>1547639823289456717962183459726341588435712965...</td>\n",
       "    </tr>\n",
       "    <tr>\n",
       "      <th>2</th>\n",
       "      <td>2</td>\n",
       "      <td>http://www.sudoku.org.uk/DailySudoku.asp?solut...</td>\n",
       "      <td>Tough</td>\n",
       "      <td>minutes</td>\n",
       "      <td>1547639823289456717962183459726341588435712965...</td>\n",
       "    </tr>\n",
       "    <tr>\n",
       "      <th>3</th>\n",
       "      <td>3</td>\n",
       "      <td>http://www.sudoku.org.uk/DailySudoku.asp?solut...</td>\n",
       "      <td>Moderate</td>\n",
       "      <td>minutes</td>\n",
       "      <td>1547639823289456717962183459726341588435712965...</td>\n",
       "    </tr>\n",
       "    <tr>\n",
       "      <th>4</th>\n",
       "      <td>4</td>\n",
       "      <td>http://www.sudoku.org.uk/DailySudoku.asp?solut...</td>\n",
       "      <td>Moderate</td>\n",
       "      <td>minutes</td>\n",
       "      <td>1547639823289456717962183459726341588435712965...</td>\n",
       "    </tr>\n",
       "  </tbody>\n",
       "</table>\n",
       "</div>"
      ],
      "text/plain": [
       "   Id                                                URL       Level  \\\n",
       "0   0  http://www.sudoku.org.uk/DailySudoku.asp?solut...    Moderate   \n",
       "1   1  http://www.sudoku.org.uk/DailySudoku.asp?solut...  Diabolical   \n",
       "2   2  http://www.sudoku.org.uk/DailySudoku.asp?solut...       Tough   \n",
       "3   3  http://www.sudoku.org.uk/DailySudoku.asp?solut...    Moderate   \n",
       "4   4  http://www.sudoku.org.uk/DailySudoku.asp?solut...    Moderate   \n",
       "\n",
       "  Unit-Time                                           Solution  \n",
       "0   minutes  1547639823289456717962183459726341588435712965...  \n",
       "1   minutes  1547639823289456717962183459726341588435712965...  \n",
       "2   minutes  1547639823289456717962183459726341588435712965...  \n",
       "3   minutes  1547639823289456717962183459726341588435712965...  \n",
       "4   minutes  1547639823289456717962183459726341588435712965...  "
      ]
     },
     "execution_count": 40,
     "metadata": {},
     "output_type": "execute_result"
    }
   ],
   "source": [
    "df1.head()"
   ]
  },
  {
   "cell_type": "code",
   "execution_count": 41,
   "metadata": {},
   "outputs": [
    {
     "data": {
      "text/html": [
       "<div>\n",
       "<style scoped>\n",
       "    .dataframe tbody tr th:only-of-type {\n",
       "        vertical-align: middle;\n",
       "    }\n",
       "\n",
       "    .dataframe tbody tr th {\n",
       "        vertical-align: top;\n",
       "    }\n",
       "\n",
       "    .dataframe thead th {\n",
       "        text-align: right;\n",
       "    }\n",
       "</style>\n",
       "<table border=\"1\" class=\"dataframe\">\n",
       "  <thead>\n",
       "    <tr style=\"text-align: right;\">\n",
       "      <th></th>\n",
       "      <th>Id</th>\n",
       "      <th>People</th>\n",
       "      <th>Average-Time</th>\n",
       "      <th>Sudoku</th>\n",
       "    </tr>\n",
       "  </thead>\n",
       "  <tbody>\n",
       "    <tr>\n",
       "      <th>0</th>\n",
       "      <td>0</td>\n",
       "      <td>274</td>\n",
       "      <td>14</td>\n",
       "      <td>.54....8.....4..7.79...8.....26..1....35..2......</td>\n",
       "    </tr>\n",
       "    <tr>\n",
       "      <th>1</th>\n",
       "      <td>1</td>\n",
       "      <td>244</td>\n",
       "      <td>28</td>\n",
       "      <td>.54....8.....4..7.79...8.....26..1....35..2......</td>\n",
       "    </tr>\n",
       "    <tr>\n",
       "      <th>2</th>\n",
       "      <td>2</td>\n",
       "      <td>251</td>\n",
       "      <td>27</td>\n",
       "      <td>.54....8.....4..7.79...8.....26..1....35..2......</td>\n",
       "    </tr>\n",
       "    <tr>\n",
       "      <th>3</th>\n",
       "      <td>3</td>\n",
       "      <td>264</td>\n",
       "      <td>15</td>\n",
       "      <td>.54....8.....4..7.79...8.....26..1....35..2......</td>\n",
       "    </tr>\n",
       "    <tr>\n",
       "      <th>4</th>\n",
       "      <td>4</td>\n",
       "      <td>285</td>\n",
       "      <td>16</td>\n",
       "      <td>.54....8.....4..7.79...8.....26..1....35..2......</td>\n",
       "    </tr>\n",
       "  </tbody>\n",
       "</table>\n",
       "</div>"
      ],
      "text/plain": [
       "   Id People Average-Time                                             Sudoku\n",
       "0   0    274           14  .54....8.....4..7.79...8.....26..1....35..2......\n",
       "1   1    244           28  .54....8.....4..7.79...8.....26..1....35..2......\n",
       "2   2    251           27  .54....8.....4..7.79...8.....26..1....35..2......\n",
       "3   3    264           15  .54....8.....4..7.79...8.....26..1....35..2......\n",
       "4   4    285           16  .54....8.....4..7.79...8.....26..1....35..2......"
      ]
     },
     "execution_count": 41,
     "metadata": {},
     "output_type": "execute_result"
    }
   ],
   "source": [
    "df2.head()"
   ]
  },
  {
   "cell_type": "markdown",
   "metadata": {
    "colab_type": "text",
    "id": "R18LaoxTG4zH"
   },
   "source": [
    "# Function to visualize Sudoku"
   ]
  },
  {
   "cell_type": "code",
   "execution_count": 23,
   "metadata": {
    "colab": {},
    "colab_type": "code",
    "id": "DVss-SVUu_qU"
   },
   "outputs": [],
   "source": [
    "def split(element): \n",
    "    return [char for char in element]  \n",
    "\n",
    "def transform_matrix(element):\n",
    "  return np.reshape(split(element), (-1, 9))"
   ]
  },
  {
   "cell_type": "code",
   "execution_count": 48,
   "metadata": {
    "colab": {
     "base_uri": "https://localhost:8080/",
     "height": 170
    },
    "colab_type": "code",
    "id": "D38eCqXJOrJ1",
    "outputId": "96bb6d53-bedf-4881-b175-3354bd93a06a"
   },
   "outputs": [
    {
     "data": {
      "text/plain": [
       "array([['9', '8', '7', '1', '6', '3', '4', '2', '5'],\n",
       "       ['4', '3', '1', '7', '5', '2', '8', '6', '9'],\n",
       "       ['6', '2', '5', '9', '8', '4', '3', '7', '1'],\n",
       "       ['8', '4', '9', '5', '1', '6', '7', '3', '2'],\n",
       "       ['1', '6', '2', '3', '7', '9', '5', '4', '8'],\n",
       "       ['7', '5', '3', '4', '2', '8', '9', '1', '6'],\n",
       "       ['2', '9', '4', '6', '3', '5', '1', '8', '7'],\n",
       "       ['3', '7', '6', '8', '9', '1', '2', '5', '4'],\n",
       "       ['5', '1', '8', '2', '4', '7', '6', '9', '3']], dtype='<U1')"
      ]
     },
     "execution_count": 48,
     "metadata": {},
     "output_type": "execute_result"
    }
   ],
   "source": [
    "transform_matrix(df.Solution[0])"
   ]
  },
  {
   "cell_type": "code",
   "execution_count": 49,
   "metadata": {
    "colab": {
     "base_uri": "https://localhost:8080/",
     "height": 170
    },
    "colab_type": "code",
    "id": "L4MusQFO_tbJ",
    "outputId": "54ffb853-4a58-4950-dc13-b235199b333c"
   },
   "outputs": [
    {
     "data": {
      "text/plain": [
       "array([['.', '.', '7', '.', '.', '3', '4', '.', '.'],\n",
       "       ['.', '.', '1', '7', '5', '2', '8', '.', '.'],\n",
       "       ['.', '.', '.', '.', '8', '.', '.', '.', '.'],\n",
       "       ['.', '4', '.', '5', '.', '.', '.', '3', '.'],\n",
       "       ['1', '.', '2', '.', '.', '.', '5', '.', '8'],\n",
       "       ['.', '5', '.', '.', '.', '8', '.', '1', '.'],\n",
       "       ['.', '.', '.', '.', '3', '.', '.', '.', '.'],\n",
       "       ['.', '.', '6', '8', '9', '1', '2', '.', '.'],\n",
       "       ['.', '.', '8', '2', '.', '.', '6', '.', '.']], dtype='<U1')"
      ]
     },
     "execution_count": 49,
     "metadata": {},
     "output_type": "execute_result"
    }
   ],
   "source": [
    "transform_matrix(df.Sudoku[0])"
   ]
  },
  {
   "cell_type": "code",
   "execution_count": 50,
   "metadata": {},
   "outputs": [
    {
     "data": {
      "text/plain": [
       "array([['.', '6', '.', '.', '.', '3', '.', '7', '.'],\n",
       "       ['.', '.', '.', '.', '6', '.', '1', '.', '4'],\n",
       "       ['9', '.', '.', '.', '.', '.', '.', '.', '3'],\n",
       "       ['.', '.', '9', '7', '.', '4', '5', '.', '.'],\n",
       "       ['7', '.', '.', '.', '1', '.', '.', '.', '9'],\n",
       "       ['.', '.', '3', '8', '.', '6', '2', '.', '.'],\n",
       "       ['4', '.', '.', '.', '.', '.', '.', '.', '2'],\n",
       "       ['5', '.', '1', '.', '8', '.', '.', '.', '.'],\n",
       "       ['.', '3', '.', '4', '.', '.', '.', '1', '.']], dtype='<U1')"
      ]
     },
     "execution_count": 50,
     "metadata": {},
     "output_type": "execute_result"
    }
   ],
   "source": [
    "transform_matrix(df.Sudoku[1])"
   ]
  },
  {
   "cell_type": "markdown",
   "metadata": {
    "colab_type": "text",
    "id": "so9CjnefG9EH"
   },
   "source": [
    "# Export Data Frame"
   ]
  },
  {
   "cell_type": "code",
   "execution_count": 22,
   "metadata": {
    "colab": {},
    "colab_type": "code",
    "id": "4XgPA2gD_wpx"
   },
   "outputs": [],
   "source": [
    "df.to_csv('sudoku_uk_test.csv')"
   ]
  },
  {
   "cell_type": "code",
   "execution_count": 42,
   "metadata": {},
   "outputs": [],
   "source": [
    "df1.to_csv('df1.csv')\n",
    "df2.to_csv('df2.csv')"
   ]
  },
  {
   "cell_type": "code",
   "execution_count": null,
   "metadata": {},
   "outputs": [],
   "source": []
  }
 ],
 "metadata": {
  "colab": {
   "name": "Final_Scraping_UK.ipynb",
   "provenance": [],
   "toc_visible": true
  },
  "kernelspec": {
   "display_name": "Python 3",
   "language": "python",
   "name": "python3"
  },
  "language_info": {
   "codemirror_mode": {
    "name": "ipython",
    "version": 3
   },
   "file_extension": ".py",
   "mimetype": "text/x-python",
   "name": "python",
   "nbconvert_exporter": "python",
   "pygments_lexer": "ipython3",
   "version": "3.6.8"
  }
 },
 "nbformat": 4,
 "nbformat_minor": 4
}
