{
 "cells": [
  {
   "cell_type": "code",
   "execution_count": null,
   "metadata": {
    "colab": {
     "base_uri": "https://localhost:8080/",
     "height": 122
    },
    "colab_type": "code",
    "id": "xamzcpGRpGy7",
    "outputId": "6f871dc6-2758-41c6-dead-65791751246f"
   },
   "outputs": [
    {
     "name": "stdout",
     "output_type": "stream",
     "text": [
      "Requirement already satisfied: requests in /usr/local/lib/python3.6/dist-packages (2.21.0)\n",
      "Requirement already satisfied: idna<2.9,>=2.5 in /usr/local/lib/python3.6/dist-packages (from requests) (2.8)\n",
      "Requirement already satisfied: chardet<3.1.0,>=3.0.2 in /usr/local/lib/python3.6/dist-packages (from requests) (3.0.4)\n",
      "Requirement already satisfied: urllib3<1.25,>=1.21.1 in /usr/local/lib/python3.6/dist-packages (from requests) (1.24.3)\n",
      "Requirement already satisfied: certifi>=2017.4.17 in /usr/local/lib/python3.6/dist-packages (from requests) (2019.9.11)\n"
     ]
    }
   ],
   "source": [
    "!pip install requests"
   ]
  },
  {
   "cell_type": "code",
   "execution_count": null,
   "metadata": {
    "colab": {
     "base_uri": "https://localhost:8080/",
     "height": 88
    },
    "colab_type": "code",
    "id": "IRHfNLYSpkXq",
    "outputId": "162238a6-0111-43e1-8a8a-49029c0f07e4"
   },
   "outputs": [
    {
     "name": "stdout",
     "output_type": "stream",
     "text": [
      "Requirement already satisfied: html5lib in /usr/local/lib/python3.6/dist-packages (1.0.1)\n",
      "Requirement already satisfied: webencodings in /usr/local/lib/python3.6/dist-packages (from html5lib) (0.5.1)\n",
      "Requirement already satisfied: six>=1.9 in /usr/local/lib/python3.6/dist-packages (from html5lib) (1.12.0)\n"
     ]
    }
   ],
   "source": [
    "!pip install html5lib"
   ]
  },
  {
   "cell_type": "code",
   "execution_count": null,
   "metadata": {
    "colab": {
     "base_uri": "https://localhost:8080/",
     "height": 71
    },
    "colab_type": "code",
    "id": "-yI6gJrrpmM6",
    "outputId": "289b6b75-b48e-4b43-bd3f-08a044a5b41a"
   },
   "outputs": [
    {
     "name": "stdout",
     "output_type": "stream",
     "text": [
      "Requirement already satisfied: bs4 in /usr/local/lib/python3.6/dist-packages (0.0.1)\n",
      "Requirement already satisfied: beautifulsoup4 in /usr/local/lib/python3.6/dist-packages (from bs4) (4.6.3)\n"
     ]
    }
   ],
   "source": [
    "!pip install bs4"
   ]
  },
  {
   "cell_type": "code",
   "execution_count": 8,
   "metadata": {
    "colab": {},
    "colab_type": "code",
    "id": "EllBIQEJn4FU"
   },
   "outputs": [],
   "source": [
    "# Import Libraries\n",
    "from bs4 import BeautifulSoup\n",
    "#import urllib3\n",
    "import requests \n",
    "import datetime\n",
    "import numpy as np\n",
    "import pandas as pd\n",
    "from urllib.request import urlopen \n",
    "from urllib.error import HTTPError \n",
    "from urllib.error import URLError\n",
    "from tqdm import tqdm"
   ]
  },
  {
   "cell_type": "code",
   "execution_count": null,
   "metadata": {
    "colab": {},
    "colab_type": "code",
    "id": "vnjOUIiN4N8a"
   },
   "outputs": [],
   "source": [
    "# Get all html code from webpage\n",
    "\n",
    "URL = \"http://www.sudoku.org.uk/DailySudoku.asp?solution=please&day=11/25/2019\"\n",
    "r = requests.get(URL) \n",
    "soup = BeautifulSoup(r.content,'html5lib')"
   ]
  },
  {
   "cell_type": "code",
   "execution_count": null,
   "metadata": {
    "colab": {},
    "colab_type": "code",
    "id": "9Wb2DqbOoKN2"
   },
   "outputs": [],
   "source": [
    "# def get_html(daten):\n",
    "#   URL = \"http://www.sudoku.org.uk/DailySudoku.asp?solution=please&day=\"+daten\n",
    "#   #URL = \"http://www.sudoku.org.uk/DailySudoku.asp?solution=please&day=11/24/2003\"\n",
    "#   r = requests.get(URL) \n",
    "#   return BeautifulSoup(r.content,'html5lib')"
   ]
  },
  {
   "cell_type": "code",
   "execution_count": null,
   "metadata": {
    "colab": {},
    "colab_type": "code",
    "id": "kPWsFYWUuYyk"
   },
   "outputs": [],
   "source": [
    "# Print code\n",
    "print(soup.prettify())"
   ]
  },
  {
   "cell_type": "code",
   "execution_count": 267,
   "metadata": {
    "colab": {
     "base_uri": "https://localhost:8080/",
     "height": 34
    },
    "colab_type": "code",
    "id": "Gv8ncWQ8aAJP",
    "outputId": "214442a6-1ef3-4c88-df0f-de6b60f4a9f8"
   },
   "outputs": [
    {
     "name": "stdout",
     "output_type": "stream",
     "text": [
      "1\n"
     ]
    }
   ],
   "source": [
    "# make a list with all days to extract in URL\n",
    "dates = []\n",
    "for i in range(2,3):\n",
    "  d = datetime.date.today()- datetime.timedelta(days = i)\n",
    "  dates.append(str(d.day)+'/'+str(d.month) +'/'+ str(d.year))\n",
    "print(len(dates))"
   ]
  },
  {
   "cell_type": "code",
   "execution_count": 231,
   "metadata": {
    "colab": {
     "base_uri": "https://localhost:8080/",
     "height": 34
    },
    "colab_type": "code",
    "id": "4bwDil9YaEzs",
    "outputId": "012caf05-c8cd-460f-8886-67e1036aea55"
   },
   "outputs": [
    {
     "data": {
      "text/plain": [
       "'11/25/2019'"
      ]
     },
     "execution_count": 231,
     "metadata": {
      "tags": []
     },
     "output_type": "execute_result"
    }
   ],
   "source": [
    "dates[0]"
   ]
  },
  {
   "cell_type": "code",
   "execution_count": null,
   "metadata": {
    "colab": {},
    "colab_type": "code",
    "id": "V3ab9x39PAsq"
   },
   "outputs": [],
   "source": [
    "solution =[]\n",
    "sudoku=[]\n",
    "for date in dates:\n",
    "  a=[]\n",
    "  b=[]\n",
    "  #soup = get_html(date)\n",
    "  if soup.find('h2'):\n",
    "    print('yes')\n",
    "  else:\n",
    "    for link in soup.find_all('td', attrs={'class': ['InnerTDone2','InnerTDone'] }):\n",
    "      if link.attrs['class'] == ['InnerTDone2']:\n",
    "        b.append(link.text)\n",
    "      else:\n",
    "        b.append('.')\n",
    "      a.append(link.text)\n",
    "    sudoku.append(''.join(b))\n",
    "    solution.append(''.join(a))\n",
    " "
   ]
  },
  {
   "cell_type": "code",
   "execution_count": null,
   "metadata": {
    "colab": {},
    "colab_type": "code",
    "id": "BtWKTn8qTzmg"
   },
   "outputs": [],
   "source": [
    "# def get_sudoku(dates):\n",
    "#   sudokus=[]\n",
    "#   given=[]\n",
    "#   for date in dates:\n",
    "#     a=[]\n",
    "#     b=[]\n",
    "#     soup = get_html(date)\n",
    "#     if soup.find('h2'):\n",
    "#       print('yes')\n",
    "#     else:\n",
    "#       for link in soup.find_all('td', attrs={'class': ['InnerTDone2','InnerTDone'] }):\n",
    "#         if link.attrs['class'] == ['InnerTDone2']:\n",
    "#           b.append(1)\n",
    "#         else:\n",
    "#           b.append(0)\n",
    "#         a.append(link.text)\n",
    "#       given.append(b)\n",
    "#       sudokus.append(a)\n",
    "#   return given, sudokus\n",
    " "
   ]
  },
  {
   "cell_type": "code",
   "execution_count": null,
   "metadata": {
    "colab": {},
    "colab_type": "code",
    "id": "gvgP6g2iJH7i"
   },
   "outputs": [],
   "source": [
    "\n",
    "# for url in urls :\n",
    "#   try: \n",
    "#     soup = get_html(url)\n",
    "#     p = list(list(soup.table.td)[2])\n",
    "#     level.append(str(p[1].get_text()).split(\", \")[1].split()[0])\n",
    "#     people.append(str(p[3]).split()[0])\n",
    "#   except:\n",
    "#     print(url)"
   ]
  },
  {
   "cell_type": "code",
   "execution_count": 250,
   "metadata": {
    "colab": {
     "base_uri": "https://localhost:8080/",
     "height": 34
    },
    "colab_type": "code",
    "id": "wMan07twnn3u",
    "outputId": "7a4da5b0-0cd3-4492-929e-907ee9e15c63"
   },
   "outputs": [
    {
     "data": {
      "text/plain": [
       "'..96417..78.9....4...3...........27.4.3...8.1.76...........5...6....3.48..57189..'"
      ]
     },
     "execution_count": 250,
     "metadata": {
      "tags": []
     },
     "output_type": "execute_result"
    }
   ],
   "source": [
    "sudoku[0]"
   ]
  },
  {
   "cell_type": "code",
   "execution_count": 252,
   "metadata": {
    "colab": {
     "base_uri": "https://localhost:8080/",
     "height": 34
    },
    "colab_type": "code",
    "id": "YzvSx6yRnv_j",
    "outputId": "880bc5cd-da06-4eb0-ee4a-9c40380d2be8"
   },
   "outputs": [
    {
     "data": {
      "text/plain": [
       "'239641785781952634564387129958134276423576891176829453892465317617293548345718962'"
      ]
     },
     "execution_count": 252,
     "metadata": {
      "tags": []
     },
     "output_type": "execute_result"
    }
   ],
   "source": [
    "solution[0]"
   ]
  },
  {
   "cell_type": "code",
   "execution_count": null,
   "metadata": {
    "colab": {},
    "colab_type": "code",
    "id": "tapsCC0FteyU"
   },
   "outputs": [],
   "source": [
    "# given, sudokus = get_sudoku(dates)"
   ]
  },
  {
   "cell_type": "code",
   "execution_count": 255,
   "metadata": {
    "colab": {
     "base_uri": "https://localhost:8080/",
     "height": 34
    },
    "colab_type": "code",
    "id": "tct-nyi7o8tm",
    "outputId": "eda548c6-d5ac-4a46-a4ae-a7092364b8aa"
   },
   "outputs": [
    {
     "name": "stdout",
     "output_type": "stream",
     "text": [
      "81\n"
     ]
    }
   ],
   "source": [
    "def split(element): \n",
    "    return [char for char in element]  \n",
    "      \n",
    "\n",
    "print(len(split(sudoku[0])))"
   ]
  },
  {
   "cell_type": "code",
   "execution_count": null,
   "metadata": {
    "colab": {},
    "colab_type": "code",
    "id": "wbM2WPOeo8jV"
   },
   "outputs": [],
   "source": []
  },
  {
   "cell_type": "code",
   "execution_count": null,
   "metadata": {
    "colab": {},
    "colab_type": "code",
    "id": "iXz5lve4o8Ze"
   },
   "outputs": [],
   "source": []
  },
  {
   "cell_type": "code",
   "execution_count": null,
   "metadata": {
    "colab": {},
    "colab_type": "code",
    "id": "iO2WXTDTqGIB"
   },
   "outputs": [],
   "source": [
    "def transform_matrix(element):\n",
    "  \n",
    "  B = np.reshape(split(element), (-1, 9))\n",
    "  print(B)"
   ]
  },
  {
   "cell_type": "code",
   "execution_count": 259,
   "metadata": {
    "colab": {
     "base_uri": "https://localhost:8080/",
     "height": 170
    },
    "colab_type": "code",
    "id": "x-SCrreTr8lN",
    "outputId": "0362fd97-81f0-4e6d-d211-3d48b2b3be59"
   },
   "outputs": [
    {
     "name": "stdout",
     "output_type": "stream",
     "text": [
      "[['2' '3' '9' '6' '4' '1' '7' '8' '5']\n",
      " ['7' '8' '1' '9' '5' '2' '6' '3' '4']\n",
      " ['5' '6' '4' '3' '8' '7' '1' '2' '9']\n",
      " ['9' '5' '8' '1' '3' '4' '2' '7' '6']\n",
      " ['4' '2' '3' '5' '7' '6' '8' '9' '1']\n",
      " ['1' '7' '6' '8' '2' '9' '4' '5' '3']\n",
      " ['8' '9' '2' '4' '6' '5' '3' '1' '7']\n",
      " ['6' '1' '7' '2' '9' '3' '5' '4' '8']\n",
      " ['3' '4' '5' '7' '1' '8' '9' '6' '2']]\n"
     ]
    }
   ],
   "source": [
    "transform_matrix(solution[0])"
   ]
  },
  {
   "cell_type": "code",
   "execution_count": 18,
   "metadata": {
    "colab": {
     "base_uri": "https://localhost:8080/",
     "height": 170
    },
    "colab_type": "code",
    "id": "3HsGmajN9jm7",
    "outputId": "37f0eae6-ae7f-4ef6-a60c-ec0beef549f7"
   },
   "outputs": [
    {
     "data": {
      "text/plain": [
       "array([[0, 0, 1, 1, 0, 0, 1, 0, 0],\n",
       "       [0, 1, 1, 0, 0, 0, 0, 0, 1],\n",
       "       [0, 1, 0, 0, 0, 1, 0, 0, 1],\n",
       "       [1, 0, 0, 1, 1, 0, 0, 0, 0],\n",
       "       [0, 1, 0, 0, 0, 0, 0, 1, 0],\n",
       "       [0, 0, 0, 0, 1, 1, 0, 0, 1],\n",
       "       [1, 1, 0, 1, 0, 0, 0, 1, 0],\n",
       "       [1, 0, 0, 0, 0, 0, 1, 1, 0],\n",
       "       [0, 0, 1, 0, 0, 1, 1, 0, 0]])"
      ]
     },
     "execution_count": 18,
     "metadata": {
      "tags": []
     },
     "output_type": "execute_result"
    }
   ],
   "source": [
    "np.reshape(given[0][:], (-1, 9))"
   ]
  },
  {
   "cell_type": "code",
   "execution_count": 3,
   "metadata": {
    "colab": {
     "base_uri": "https://localhost:8080/",
     "height": 34
    },
    "colab_type": "code",
    "id": "Xk0luLDnKTfX",
    "outputId": "ef36ee77-742b-4d06-9b00-4d233c41062e"
   },
   "outputs": [
    {
     "data": {
      "text/plain": [
       "datetime.date(2019, 11, 26)"
      ]
     },
     "execution_count": 3,
     "metadata": {
      "tags": []
     },
     "output_type": "execute_result"
    }
   ],
   "source": [
    "datetime.date.today()"
   ]
  },
  {
   "cell_type": "code",
   "execution_count": null,
   "metadata": {
    "colab": {},
    "colab_type": "code",
    "id": "Tp3_v3TJAdER"
   },
   "outputs": [],
   "source": [
    "# http://www.sudoku.org.uk/DailySudoku.asp?solution=please&day=22/8/2005"
   ]
  },
  {
   "cell_type": "code",
   "execution_count": null,
   "metadata": {
    "colab": {},
    "colab_type": "code",
    "id": "Mw_3wP_z33lW"
   },
   "outputs": [],
   "source": [
    "# Mondays are Gentle - Today!\n",
    "# Tuesdays are Moderate\n",
    "# Wednesdays are Moderate\n",
    "# Thursdays are Tough\n",
    "# Fridays are Diabolical!\n",
    "# Saturday's puzzle is Moderate\n",
    "# Sundays's puzzle is Diabolical!"
   ]
  },
  {
   "cell_type": "code",
   "execution_count": 31,
   "metadata": {
    "colab": {
     "base_uri": "https://localhost:8080/",
     "height": 34
    },
    "colab_type": "code",
    "id": "rMdjjXR4Oc-1",
    "outputId": "0b817e29-4df1-4c9c-c9ca-d7852df5bf4a"
   },
   "outputs": [
    {
     "name": "stdout",
     "output_type": "stream",
     "text": [
      "sudokuprintable.css\n"
     ]
    }
   ],
   "source": [
    "# extract lo que hay adentro del atributo\n",
    "all_links = soup.find_all(\"link\")\n",
    "for link in all_links:\n",
    "    print(link.get(\"href\"))"
   ]
  },
  {
   "cell_type": "code",
   "execution_count": 262,
   "metadata": {
    "colab": {
     "base_uri": "https://localhost:8080/",
     "height": 34
    },
    "colab_type": "code",
    "id": "9z8q2ZJhPuj0",
    "outputId": "f56f1fa4-8317-4b7a-c819-c315cc700a3e"
   },
   "outputs": [
    {
     "data": {
      "text/plain": [
       "<td width=\"10\"></td>"
      ]
     },
     "execution_count": 262,
     "metadata": {
      "tags": []
     },
     "output_type": "execute_result"
    }
   ],
   "source": [
    "# Print the first 10 rows for sanity check\n",
    "rows = soup.find_all('td')\n",
    "rows[1]"
   ]
  },
  {
   "cell_type": "code",
   "execution_count": 67,
   "metadata": {
    "colab": {
     "base_uri": "https://localhost:8080/",
     "height": 54
    },
    "colab_type": "code",
    "id": "EB6Rj2a0Q0Ka",
    "outputId": "6e5cf825-2f41-47b9-940c-0c30238f3121"
   },
   "outputs": [
    {
     "data": {
      "text/plain": [
       "'\\n\\t\\tDaily Sudoku Competition for Nov 25 \\n\\t\\tNumber 5251, Gentle - SOLUTION287 people took an average of 12 minutes to correctly complete this puzzle\\n\\t\\t\\n\\t\\tby Crosswords Ltd. November Puzzle Packs Now Out!. Thanks for supporting our site.\\n\\t\\t\\t\\t\\n\\t\\tFuture Puzzle - will be submitted on the relevant day\\n\\t\\t\\t\\t\\n\\t'"
      ]
     },
     "execution_count": 67,
     "metadata": {
      "tags": []
     },
     "output_type": "execute_result"
    }
   ],
   "source": [
    "rows[0].text"
   ]
  },
  {
   "cell_type": "code",
   "execution_count": null,
   "metadata": {
    "colab": {},
    "colab_type": "code",
    "id": "_qKiDaV3RNrw"
   },
   "outputs": [],
   "source": [
    "for row in rows:\n",
    "  \n",
    "    print(row.get_text())"
   ]
  },
  {
   "cell_type": "code",
   "execution_count": 72,
   "metadata": {
    "colab": {
     "base_uri": "https://localhost:8080/",
     "height": 170
    },
    "colab_type": "code",
    "id": "qXZG_lMgQDW0",
    "outputId": "18b233e4-ab81-4c44-d0e3-f951cc286620"
   },
   "outputs": [
    {
     "name": "stdout",
     "output_type": "stream",
     "text": [
      "\n",
      "\t\tDaily Sudoku Competition for Nov 25 \n",
      "\t\tNumber 5251, Gentle - SOLUTION287 people took an average of 12 minutes to correctly complete this puzzle\n",
      "\t\t\n",
      "\t\tby Crosswords Ltd. November Puzzle Packs Now Out!. Thanks for supporting our site.\n",
      "\t\t\t\t\n",
      "\t\tFuture Puzzle - will be submitted on the relevant day\n",
      "\t\t\t\t\n",
      "\t\n"
     ]
    }
   ],
   "source": [
    "print(soup.select(\"html body td\")[0].get_text())"
   ]
  },
  {
   "cell_type": "code",
   "execution_count": 75,
   "metadata": {
    "colab": {
     "base_uri": "https://localhost:8080/",
     "height": 34
    },
    "colab_type": "code",
    "id": "ul15CotwQDPg",
    "outputId": "586d20bc-ee03-4b26-9cee-12e125774074"
   },
   "outputs": [
    {
     "name": "stdout",
     "output_type": "stream",
     "text": [
      "[]\n"
     ]
    }
   ],
   "source": [
    "contentTable  = soup.find('tr')\n",
    "rows  = contentTable.find_all('td', string=('Number'))\n",
    "print(rows)\n",
    "for row in rows:\n",
    "    print(row.get_text())"
   ]
  },
  {
   "cell_type": "code",
   "execution_count": 112,
   "metadata": {
    "colab": {
     "base_uri": "https://localhost:8080/",
     "height": 156
    },
    "colab_type": "code",
    "id": "o6IFQln4QDIL",
    "outputId": "79328738-14d3-4445-9608-48c9e14def23"
   },
   "outputs": [
    {
     "name": "stdout",
     "output_type": "stream",
     "text": [
      "<td align=\"left\" colspan=\"2\">\n",
      "<font size=\"5\">Daily Sudoku Competition for Nov 25 </font><p>\n",
      "<font size=\"5\">Number 5251, Gentle - SOLUTION</font><br/>287 people took an average of 12 minutes to correctly complete this puzzle<br/>\n",
      "<br/>\n",
      "<font size=\"2\">by Crosswords Ltd. <font color=\"blue\"><a href=\"http://www.sudokulist.com/ordering/MMPuzzles.asp\">November Puzzle Packs Now Out!</a>. Thanks for supporting our site.</font></font><p>\n",
      "<font size=\"2\">Future Puzzle - will be submitted on the relevant day</font><p>\n",
      "</p></p></p></td>\n"
     ]
    }
   ],
   "source": [
    "content = requests.get(URL)\n",
    "soup = BeautifulSoup(content.text, 'html.parser')\n",
    "#print(soup.head, soup.title)\n",
    "print(soup.table.td)"
   ]
  },
  {
   "cell_type": "code",
   "execution_count": 116,
   "metadata": {
    "colab": {
     "base_uri": "https://localhost:8080/",
     "height": 156
    },
    "colab_type": "code",
    "id": "vLKyGUL3QDA9",
    "outputId": "cca43ccd-322a-49a3-d68a-caf783f6dda3"
   },
   "outputs": [
    {
     "data": {
      "text/plain": [
       "<td align=\"left\" colspan=\"2\">\n",
       "<font size=\"5\">Daily Sudoku Competition for Nov 25 </font><p>\n",
       "<font size=\"5\">Number 5251, Gentle - SOLUTION</font><br/>287 people took an average of 12 minutes to correctly complete this puzzle<br/>\n",
       "<br/>\n",
       "<font size=\"2\">by Crosswords Ltd. <font color=\"blue\"><a href=\"http://www.sudokulist.com/ordering/MMPuzzles.asp\">November Puzzle Packs Now Out!</a>. Thanks for supporting our site.</font></font><p>\n",
       "<font size=\"2\">Future Puzzle - will be submitted on the relevant day</font><p>\n",
       "</p></p></p></td>"
      ]
     },
     "execution_count": 116,
     "metadata": {
      "tags": []
     },
     "output_type": "execute_result"
    }
   ],
   "source": [
    "soup.table.td"
   ]
  },
  {
   "cell_type": "code",
   "execution_count": 106,
   "metadata": {
    "colab": {
     "base_uri": "https://localhost:8080/",
     "height": 340
    },
    "colab_type": "code",
    "id": "Gq_s-xbxQC6f",
    "outputId": "06c0ff32-996d-4fe6-87ea-9782ab9d6241"
   },
   "outputs": [
    {
     "name": "stdout",
     "output_type": "stream",
     "text": [
      "\n",
      "\n",
      "Daily Sudoku Competition for Nov 25 \n",
      "\n",
      "\n",
      "Number 5251, Gentle - SOLUTION\n",
      "287 people took an average of 12 minutes to correctly complete this puzzle\n",
      "\n",
      "\n",
      "\n",
      "\n",
      "by Crosswords Ltd. \n",
      "November Puzzle Packs Now Out!\n",
      ". Thanks for supporting our site.\n",
      "\n",
      "\n",
      "Future Puzzle - will be submitted on the relevant day\n",
      "\n",
      "\n"
     ]
    }
   ],
   "source": [
    "print (soup.table.td.get_text(separator='\\n'))"
   ]
  },
  {
   "cell_type": "code",
   "execution_count": null,
   "metadata": {
    "colab": {},
    "colab_type": "code",
    "id": "G7VEhzVEQCv_"
   },
   "outputs": [],
   "source": [
    "aa= soup.table.td.get_text(separator='\\n')"
   ]
  },
  {
   "cell_type": "code",
   "execution_count": 110,
   "metadata": {
    "colab": {
     "base_uri": "https://localhost:8080/",
     "height": 34
    },
    "colab_type": "code",
    "id": "K4zi0vRyQCeo",
    "outputId": "f61992ce-4043-45ad-ff6f-bd7d4aae9ecb"
   },
   "outputs": [
    {
     "data": {
      "text/plain": [
       "'l'"
      ]
     },
     "execution_count": 110,
     "metadata": {
      "tags": []
     },
     "output_type": "execute_result"
    }
   ],
   "source": [
    "aa[5]"
   ]
  },
  {
   "cell_type": "code",
   "execution_count": null,
   "metadata": {
    "colab": {},
    "colab_type": "code",
    "id": "0VxUSE9VYDEC"
   },
   "outputs": [],
   "source": [
    "p= list(soup.table.td)[2]"
   ]
  },
  {
   "cell_type": "code",
   "execution_count": 191,
   "metadata": {
    "colab": {
     "base_uri": "https://localhost:8080/",
     "height": 139
    },
    "colab_type": "code",
    "id": "JhaKb2w-YC0M",
    "outputId": "415e326c-1bd5-4e1e-c5b2-653402b4c695"
   },
   "outputs": [
    {
     "data": {
      "text/plain": [
       "<p>\n",
       "<font size=\"5\">Number 5251, Gentle - SOLUTION</font><br/>287 people took an average of 12 minutes to correctly complete this puzzle<br/>\n",
       "<br/>\n",
       "<font size=\"2\">by Crosswords Ltd. <font color=\"blue\"><a href=\"http://www.sudokulist.com/ordering/MMPuzzles.asp\">November Puzzle Packs Now Out!</a>. Thanks for supporting our site.</font></font><p>\n",
       "<font size=\"2\">Future Puzzle - will be submitted on the relevant day</font><p>\n",
       "</p></p></p>"
      ]
     },
     "execution_count": 191,
     "metadata": {
      "tags": []
     },
     "output_type": "execute_result"
    }
   ],
   "source": [
    "p"
   ]
  },
  {
   "cell_type": "code",
   "execution_count": null,
   "metadata": {
    "colab": {},
    "colab_type": "code",
    "id": "YTwRxGiCiTPK"
   },
   "outputs": [],
   "source": [
    "level=str(list(p)[1].get_text())\n",
    "people_min=str(list(p)[3])"
   ]
  },
  {
   "cell_type": "code",
   "execution_count": 221,
   "metadata": {
    "colab": {
     "base_uri": "https://localhost:8080/",
     "height": 34
    },
    "colab_type": "code",
    "id": "6nyT9kbjYCOA",
    "outputId": "83195463-1dee-41f9-9bd1-9c1824166e6e"
   },
   "outputs": [
    {
     "data": {
      "text/plain": [
       "'Gentle'"
      ]
     },
     "execution_count": 221,
     "metadata": {
      "tags": []
     },
     "output_type": "execute_result"
    }
   ],
   "source": [
    "level.split(\", \")[1].split()[0]"
   ]
  },
  {
   "cell_type": "code",
   "execution_count": 226,
   "metadata": {
    "colab": {
     "base_uri": "https://localhost:8080/",
     "height": 34
    },
    "colab_type": "code",
    "id": "VkRT1nTBjzSs",
    "outputId": "2c411c1d-a560-45b3-c90b-8ca3cc060ef5"
   },
   "outputs": [
    {
     "data": {
      "text/plain": [
       "'287'"
      ]
     },
     "execution_count": 226,
     "metadata": {
      "tags": []
     },
     "output_type": "execute_result"
    }
   ],
   "source": [
    "people_min.split()[0]"
   ]
  },
  {
   "cell_type": "code",
   "execution_count": 223,
   "metadata": {
    "colab": {
     "base_uri": "https://localhost:8080/",
     "height": 34
    },
    "colab_type": "code",
    "id": "HSJ9OJ-ajzKz",
    "outputId": "bbd828ae-ee1c-4d99-a782-ea75ca5a4745"
   },
   "outputs": [
    {
     "data": {
      "text/plain": [
       "'12'"
      ]
     },
     "execution_count": 223,
     "metadata": {
      "tags": []
     },
     "output_type": "execute_result"
    }
   ],
   "source": [
    "people_min.split()[6]"
   ]
  },
  {
   "cell_type": "code",
   "execution_count": 224,
   "metadata": {
    "colab": {
     "base_uri": "https://localhost:8080/",
     "height": 34
    },
    "colab_type": "code",
    "id": "MYrjkf7_jzHn",
    "outputId": "2d6edffe-a2c3-43be-d418-2251bd2410c5"
   },
   "outputs": [
    {
     "data": {
      "text/plain": [
       "'minutes'"
      ]
     },
     "execution_count": 224,
     "metadata": {
      "tags": []
     },
     "output_type": "execute_result"
    }
   ],
   "source": [
    "people_min.split()[7]"
   ]
  },
  {
   "cell_type": "code",
   "execution_count": null,
   "metadata": {
    "colab": {},
    "colab_type": "code",
    "id": "s76momxLjy_K"
   },
   "outputs": [],
   "source": []
  },
  {
   "cell_type": "code",
   "execution_count": null,
   "metadata": {
    "colab": {},
    "colab_type": "code",
    "id": "ds30Hgrsjy2R"
   },
   "outputs": [],
   "source": []
  },
  {
   "cell_type": "code",
   "execution_count": 63,
   "metadata": {
    "colab": {
     "base_uri": "https://localhost:8080/",
     "height": 51
    },
    "colab_type": "code",
    "id": "0Ep5NdiCDn3W",
    "outputId": "53ae5b93-d117-4a54-9604-0458a5f75e02"
   },
   "outputs": [
    {
     "data": {
      "text/plain": [
       "0    \\n\\t\\tDaily Sudoku Competition for Nov 25 \\n\\t...\n",
       "Name: 0, dtype: object"
      ]
     },
     "execution_count": 63,
     "metadata": {
      "tags": []
     },
     "output_type": "execute_result"
    }
   ],
   "source": [
    "import pandas as pd\n",
    "df = pd.DataFrame(list_rows)\n",
    "df[0]"
   ]
  },
  {
   "cell_type": "code",
   "execution_count": 54,
   "metadata": {
    "colab": {
     "base_uri": "https://localhost:8080/",
     "height": 80
    },
    "colab_type": "code",
    "id": "Khr4k2PcKa6d",
    "outputId": "a5d0fce5-4167-437a-a7e7-7b632d1d538d"
   },
   "outputs": [
    {
     "data": {
      "text/html": [
       "<div>\n",
       "<style scoped>\n",
       "    .dataframe tbody tr th:only-of-type {\n",
       "        vertical-align: middle;\n",
       "    }\n",
       "\n",
       "    .dataframe tbody tr th {\n",
       "        vertical-align: top;\n",
       "    }\n",
       "\n",
       "    .dataframe thead th {\n",
       "        text-align: right;\n",
       "    }\n",
       "</style>\n",
       "<table border=\"1\" class=\"dataframe\">\n",
       "  <thead>\n",
       "    <tr style=\"text-align: right;\">\n",
       "      <th></th>\n",
       "      <th>0</th>\n",
       "      <th>1</th>\n",
       "      <th>2</th>\n",
       "      <th>3</th>\n",
       "      <th>4</th>\n",
       "      <th>5</th>\n",
       "      <th>6</th>\n",
       "      <th>7</th>\n",
       "      <th>8</th>\n",
       "    </tr>\n",
       "  </thead>\n",
       "  <tbody>\n",
       "    <tr>\n",
       "      <th>0</th>\n",
       "      <td></td>\n",
       "      <td>\\t\\tDaily Sudoku Competition for Nov 25</td>\n",
       "      <td>\\t\\tNumber 5251, Gentle - SOLUTION287 people t...</td>\n",
       "      <td>\\t\\t</td>\n",
       "      <td>\\t\\tby Crosswords Ltd. November Puzzle Packs N...</td>\n",
       "      <td>\\t\\t\\t\\t</td>\n",
       "      <td>\\t\\tFuture Puzzle - will be submitted on the r...</td>\n",
       "      <td>\\t\\t\\t\\t</td>\n",
       "      <td>\\t</td>\n",
       "    </tr>\n",
       "  </tbody>\n",
       "</table>\n",
       "</div>"
      ],
      "text/plain": [
       "  0                                         1  ...         7   8\n",
       "0    \\t\\tDaily Sudoku Competition for Nov 25   ...  \\t\\t\\t\\t  \\t\n",
       "\n",
       "[1 rows x 9 columns]"
      ]
     },
     "execution_count": 54,
     "metadata": {
      "tags": []
     },
     "output_type": "execute_result"
    }
   ],
   "source": [
    "df1 = df[0].str.split('\\n', expand=True)\n",
    "df1.head(10)"
   ]
  },
  {
   "cell_type": "code",
   "execution_count": 56,
   "metadata": {
    "colab": {
     "base_uri": "https://localhost:8080/",
     "height": 34
    },
    "colab_type": "code",
    "id": "kCfcMVvDM_Mk",
    "outputId": "ba4cb3e0-08fd-4449-f16c-fab6956e5811"
   },
   "outputs": [
    {
     "data": {
      "text/plain": [
       "[0, 1, 2, 3, 4, 5, 6, 7, 8]"
      ]
     },
     "execution_count": 56,
     "metadata": {
      "tags": []
     },
     "output_type": "execute_result"
    }
   ],
   "source": [
    "list(df1.columns)"
   ]
  },
  {
   "cell_type": "code",
   "execution_count": 64,
   "metadata": {
    "colab": {
     "base_uri": "https://localhost:8080/",
     "height": 51
    },
    "colab_type": "code",
    "id": "1ECKq8TbNH8O",
    "outputId": "18da01bc-c47b-4a16-b6b8-20910b235629"
   },
   "outputs": [
    {
     "name": "stdout",
     "output_type": "stream",
     "text": [
      "0    \\t\\tNumber 5251, Gentle - SOLUTION287 people t...\n",
      "Name: 2, dtype: object\n"
     ]
    }
   ],
   "source": []
  },
  {
   "cell_type": "code",
   "execution_count": null,
   "metadata": {
    "colab": {},
    "colab_type": "code",
    "id": "bEwekKPjMidz"
   },
   "outputs": [],
   "source": [
    "df1.drop(['0',])"
   ]
  },
  {
   "cell_type": "code",
   "execution_count": null,
   "metadata": {
    "colab": {},
    "colab_type": "code",
    "id": "smQTU-ao3K8l"
   },
   "outputs": [],
   "source": []
  },
  {
   "cell_type": "code",
   "execution_count": null,
   "metadata": {
    "colab": {},
    "colab_type": "code",
    "id": "iqApnx1k3Ky7"
   },
   "outputs": [],
   "source": [
    "\n",
    "URL = \"http://www.sudoku.org.uk/DailySudoku.asp?solution=please&day=11/25/2019\""
   ]
  },
  {
   "cell_type": "code",
   "execution_count": 266,
   "metadata": {
    "colab": {
     "base_uri": "https://localhost:8080/",
     "height": 34
    },
    "colab_type": "code",
    "id": "sNSwec_43KoP",
    "outputId": "5381ad6a-d03e-4920-ab63-d9a33a7602d0"
   },
   "outputs": [
    {
     "name": "stdout",
     "output_type": "stream",
     "text": [
      "HTTP Error 500: Internal Server Error\n"
     ]
    }
   ],
   "source": [
    "from urllib.request import urlopen \n",
    "from urllib.error import HTTPError \n",
    "from urllib.error import URLError\n",
    "try:\n",
    "  html = urlopen('http://www.sudoku.org.uk/DailySudoku.asp?solution=please&day=11/25/2003')\n",
    "except HTTPError as e: \n",
    "  print(e)\n",
    "except URLError as e:\n",
    "  print('The server could not be found!')\n",
    "else:\n",
    "  print('It Worked!')"
   ]
  },
  {
   "cell_type": "code",
   "execution_count": 1,
   "metadata": {
    "colab": {},
    "colab_type": "code",
    "id": "DyLLhOpB3TkC"
   },
   "outputs": [],
   "source": [
    "class User:\n",
    "    def __init__(self, login, password):\n",
    "        self.login = login\n",
    "        self.password = password\n",
    "\n",
    "    def __str__(self):\n",
    "        return self.login\n",
    "\n",
    "    def __repr__(self):\n",
    "        return f\"User('{self.login}', '{self.password}')\"\n",
    "    \n",
    "    \n"
   ]
  },
  {
   "cell_type": "code",
   "execution_count": 2,
   "metadata": {},
   "outputs": [],
   "source": [
    "user = User('jdoe', 's3cret')"
   ]
  },
  {
   "cell_type": "code",
   "execution_count": 3,
   "metadata": {},
   "outputs": [
    {
     "name": "stdout",
     "output_type": "stream",
     "text": [
      "jdoe\n"
     ]
    }
   ],
   "source": [
    "print(user)"
   ]
  },
  {
   "cell_type": "code",
   "execution_count": 7,
   "metadata": {},
   "outputs": [
    {
     "name": "stdout",
     "output_type": "stream",
     "text": [
      "[##############################] 100%"
     ]
    }
   ],
   "source": [
    "from time import sleep\n",
    "\n",
    "def progress(percent=0, width=30):\n",
    "    left = width * percent // 100\n",
    "    right = width - left\n",
    "    print('\\r[', '#' * left, ' ' * right, ']',\n",
    "          f' {percent:.0f}%',\n",
    "          sep='', end='', flush=True)\n",
    "\n",
    "for i in range(101):\n",
    "    progress(i)\n",
    "    sleep(0.1)"
   ]
  },
  {
   "cell_type": "code",
   "execution_count": 23,
   "metadata": {},
   "outputs": [
    {
     "name": "stdout",
     "output_type": "stream",
     "text": [
      "Collecting tqdm\n",
      "\u001b[?25l  Downloading https://files.pythonhosted.org/packages/bb/62/6f823501b3bf2bac242bd3c320b592ad1516b3081d82c77c1d813f076856/tqdm-4.39.0-py2.py3-none-any.whl (53kB)\n",
      "\u001b[K     |████████████████████████████████| 61kB 7.7MB/s  eta 0:00:01\n",
      "\u001b[?25hInstalling collected packages: tqdm\n",
      "Successfully installed tqdm-4.39.0\n"
     ]
    }
   ],
   "source": [
    "!pip install tqdm"
   ]
  },
  {
   "cell_type": "code",
   "execution_count": 24,
   "metadata": {},
   "outputs": [],
   "source": [
    " from tqdm import tqdm, tqdm_notebook"
   ]
  },
  {
   "cell_type": "code",
   "execution_count": 35,
   "metadata": {},
   "outputs": [],
   "source": [
    "from bs4 import BeautifulSoup\n",
    "#import urllib3\n",
    "import requests \n",
    "import datetime\n",
    "import numpy as np\n",
    "import pandas as pd\n",
    "from urllib.request import urlopen \n",
    "from urllib.error import HTTPError \n",
    "from urllib.error import URLError\n",
    "from progressbar import ProgressBar\n",
    "\n",
    "def list_dates():\n",
    "  dates = []\n",
    "  dates_error = []\n",
    "  urls = []\n",
    "  for i in tqdm(range(2,105)):\n",
    "#     progress(i)\n",
    "#     sleep(0.2)\n",
    "    d = datetime.date.today()- datetime.timedelta(days = i)\n",
    "    d_format = str(d.day)+'/'+str(d.month) +'/'+ str(d.year)\n",
    "    URL = \"http://www.sudoku.org.uk/DailySudoku.asp?solution=please&day=\"+d_format\n",
    "    try:\n",
    "      urlopen(URL)\n",
    "    except HTTPError as e:\n",
    "      dates_error.append(d_format)\n",
    "    except URLError as e:\n",
    "      dates_error.append(d_format)\n",
    "    else:\n",
    "      dates.append(d_format)\n",
    "      urls.append(URL)\n",
    "  return dates, urls, dates_error"
   ]
  },
  {
   "cell_type": "code",
   "execution_count": 36,
   "metadata": {},
   "outputs": [
    {
     "name": "stderr",
     "output_type": "stream",
     "text": [
      "100%|██████████| 103/103 [00:31<00:00,  3.31it/s]\n"
     ]
    }
   ],
   "source": [
    "dates, urls, dates_error = list_dates()"
   ]
  },
  {
   "cell_type": "code",
   "execution_count": 21,
   "metadata": {},
   "outputs": [
    {
     "name": "stdout",
     "output_type": "stream",
     "text": [
      "Collecting progressbar\n",
      "  Downloading https://files.pythonhosted.org/packages/a3/a6/b8e451f6cff1c99b4747a2f7235aa904d2d49e8e1464e0b798272aa84358/progressbar-2.5.tar.gz\n",
      "Building wheels for collected packages: progressbar\n",
      "  Building wheel for progressbar (setup.py) ... \u001b[?25ldone\n",
      "\u001b[?25h  Created wheel for progressbar: filename=progressbar-2.5-cp36-none-any.whl size=12114 sha256=ae836bf3257c9dafcd87148e17b8ebe7e27fe727d2b1fc681d2a26b5c51475dc\n",
      "  Stored in directory: /root/.cache/pip/wheels/c0/e9/6b/ea01090205e285175842339aa3b491adeb4015206cda272ff0\n",
      "Successfully built progressbar\n",
      "Installing collected packages: progressbar\n",
      "Successfully installed progressbar-2.5\n"
     ]
    }
   ],
   "source": [
    "!pip install progressbar"
   ]
  },
  {
   "cell_type": "code",
   "execution_count": 37,
   "metadata": {},
   "outputs": [],
   "source": [
    "df = pd.DataFrame(columns = ['Name', 'Age'])"
   ]
  },
  {
   "cell_type": "code",
   "execution_count": 38,
   "metadata": {},
   "outputs": [
    {
     "data": {
      "text/html": [
       "<div>\n",
       "<style scoped>\n",
       "    .dataframe tbody tr th:only-of-type {\n",
       "        vertical-align: middle;\n",
       "    }\n",
       "\n",
       "    .dataframe tbody tr th {\n",
       "        vertical-align: top;\n",
       "    }\n",
       "\n",
       "    .dataframe thead th {\n",
       "        text-align: right;\n",
       "    }\n",
       "</style>\n",
       "<table border=\"1\" class=\"dataframe\">\n",
       "  <thead>\n",
       "    <tr style=\"text-align: right;\">\n",
       "      <th></th>\n",
       "      <th>Name</th>\n",
       "      <th>Age</th>\n",
       "    </tr>\n",
       "  </thead>\n",
       "  <tbody>\n",
       "  </tbody>\n",
       "</table>\n",
       "</div>"
      ],
      "text/plain": [
       "Empty DataFrame\n",
       "Columns: [Name, Age]\n",
       "Index: []"
      ]
     },
     "execution_count": 38,
     "metadata": {},
     "output_type": "execute_result"
    }
   ],
   "source": [
    "df.head()"
   ]
  },
  {
   "cell_type": "code",
   "execution_count": 39,
   "metadata": {},
   "outputs": [],
   "source": [
    "df['Name'] = \"Luna\"\n",
    "df['Age'] = 11"
   ]
  },
  {
   "cell_type": "code",
   "execution_count": 40,
   "metadata": {},
   "outputs": [
    {
     "data": {
      "text/html": [
       "<div>\n",
       "<style scoped>\n",
       "    .dataframe tbody tr th:only-of-type {\n",
       "        vertical-align: middle;\n",
       "    }\n",
       "\n",
       "    .dataframe tbody tr th {\n",
       "        vertical-align: top;\n",
       "    }\n",
       "\n",
       "    .dataframe thead th {\n",
       "        text-align: right;\n",
       "    }\n",
       "</style>\n",
       "<table border=\"1\" class=\"dataframe\">\n",
       "  <thead>\n",
       "    <tr style=\"text-align: right;\">\n",
       "      <th></th>\n",
       "      <th>Name</th>\n",
       "      <th>Age</th>\n",
       "    </tr>\n",
       "  </thead>\n",
       "  <tbody>\n",
       "  </tbody>\n",
       "</table>\n",
       "</div>"
      ],
      "text/plain": [
       "Empty DataFrame\n",
       "Columns: [Name, Age]\n",
       "Index: []"
      ]
     },
     "execution_count": 40,
     "metadata": {},
     "output_type": "execute_result"
    }
   ],
   "source": [
    "df.head()"
   ]
  },
  {
   "cell_type": "code",
   "execution_count": null,
   "metadata": {},
   "outputs": [],
   "source": []
  },
  {
   "cell_type": "code",
   "execution_count": null,
   "metadata": {},
   "outputs": [],
   "source": []
  },
  {
   "cell_type": "code",
   "execution_count": null,
   "metadata": {},
   "outputs": [],
   "source": []
  },
  {
   "cell_type": "code",
   "execution_count": null,
   "metadata": {},
   "outputs": [],
   "source": []
  },
  {
   "cell_type": "code",
   "execution_count": null,
   "metadata": {},
   "outputs": [],
   "source": []
  },
  {
   "cell_type": "code",
   "execution_count": null,
   "metadata": {},
   "outputs": [],
   "source": []
  },
  {
   "cell_type": "code",
   "execution_count": 10,
   "metadata": {},
   "outputs": [],
   "source": [
    "def list_dates():\n",
    "  dates = []\n",
    "  dates_error = []\n",
    "  urls = []\n",
    "  for i in tqdm(range(2,12)):\n",
    "    d = datetime.date.today()- datetime.timedelta(days = i)\n",
    "    d_format = str(d.day)+'/'+str(d.month) +'/'+ str(d.year)\n",
    "    URL = \"http://www.sudoku.org.uk/DailySudoku.asp?solution=please&day=\"+d_format\n",
    "    try:\n",
    "      urlopen(URL)\n",
    "    except HTTPError as e:\n",
    "        pass\n",
    "#       dates_error.append(d_format)\n",
    "    except URLError as e:\n",
    "        pass\n",
    "#       dates_error.append(d_format)\n",
    "    else:\n",
    "#       dates.append(d_format)\n",
    "      urls.append(URL)\n",
    "  return urls"
   ]
  },
  {
   "cell_type": "code",
   "execution_count": 13,
   "metadata": {},
   "outputs": [],
   "source": [
    "def get_html(url):\n",
    "  r = requests.get(url) \n",
    "  return BeautifulSoup(r.content,'html.parser')"
   ]
  },
  {
   "cell_type": "code",
   "execution_count": 15,
   "metadata": {},
   "outputs": [
    {
     "ename": "IndentationError",
     "evalue": "unindent does not match any outer indentation level (<tokenize>, line 14)",
     "output_type": "error",
     "traceback": [
      "\u001b[0;36m  File \u001b[0;32m\"<tokenize>\"\u001b[0;36m, line \u001b[0;32m14\u001b[0m\n\u001b[0;31m    sudoku.append(''.join(b))\u001b[0m\n\u001b[0m    ^\u001b[0m\n\u001b[0;31mIndentationError\u001b[0m\u001b[0;31m:\u001b[0m unindent does not match any outer indentation level\n"
     ]
    }
   ],
   "source": [
    "def get_sudokus(urls):\n",
    "  solution =[]\n",
    "  sudoku=[]\n",
    "  for url in urls:\n",
    "    a=[]\n",
    "    b=[]\n",
    "    soup = get_html(url)\n",
    "    for link in soup.find_all('td', attrs={'class': ['InnerTDone2','InnerTDone'] }):\n",
    "        if link.attrs['class'] == ['InnerTDone2']:\n",
    "          b.append(link.text)\n",
    "        else:\n",
    "          b.append('.')\n",
    "        a.append(link.text)\n",
    "      sudoku.append(''.join(b))\n",
    "      solution.append(''.join(a))\n",
    "\n",
    "  return sudoku, solution"
   ]
  },
  {
   "cell_type": "code",
   "execution_count": null,
   "metadata": {},
   "outputs": [],
   "source": [
    "def get_info(urls):\n",
    "  level = []\n",
    "  people = []\n",
    "  av_sln = []\n",
    "  unit_time = []\n",
    "  \n",
    "  for url in urls :\n",
    "    soup = get_html(url)\n",
    "    p = list(list(soup.table.td)[2])\n",
    "    level.append(str(p[1].get_text()).split(\", \")[1].split()[0])\n",
    "    people.append(str(p[3]).split()[0])\n",
    "    av_sln.append(str(p[3]).split()[6])\n",
    "    unit_time.append(str(p[3]).split()[7])\n",
    "  return level,people,av_sln, unit_time"
   ]
  },
  {
   "cell_type": "code",
   "execution_count": null,
   "metadata": {},
   "outputs": [],
   "source": [
    "df = pd.DataFrame(list(zip(dates, urls,  level, people,av_sln, unit_time, sudoku, solution)), \n",
    "               columns =['Date','URL', 'Level','People','Average-Time', 'Unit-Time', 'Sudoku', 'Solution']) "
   ]
  },
  {
   "cell_type": "code",
   "execution_count": 22,
   "metadata": {},
   "outputs": [],
   "source": [
    "def consolidado(urls):\n",
    "    a, b, solution, sudoku, level, people,av_time, unit = ([] for i in range(8))\n",
    "\n",
    "    for url in tqdm(urls):\n",
    "        soup = get_html(url)\n",
    "        for link in soup.find_all('td', attrs={'class': ['InnerTDone2','InnerTDone'] }):\n",
    "            if link.attrs['class'] == ['InnerTDone2']:\n",
    "              b.append(link.text)\n",
    "            else:\n",
    "              b.append('.')\n",
    "            a.append(link.text)\n",
    "            \n",
    "        sudoku.append(''.join(b))\n",
    "        solution.append(''.join(a))\n",
    "             \n",
    "        p = list(list(soup.table.td)[2])\n",
    "        level.append(str(p[1].get_text()).split(\", \")[1].split()[0])\n",
    "        people.append(str(p[3]).split()[0])\n",
    "        av_time.append(str(p[3]).split()[6])\n",
    "        unit.append(str(p[3]).split()[7])\n",
    "        \n",
    "    return  urls, level, people,av_time, unit, sudoku, solution         \n",
    "    \n",
    "    "
   ]
  },
  {
   "cell_type": "code",
   "execution_count": 11,
   "metadata": {},
   "outputs": [
    {
     "name": "stderr",
     "output_type": "stream",
     "text": [
      "100%|██████████| 10/10 [00:03<00:00,  3.02it/s]\n"
     ]
    }
   ],
   "source": [
    "urls = list_dates()"
   ]
  },
  {
   "cell_type": "code",
   "execution_count": null,
   "metadata": {},
   "outputs": [],
   "source": [
    "data"
   ]
  },
  {
   "cell_type": "code",
   "execution_count": 23,
   "metadata": {},
   "outputs": [
    {
     "name": "stderr",
     "output_type": "stream",
     "text": [
      "100%|██████████| 10/10 [00:03<00:00,  3.20it/s]\n"
     ]
    }
   ],
   "source": [
    "urls, level, people,av_time, unit, sudoku, solution = consolidado(urls)"
   ]
  },
  {
   "cell_type": "code",
   "execution_count": 17,
   "metadata": {},
   "outputs": [],
   "source": [
    "df = pd.DataFrame(list(zip(urls, level, people,av_time, unit, sudoku, solution)), columns =['URL', 'Level','People','Average-Time', 'Unit-Time', 'Sudoku', 'Solution']) "
   ]
  },
  {
   "cell_type": "code",
   "execution_count": 21,
   "metadata": {},
   "outputs": [
    {
     "data": {
      "text/html": [
       "<div>\n",
       "<style scoped>\n",
       "    .dataframe tbody tr th:only-of-type {\n",
       "        vertical-align: middle;\n",
       "    }\n",
       "\n",
       "    .dataframe tbody tr th {\n",
       "        vertical-align: top;\n",
       "    }\n",
       "\n",
       "    .dataframe thead th {\n",
       "        text-align: right;\n",
       "    }\n",
       "</style>\n",
       "<table border=\"1\" class=\"dataframe\">\n",
       "  <thead>\n",
       "    <tr style=\"text-align: right;\">\n",
       "      <th></th>\n",
       "      <th>URL</th>\n",
       "      <th>Level</th>\n",
       "      <th>People</th>\n",
       "      <th>Average-Time</th>\n",
       "      <th>Unit-Time</th>\n",
       "      <th>Sudoku</th>\n",
       "      <th>Solution</th>\n",
       "    </tr>\n",
       "  </thead>\n",
       "  <tbody>\n",
       "    <tr>\n",
       "      <th>0</th>\n",
       "      <td>http://www.sudoku.org.uk/DailySudoku.asp?solut...</td>\n",
       "      <td>Gentle</td>\n",
       "      <td>287</td>\n",
       "      <td>12</td>\n",
       "      <td>minutes</td>\n",
       "      <td>..96417..78.9....4...3...........27.4.3...8.1....</td>\n",
       "      <td>2396417857819526345643871299581342764235768911...</td>\n",
       "    </tr>\n",
       "    <tr>\n",
       "      <th>1</th>\n",
       "      <td>http://www.sudoku.org.uk/DailySudoku.asp?solut...</td>\n",
       "      <td>Diabolical</td>\n",
       "      <td>254</td>\n",
       "      <td>27</td>\n",
       "      <td>minutes</td>\n",
       "      <td>..96417..78.9....4...3...........27.4.3...8.1....</td>\n",
       "      <td>2396417857819526345643871299581342764235768911...</td>\n",
       "    </tr>\n",
       "    <tr>\n",
       "      <th>2</th>\n",
       "      <td>http://www.sudoku.org.uk/DailySudoku.asp?solut...</td>\n",
       "      <td>Moderate</td>\n",
       "      <td>276</td>\n",
       "      <td>15</td>\n",
       "      <td>minutes</td>\n",
       "      <td>..96417..78.9....4...3...........27.4.3...8.1....</td>\n",
       "      <td>2396417857819526345643871299581342764235768911...</td>\n",
       "    </tr>\n",
       "    <tr>\n",
       "      <th>3</th>\n",
       "      <td>http://www.sudoku.org.uk/DailySudoku.asp?solut...</td>\n",
       "      <td>Diabolical</td>\n",
       "      <td>252</td>\n",
       "      <td>27</td>\n",
       "      <td>minutes</td>\n",
       "      <td>..96417..78.9....4...3...........27.4.3...8.1....</td>\n",
       "      <td>2396417857819526345643871299581342764235768911...</td>\n",
       "    </tr>\n",
       "    <tr>\n",
       "      <th>4</th>\n",
       "      <td>http://www.sudoku.org.uk/DailySudoku.asp?solut...</td>\n",
       "      <td>Tough</td>\n",
       "      <td>256</td>\n",
       "      <td>23</td>\n",
       "      <td>minutes</td>\n",
       "      <td>..96417..78.9....4...3...........27.4.3...8.1....</td>\n",
       "      <td>2396417857819526345643871299581342764235768911...</td>\n",
       "    </tr>\n",
       "  </tbody>\n",
       "</table>\n",
       "</div>"
      ],
      "text/plain": [
       "                                                 URL       Level People  \\\n",
       "0  http://www.sudoku.org.uk/DailySudoku.asp?solut...      Gentle    287   \n",
       "1  http://www.sudoku.org.uk/DailySudoku.asp?solut...  Diabolical    254   \n",
       "2  http://www.sudoku.org.uk/DailySudoku.asp?solut...    Moderate    276   \n",
       "3  http://www.sudoku.org.uk/DailySudoku.asp?solut...  Diabolical    252   \n",
       "4  http://www.sudoku.org.uk/DailySudoku.asp?solut...       Tough    256   \n",
       "\n",
       "  Average-Time Unit-Time                                             Sudoku  \\\n",
       "0           12   minutes  ..96417..78.9....4...3...........27.4.3...8.1....   \n",
       "1           27   minutes  ..96417..78.9....4...3...........27.4.3...8.1....   \n",
       "2           15   minutes  ..96417..78.9....4...3...........27.4.3...8.1....   \n",
       "3           27   minutes  ..96417..78.9....4...3...........27.4.3...8.1....   \n",
       "4           23   minutes  ..96417..78.9....4...3...........27.4.3...8.1....   \n",
       "\n",
       "                                            Solution  \n",
       "0  2396417857819526345643871299581342764235768911...  \n",
       "1  2396417857819526345643871299581342764235768911...  \n",
       "2  2396417857819526345643871299581342764235768911...  \n",
       "3  2396417857819526345643871299581342764235768911...  \n",
       "4  2396417857819526345643871299581342764235768911...  "
      ]
     },
     "execution_count": 21,
     "metadata": {},
     "output_type": "execute_result"
    }
   ],
   "source": [
    "df.head()"
   ]
  },
  {
   "cell_type": "code",
   "execution_count": null,
   "metadata": {},
   "outputs": [],
   "source": []
  },
  {
   "cell_type": "code",
   "execution_count": 57,
   "metadata": {},
   "outputs": [],
   "source": [
    "count = 0 \n",
    "c,g,pru1,pru2 = ([] for i in range(4))\n",
    "for i in range (1,12):\n",
    "    count += 1\n",
    "    for j in range(1,2):\n",
    "        c.append(str(j))\n",
    "        g.append(str(j+1))\n",
    "    pru1.append(''.join(c))\n",
    "    pru2.append(''.join(g))\n",
    "\n"
   ]
  },
  {
   "cell_type": "code",
   "execution_count": 58,
   "metadata": {},
   "outputs": [
    {
     "data": {
      "text/plain": [
       "['1',\n",
       " '11',\n",
       " '111',\n",
       " '1111',\n",
       " '11111',\n",
       " '111111',\n",
       " '1111111',\n",
       " '11111111',\n",
       " '111111111',\n",
       " '1111111111',\n",
       " '11111111111']"
      ]
     },
     "execution_count": 58,
     "metadata": {},
     "output_type": "execute_result"
    }
   ],
   "source": [
    "pru1"
   ]
  },
  {
   "cell_type": "code",
   "execution_count": 24,
   "metadata": {},
   "outputs": [],
   "source": [
    "df_urls = pd.read_csv('urls.csv', sep=',').drop('Unnamed: 0', axis=1)"
   ]
  },
  {
   "cell_type": "code",
   "execution_count": 63,
   "metadata": {},
   "outputs": [
    {
     "data": {
      "text/html": [
       "<div>\n",
       "<style scoped>\n",
       "    .dataframe tbody tr th:only-of-type {\n",
       "        vertical-align: middle;\n",
       "    }\n",
       "\n",
       "    .dataframe tbody tr th {\n",
       "        vertical-align: top;\n",
       "    }\n",
       "\n",
       "    .dataframe thead th {\n",
       "        text-align: right;\n",
       "    }\n",
       "</style>\n",
       "<table border=\"1\" class=\"dataframe\">\n",
       "  <thead>\n",
       "    <tr style=\"text-align: right;\">\n",
       "      <th></th>\n",
       "      <th>urls</th>\n",
       "    </tr>\n",
       "  </thead>\n",
       "  <tbody>\n",
       "    <tr>\n",
       "      <th>5010</th>\n",
       "      <td>http://www.sudoku.org.uk/DailySudoku.asp?solut...</td>\n",
       "    </tr>\n",
       "    <tr>\n",
       "      <th>5011</th>\n",
       "      <td>http://www.sudoku.org.uk/DailySudoku.asp?solut...</td>\n",
       "    </tr>\n",
       "    <tr>\n",
       "      <th>5012</th>\n",
       "      <td>http://www.sudoku.org.uk/DailySudoku.asp?solut...</td>\n",
       "    </tr>\n",
       "    <tr>\n",
       "      <th>5013</th>\n",
       "      <td>http://www.sudoku.org.uk/DailySudoku.asp?solut...</td>\n",
       "    </tr>\n",
       "    <tr>\n",
       "      <th>5014</th>\n",
       "      <td>http://www.sudoku.org.uk/DailySudoku.asp?solut...</td>\n",
       "    </tr>\n",
       "    <tr>\n",
       "      <th>...</th>\n",
       "      <td>...</td>\n",
       "    </tr>\n",
       "    <tr>\n",
       "      <th>5202</th>\n",
       "      <td>http://www.sudoku.org.uk/DailySudoku.asp?solut...</td>\n",
       "    </tr>\n",
       "    <tr>\n",
       "      <th>5203</th>\n",
       "      <td>http://www.sudoku.org.uk/DailySudoku.asp?solut...</td>\n",
       "    </tr>\n",
       "    <tr>\n",
       "      <th>5204</th>\n",
       "      <td>http://www.sudoku.org.uk/DailySudoku.asp?solut...</td>\n",
       "    </tr>\n",
       "    <tr>\n",
       "      <th>5205</th>\n",
       "      <td>http://www.sudoku.org.uk/DailySudoku.asp?solut...</td>\n",
       "    </tr>\n",
       "    <tr>\n",
       "      <th>5206</th>\n",
       "      <td>http://www.sudoku.org.uk/DailySudoku.asp?solut...</td>\n",
       "    </tr>\n",
       "  </tbody>\n",
       "</table>\n",
       "<p>197 rows × 1 columns</p>\n",
       "</div>"
      ],
      "text/plain": [
       "                                                   urls\n",
       "5010  http://www.sudoku.org.uk/DailySudoku.asp?solut...\n",
       "5011  http://www.sudoku.org.uk/DailySudoku.asp?solut...\n",
       "5012  http://www.sudoku.org.uk/DailySudoku.asp?solut...\n",
       "5013  http://www.sudoku.org.uk/DailySudoku.asp?solut...\n",
       "5014  http://www.sudoku.org.uk/DailySudoku.asp?solut...\n",
       "...                                                 ...\n",
       "5202  http://www.sudoku.org.uk/DailySudoku.asp?solut...\n",
       "5203  http://www.sudoku.org.uk/DailySudoku.asp?solut...\n",
       "5204  http://www.sudoku.org.uk/DailySudoku.asp?solut...\n",
       "5205  http://www.sudoku.org.uk/DailySudoku.asp?solut...\n",
       "5206  http://www.sudoku.org.uk/DailySudoku.asp?solut...\n",
       "\n",
       "[197 rows x 1 columns]"
      ]
     },
     "execution_count": 63,
     "metadata": {},
     "output_type": "execute_result"
    }
   ],
   "source": [
    "new_urls = df_urls.iloc[5010:5208]\n",
    "new_urls"
   ]
  },
  {
   "cell_type": "code",
   "execution_count": 64,
   "metadata": {},
   "outputs": [
    {
     "data": {
      "text/plain": [
       "'http://www.sudoku.org.uk/DailySudoku.asp?solution=please&day=6/3/2006'"
      ]
     },
     "execution_count": 64,
     "metadata": {},
     "output_type": "execute_result"
    }
   ],
   "source": [
    "new_urls['urls'][5010]"
   ]
  },
  {
   "cell_type": "code",
   "execution_count": 75,
   "metadata": {},
   "outputs": [
    {
     "name": "stdout",
     "output_type": "stream",
     "text": [
      "['\\n', <font size=\"5\">Number 239, Gentle - SOLUTION</font>, <br/>, '\\n', <br/>, '\\n', <font size=\"2\">by Crosswords Ltd. <font color=\"blue\"><a href=\"http://www.sudokulist.com/ordering/MMPuzzles.asp\">November Puzzle Packs Now Out!</a>. Thanks for supporting our site.</font></font>, <p>\n",
      "<font size=\"2\">Future Puzzle - will be submitted on the relevant day</font><p>\n",
      "</p></p>]\n"
     ]
    }
   ],
   "source": [
    "a, b, solution, sudoku, level, people,av_time, unit = ([] for i in range(8))\n",
    "soup = get_html('http://www.sudoku.org.uk/DailySudoku.asp?solution=please&day=6/3/2006')\n",
    "for link in soup.find_all('td', attrs={'class': ['InnerTDone2','InnerTDone'] }):\n",
    "    if link.attrs['class'] == ['InnerTDone2']:\n",
    "        b.append(link.text)\n",
    "    else:\n",
    "        b.append('.')\n",
    "    a.append(link.text)\n",
    "            \n",
    "sudoku.append(''.join(b))\n",
    "solution.append(''.join(a))\n",
    "             \n",
    "p = list(list(soup.table.td)[2])\n",
    "print(p)\n",
    "# level.append(str(p[1].get_text()).split(\", \")[1].split()[0])\n",
    "# people.append(str(p[3]).split()[0])\n",
    "# av_time.append(str(p[3]).split()[6])\n",
    "# unit.append(str(p[3]).split()[7])\n",
    "        \n",
    "   "
   ]
  },
  {
   "cell_type": "code",
   "execution_count": 66,
   "metadata": {},
   "outputs": [
    {
     "name": "stderr",
     "output_type": "stream",
     "text": [
      "  0%|          | 0/197 [00:00<?, ?it/s]\n"
     ]
    },
    {
     "ename": "IndexError",
     "evalue": "list index out of range",
     "output_type": "error",
     "traceback": [
      "\u001b[0;31m---------------------------------------------------------------------------\u001b[0m",
      "\u001b[0;31mIndexError\u001b[0m                                Traceback (most recent call last)",
      "\u001b[0;32m<ipython-input-66-d9fc76f343dd>\u001b[0m in \u001b[0;36m<module>\u001b[0;34m\u001b[0m\n\u001b[0;32m----> 1\u001b[0;31m \u001b[0murls\u001b[0m\u001b[0;34m,\u001b[0m \u001b[0mlevel\u001b[0m\u001b[0;34m,\u001b[0m \u001b[0mpeople\u001b[0m\u001b[0;34m,\u001b[0m\u001b[0mav_time\u001b[0m\u001b[0;34m,\u001b[0m \u001b[0munit\u001b[0m\u001b[0;34m,\u001b[0m \u001b[0msudoku\u001b[0m\u001b[0;34m,\u001b[0m \u001b[0msolution\u001b[0m \u001b[0;34m=\u001b[0m \u001b[0mconsolidate\u001b[0m\u001b[0;34m(\u001b[0m\u001b[0mnew_urls\u001b[0m\u001b[0;34m[\u001b[0m\u001b[0;34m'urls'\u001b[0m\u001b[0;34m]\u001b[0m\u001b[0;34m)\u001b[0m\u001b[0;34m\u001b[0m\u001b[0;34m\u001b[0m\u001b[0m\n\u001b[0m",
      "\u001b[0;32m<ipython-input-55-c34c4ab27e2f>\u001b[0m in \u001b[0;36mconsolidate\u001b[0;34m(urls)\u001b[0m\n\u001b[1;32m     16\u001b[0m         \u001b[0mp\u001b[0m \u001b[0;34m=\u001b[0m \u001b[0mlist\u001b[0m\u001b[0;34m(\u001b[0m\u001b[0mlist\u001b[0m\u001b[0;34m(\u001b[0m\u001b[0msoup\u001b[0m\u001b[0;34m.\u001b[0m\u001b[0mtable\u001b[0m\u001b[0;34m.\u001b[0m\u001b[0mtd\u001b[0m\u001b[0;34m)\u001b[0m\u001b[0;34m[\u001b[0m\u001b[0;36m2\u001b[0m\u001b[0;34m]\u001b[0m\u001b[0;34m)\u001b[0m\u001b[0;34m\u001b[0m\u001b[0;34m\u001b[0m\u001b[0m\n\u001b[1;32m     17\u001b[0m         \u001b[0mlevel\u001b[0m\u001b[0;34m.\u001b[0m\u001b[0mappend\u001b[0m\u001b[0;34m(\u001b[0m\u001b[0mstr\u001b[0m\u001b[0;34m(\u001b[0m\u001b[0mp\u001b[0m\u001b[0;34m[\u001b[0m\u001b[0;36m1\u001b[0m\u001b[0;34m]\u001b[0m\u001b[0;34m.\u001b[0m\u001b[0mget_text\u001b[0m\u001b[0;34m(\u001b[0m\u001b[0;34m)\u001b[0m\u001b[0;34m)\u001b[0m\u001b[0;34m.\u001b[0m\u001b[0msplit\u001b[0m\u001b[0;34m(\u001b[0m\u001b[0;34m\", \"\u001b[0m\u001b[0;34m)\u001b[0m\u001b[0;34m[\u001b[0m\u001b[0;36m1\u001b[0m\u001b[0;34m]\u001b[0m\u001b[0;34m.\u001b[0m\u001b[0msplit\u001b[0m\u001b[0;34m(\u001b[0m\u001b[0;34m)\u001b[0m\u001b[0;34m[\u001b[0m\u001b[0;36m0\u001b[0m\u001b[0;34m]\u001b[0m\u001b[0;34m)\u001b[0m\u001b[0;34m\u001b[0m\u001b[0;34m\u001b[0m\u001b[0m\n\u001b[0;32m---> 18\u001b[0;31m         \u001b[0mpeople\u001b[0m\u001b[0;34m.\u001b[0m\u001b[0mappend\u001b[0m\u001b[0;34m(\u001b[0m\u001b[0mstr\u001b[0m\u001b[0;34m(\u001b[0m\u001b[0mp\u001b[0m\u001b[0;34m[\u001b[0m\u001b[0;36m3\u001b[0m\u001b[0;34m]\u001b[0m\u001b[0;34m)\u001b[0m\u001b[0;34m.\u001b[0m\u001b[0msplit\u001b[0m\u001b[0;34m(\u001b[0m\u001b[0;34m)\u001b[0m\u001b[0;34m[\u001b[0m\u001b[0;36m0\u001b[0m\u001b[0;34m]\u001b[0m\u001b[0;34m)\u001b[0m\u001b[0;34m\u001b[0m\u001b[0;34m\u001b[0m\u001b[0m\n\u001b[0m\u001b[1;32m     19\u001b[0m         \u001b[0mav_time\u001b[0m\u001b[0;34m.\u001b[0m\u001b[0mappend\u001b[0m\u001b[0;34m(\u001b[0m\u001b[0mstr\u001b[0m\u001b[0;34m(\u001b[0m\u001b[0mp\u001b[0m\u001b[0;34m[\u001b[0m\u001b[0;36m3\u001b[0m\u001b[0;34m]\u001b[0m\u001b[0;34m)\u001b[0m\u001b[0;34m.\u001b[0m\u001b[0msplit\u001b[0m\u001b[0;34m(\u001b[0m\u001b[0;34m)\u001b[0m\u001b[0;34m[\u001b[0m\u001b[0;36m6\u001b[0m\u001b[0;34m]\u001b[0m\u001b[0;34m)\u001b[0m\u001b[0;34m\u001b[0m\u001b[0;34m\u001b[0m\u001b[0m\n\u001b[1;32m     20\u001b[0m         \u001b[0munit\u001b[0m\u001b[0;34m.\u001b[0m\u001b[0mappend\u001b[0m\u001b[0;34m(\u001b[0m\u001b[0mstr\u001b[0m\u001b[0;34m(\u001b[0m\u001b[0mp\u001b[0m\u001b[0;34m[\u001b[0m\u001b[0;36m3\u001b[0m\u001b[0;34m]\u001b[0m\u001b[0;34m)\u001b[0m\u001b[0;34m.\u001b[0m\u001b[0msplit\u001b[0m\u001b[0;34m(\u001b[0m\u001b[0;34m)\u001b[0m\u001b[0;34m[\u001b[0m\u001b[0;36m7\u001b[0m\u001b[0;34m]\u001b[0m\u001b[0;34m)\u001b[0m\u001b[0;34m\u001b[0m\u001b[0;34m\u001b[0m\u001b[0m\n",
      "\u001b[0;31mIndexError\u001b[0m: list index out of range"
     ]
    }
   ],
   "source": [
    "urls, level, people,av_time, unit, sudoku, solution = consolidate(new_urls['urls'])"
   ]
  },
  {
   "cell_type": "code",
   "execution_count": null,
   "metadata": {},
   "outputs": [],
   "source": []
  }
 ],
 "metadata": {
  "colab": {
   "name": "scrap_sudokuuk.ipynb",
   "provenance": []
  },
  "kernelspec": {
   "display_name": "Python 3",
   "language": "python",
   "name": "python3"
  },
  "language_info": {
   "codemirror_mode": {
    "name": "ipython",
    "version": 3
   },
   "file_extension": ".py",
   "mimetype": "text/x-python",
   "name": "python",
   "nbconvert_exporter": "python",
   "pygments_lexer": "ipython3",
   "version": "3.6.8"
  }
 },
 "nbformat": 4,
 "nbformat_minor": 4
}
