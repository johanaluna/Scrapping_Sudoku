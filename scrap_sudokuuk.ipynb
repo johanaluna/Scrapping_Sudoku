{
  "nbformat": 4,
  "nbformat_minor": 0,
  "metadata": {
    "colab": {
      "name": "scrap_sudokuuk.ipynb",
      "provenance": []
    },
    "kernelspec": {
      "name": "python3",
      "display_name": "Python 3"
    }
  },
  "cells": [
    {
      "cell_type": "code",
      "metadata": {
        "id": "xamzcpGRpGy7",
        "colab_type": "code",
        "outputId": "6f871dc6-2758-41c6-dead-65791751246f",
        "colab": {
          "base_uri": "https://localhost:8080/",
          "height": 122
        }
      },
      "source": [
        "!pip install requests"
      ],
      "execution_count": 0,
      "outputs": [
        {
          "output_type": "stream",
          "text": [
            "Requirement already satisfied: requests in /usr/local/lib/python3.6/dist-packages (2.21.0)\n",
            "Requirement already satisfied: idna<2.9,>=2.5 in /usr/local/lib/python3.6/dist-packages (from requests) (2.8)\n",
            "Requirement already satisfied: chardet<3.1.0,>=3.0.2 in /usr/local/lib/python3.6/dist-packages (from requests) (3.0.4)\n",
            "Requirement already satisfied: urllib3<1.25,>=1.21.1 in /usr/local/lib/python3.6/dist-packages (from requests) (1.24.3)\n",
            "Requirement already satisfied: certifi>=2017.4.17 in /usr/local/lib/python3.6/dist-packages (from requests) (2019.9.11)\n"
          ],
          "name": "stdout"
        }
      ]
    },
    {
      "cell_type": "code",
      "metadata": {
        "id": "IRHfNLYSpkXq",
        "colab_type": "code",
        "outputId": "162238a6-0111-43e1-8a8a-49029c0f07e4",
        "colab": {
          "base_uri": "https://localhost:8080/",
          "height": 88
        }
      },
      "source": [
        "!pip install html5lib"
      ],
      "execution_count": 0,
      "outputs": [
        {
          "output_type": "stream",
          "text": [
            "Requirement already satisfied: html5lib in /usr/local/lib/python3.6/dist-packages (1.0.1)\n",
            "Requirement already satisfied: webencodings in /usr/local/lib/python3.6/dist-packages (from html5lib) (0.5.1)\n",
            "Requirement already satisfied: six>=1.9 in /usr/local/lib/python3.6/dist-packages (from html5lib) (1.12.0)\n"
          ],
          "name": "stdout"
        }
      ]
    },
    {
      "cell_type": "code",
      "metadata": {
        "id": "-yI6gJrrpmM6",
        "colab_type": "code",
        "outputId": "289b6b75-b48e-4b43-bd3f-08a044a5b41a",
        "colab": {
          "base_uri": "https://localhost:8080/",
          "height": 71
        }
      },
      "source": [
        "!pip install bs4"
      ],
      "execution_count": 0,
      "outputs": [
        {
          "output_type": "stream",
          "text": [
            "Requirement already satisfied: bs4 in /usr/local/lib/python3.6/dist-packages (0.0.1)\n",
            "Requirement already satisfied: beautifulsoup4 in /usr/local/lib/python3.6/dist-packages (from bs4) (4.6.3)\n"
          ],
          "name": "stdout"
        }
      ]
    },
    {
      "cell_type": "code",
      "metadata": {
        "id": "EllBIQEJn4FU",
        "colab_type": "code",
        "colab": {}
      },
      "source": [
        "# Import Libraries\n",
        "from bs4 import BeautifulSoup\n",
        "import urllib3\n",
        "import requests \n",
        "import datetime\n",
        "import numpy as np\n",
        "import pandas as pd"
      ],
      "execution_count": 0,
      "outputs": []
    },
    {
      "cell_type": "code",
      "metadata": {
        "id": "vnjOUIiN4N8a",
        "colab_type": "code",
        "colab": {}
      },
      "source": [
        "# Get all html code from webpage\n",
        "\n",
        "URL = \"http://www.sudoku.org.uk/DailySudoku.asp?solution=please&day=11/25/2019\"\n",
        "r = requests.get(URL) \n",
        "soup = BeautifulSoup(r.content,'html5lib')"
      ],
      "execution_count": 0,
      "outputs": []
    },
    {
      "cell_type": "code",
      "metadata": {
        "id": "9Wb2DqbOoKN2",
        "colab_type": "code",
        "colab": {}
      },
      "source": [
        "# def get_html(daten):\n",
        "#   URL = \"http://www.sudoku.org.uk/DailySudoku.asp?solution=please&day=\"+daten\n",
        "#   #URL = \"http://www.sudoku.org.uk/DailySudoku.asp?solution=please&day=11/24/2003\"\n",
        "#   r = requests.get(URL) \n",
        "#   return BeautifulSoup(r.content,'html5lib')"
      ],
      "execution_count": 0,
      "outputs": []
    },
    {
      "cell_type": "code",
      "metadata": {
        "id": "kPWsFYWUuYyk",
        "colab_type": "code",
        "colab": {}
      },
      "source": [
        "# Print code\n",
        "print(soup.prettify())"
      ],
      "execution_count": 0,
      "outputs": []
    },
    {
      "cell_type": "code",
      "metadata": {
        "id": "Gv8ncWQ8aAJP",
        "colab_type": "code",
        "outputId": "214442a6-1ef3-4c88-df0f-de6b60f4a9f8",
        "colab": {
          "base_uri": "https://localhost:8080/",
          "height": 34
        }
      },
      "source": [
        "# make a list with all days to extract in URL\n",
        "dates = []\n",
        "for i in range(2,3):\n",
        "  d = datetime.date.today()- datetime.timedelta(days = i)\n",
        "  dates.append(str(d.day)+'/'+str(d.month) +'/'+ str(d.year))\n",
        "print(len(dates))"
      ],
      "execution_count": 267,
      "outputs": [
        {
          "output_type": "stream",
          "text": [
            "1\n"
          ],
          "name": "stdout"
        }
      ]
    },
    {
      "cell_type": "code",
      "metadata": {
        "id": "4bwDil9YaEzs",
        "colab_type": "code",
        "outputId": "012caf05-c8cd-460f-8886-67e1036aea55",
        "colab": {
          "base_uri": "https://localhost:8080/",
          "height": 34
        }
      },
      "source": [
        "dates[0]"
      ],
      "execution_count": 231,
      "outputs": [
        {
          "output_type": "execute_result",
          "data": {
            "text/plain": [
              "'11/25/2019'"
            ]
          },
          "metadata": {
            "tags": []
          },
          "execution_count": 231
        }
      ]
    },
    {
      "cell_type": "code",
      "metadata": {
        "id": "V3ab9x39PAsq",
        "colab_type": "code",
        "colab": {}
      },
      "source": [
        "solution =[]\n",
        "sudoku=[]\n",
        "for date in dates:\n",
        "  a=[]\n",
        "  b=[]\n",
        "  #soup = get_html(date)\n",
        "  if soup.find('h2'):\n",
        "    print('yes')\n",
        "  else:\n",
        "    for link in soup.find_all('td', attrs={'class': ['InnerTDone2','InnerTDone'] }):\n",
        "      if link.attrs['class'] == ['InnerTDone2']:\n",
        "        b.append(link.text)\n",
        "      else:\n",
        "        b.append('.')\n",
        "      a.append(link.text)\n",
        "    sudoku.append(''.join(b))\n",
        "    solution.append(''.join(a))\n",
        " "
      ],
      "execution_count": 0,
      "outputs": []
    },
    {
      "cell_type": "code",
      "metadata": {
        "id": "BtWKTn8qTzmg",
        "colab_type": "code",
        "colab": {}
      },
      "source": [
        "# def get_sudoku(dates):\n",
        "#   sudokus=[]\n",
        "#   given=[]\n",
        "#   for date in dates:\n",
        "#     a=[]\n",
        "#     b=[]\n",
        "#     soup = get_html(date)\n",
        "#     if soup.find('h2'):\n",
        "#       print('yes')\n",
        "#     else:\n",
        "#       for link in soup.find_all('td', attrs={'class': ['InnerTDone2','InnerTDone'] }):\n",
        "#         if link.attrs['class'] == ['InnerTDone2']:\n",
        "#           b.append(1)\n",
        "#         else:\n",
        "#           b.append(0)\n",
        "#         a.append(link.text)\n",
        "#       given.append(b)\n",
        "#       sudokus.append(a)\n",
        "#   return given, sudokus\n",
        " "
      ],
      "execution_count": 0,
      "outputs": []
    },
    {
      "cell_type": "code",
      "metadata": {
        "id": "gvgP6g2iJH7i",
        "colab_type": "code",
        "colab": {}
      },
      "source": [
        "\n",
        "# for url in urls :\n",
        "#   try: \n",
        "#     soup = get_html(url)\n",
        "#     p = list(list(soup.table.td)[2])\n",
        "#     level.append(str(p[1].get_text()).split(\", \")[1].split()[0])\n",
        "#     people.append(str(p[3]).split()[0])\n",
        "#   except:\n",
        "#     print(url)"
      ],
      "execution_count": 0,
      "outputs": []
    },
    {
      "cell_type": "code",
      "metadata": {
        "id": "wMan07twnn3u",
        "colab_type": "code",
        "colab": {
          "base_uri": "https://localhost:8080/",
          "height": 34
        },
        "outputId": "7a4da5b0-0cd3-4492-929e-907ee9e15c63"
      },
      "source": [
        "sudoku[0]"
      ],
      "execution_count": 250,
      "outputs": [
        {
          "output_type": "execute_result",
          "data": {
            "text/plain": [
              "'..96417..78.9....4...3...........27.4.3...8.1.76...........5...6....3.48..57189..'"
            ]
          },
          "metadata": {
            "tags": []
          },
          "execution_count": 250
        }
      ]
    },
    {
      "cell_type": "code",
      "metadata": {
        "id": "YzvSx6yRnv_j",
        "colab_type": "code",
        "colab": {
          "base_uri": "https://localhost:8080/",
          "height": 34
        },
        "outputId": "880bc5cd-da06-4eb0-ee4a-9c40380d2be8"
      },
      "source": [
        "solution[0]"
      ],
      "execution_count": 252,
      "outputs": [
        {
          "output_type": "execute_result",
          "data": {
            "text/plain": [
              "'239641785781952634564387129958134276423576891176829453892465317617293548345718962'"
            ]
          },
          "metadata": {
            "tags": []
          },
          "execution_count": 252
        }
      ]
    },
    {
      "cell_type": "code",
      "metadata": {
        "id": "tapsCC0FteyU",
        "colab_type": "code",
        "colab": {}
      },
      "source": [
        "# given, sudokus = get_sudoku(dates)"
      ],
      "execution_count": 0,
      "outputs": []
    },
    {
      "cell_type": "code",
      "metadata": {
        "id": "tct-nyi7o8tm",
        "colab_type": "code",
        "colab": {
          "base_uri": "https://localhost:8080/",
          "height": 34
        },
        "outputId": "eda548c6-d5ac-4a46-a4ae-a7092364b8aa"
      },
      "source": [
        "def split(element): \n",
        "    return [char for char in element]  \n",
        "      \n",
        "\n",
        "print(len(split(sudoku[0])))"
      ],
      "execution_count": 255,
      "outputs": [
        {
          "output_type": "stream",
          "text": [
            "81\n"
          ],
          "name": "stdout"
        }
      ]
    },
    {
      "cell_type": "code",
      "metadata": {
        "id": "wbM2WPOeo8jV",
        "colab_type": "code",
        "colab": {}
      },
      "source": [
        ""
      ],
      "execution_count": 0,
      "outputs": []
    },
    {
      "cell_type": "code",
      "metadata": {
        "id": "iXz5lve4o8Ze",
        "colab_type": "code",
        "colab": {}
      },
      "source": [
        ""
      ],
      "execution_count": 0,
      "outputs": []
    },
    {
      "cell_type": "code",
      "metadata": {
        "id": "iO2WXTDTqGIB",
        "colab_type": "code",
        "colab": {}
      },
      "source": [
        "def transform_matrix(element):\n",
        "  \n",
        "  B = np.reshape(split(element), (-1, 9))\n",
        "  print(B)"
      ],
      "execution_count": 0,
      "outputs": []
    },
    {
      "cell_type": "code",
      "metadata": {
        "id": "x-SCrreTr8lN",
        "colab_type": "code",
        "outputId": "0362fd97-81f0-4e6d-d211-3d48b2b3be59",
        "colab": {
          "base_uri": "https://localhost:8080/",
          "height": 170
        }
      },
      "source": [
        "transform_matrix(solution[0])"
      ],
      "execution_count": 259,
      "outputs": [
        {
          "output_type": "stream",
          "text": [
            "[['2' '3' '9' '6' '4' '1' '7' '8' '5']\n",
            " ['7' '8' '1' '9' '5' '2' '6' '3' '4']\n",
            " ['5' '6' '4' '3' '8' '7' '1' '2' '9']\n",
            " ['9' '5' '8' '1' '3' '4' '2' '7' '6']\n",
            " ['4' '2' '3' '5' '7' '6' '8' '9' '1']\n",
            " ['1' '7' '6' '8' '2' '9' '4' '5' '3']\n",
            " ['8' '9' '2' '4' '6' '5' '3' '1' '7']\n",
            " ['6' '1' '7' '2' '9' '3' '5' '4' '8']\n",
            " ['3' '4' '5' '7' '1' '8' '9' '6' '2']]\n"
          ],
          "name": "stdout"
        }
      ]
    },
    {
      "cell_type": "code",
      "metadata": {
        "id": "3HsGmajN9jm7",
        "colab_type": "code",
        "colab": {
          "base_uri": "https://localhost:8080/",
          "height": 170
        },
        "outputId": "37f0eae6-ae7f-4ef6-a60c-ec0beef549f7"
      },
      "source": [
        "np.reshape(given[0][:], (-1, 9))"
      ],
      "execution_count": 18,
      "outputs": [
        {
          "output_type": "execute_result",
          "data": {
            "text/plain": [
              "array([[0, 0, 1, 1, 0, 0, 1, 0, 0],\n",
              "       [0, 1, 1, 0, 0, 0, 0, 0, 1],\n",
              "       [0, 1, 0, 0, 0, 1, 0, 0, 1],\n",
              "       [1, 0, 0, 1, 1, 0, 0, 0, 0],\n",
              "       [0, 1, 0, 0, 0, 0, 0, 1, 0],\n",
              "       [0, 0, 0, 0, 1, 1, 0, 0, 1],\n",
              "       [1, 1, 0, 1, 0, 0, 0, 1, 0],\n",
              "       [1, 0, 0, 0, 0, 0, 1, 1, 0],\n",
              "       [0, 0, 1, 0, 0, 1, 1, 0, 0]])"
            ]
          },
          "metadata": {
            "tags": []
          },
          "execution_count": 18
        }
      ]
    },
    {
      "cell_type": "code",
      "metadata": {
        "id": "Xk0luLDnKTfX",
        "colab_type": "code",
        "outputId": "ef36ee77-742b-4d06-9b00-4d233c41062e",
        "colab": {
          "base_uri": "https://localhost:8080/",
          "height": 34
        }
      },
      "source": [
        "datetime.date.today()"
      ],
      "execution_count": 3,
      "outputs": [
        {
          "output_type": "execute_result",
          "data": {
            "text/plain": [
              "datetime.date(2019, 11, 26)"
            ]
          },
          "metadata": {
            "tags": []
          },
          "execution_count": 3
        }
      ]
    },
    {
      "cell_type": "code",
      "metadata": {
        "id": "Tp3_v3TJAdER",
        "colab_type": "code",
        "colab": {}
      },
      "source": [
        "# http://www.sudoku.org.uk/DailySudoku.asp?solution=please&day=22/8/2005"
      ],
      "execution_count": 0,
      "outputs": []
    },
    {
      "cell_type": "code",
      "metadata": {
        "id": "Mw_3wP_z33lW",
        "colab_type": "code",
        "colab": {}
      },
      "source": [
        "# Mondays are Gentle - Today!\n",
        "# Tuesdays are Moderate\n",
        "# Wednesdays are Moderate\n",
        "# Thursdays are Tough\n",
        "# Fridays are Diabolical!\n",
        "# Saturday's puzzle is Moderate\n",
        "# Sundays's puzzle is Diabolical!"
      ],
      "execution_count": 0,
      "outputs": []
    },
    {
      "cell_type": "code",
      "metadata": {
        "id": "rMdjjXR4Oc-1",
        "colab_type": "code",
        "colab": {
          "base_uri": "https://localhost:8080/",
          "height": 34
        },
        "outputId": "0b817e29-4df1-4c9c-c9ca-d7852df5bf4a"
      },
      "source": [
        "# extract lo que hay adentro del atributo\n",
        "all_links = soup.find_all(\"link\")\n",
        "for link in all_links:\n",
        "    print(link.get(\"href\"))"
      ],
      "execution_count": 31,
      "outputs": [
        {
          "output_type": "stream",
          "text": [
            "sudokuprintable.css\n"
          ],
          "name": "stdout"
        }
      ]
    },
    {
      "cell_type": "code",
      "metadata": {
        "id": "9z8q2ZJhPuj0",
        "colab_type": "code",
        "colab": {
          "base_uri": "https://localhost:8080/",
          "height": 34
        },
        "outputId": "f56f1fa4-8317-4b7a-c819-c315cc700a3e"
      },
      "source": [
        "# Print the first 10 rows for sanity check\n",
        "rows = soup.find_all('td')\n",
        "rows[1]"
      ],
      "execution_count": 262,
      "outputs": [
        {
          "output_type": "execute_result",
          "data": {
            "text/plain": [
              "<td width=\"10\"></td>"
            ]
          },
          "metadata": {
            "tags": []
          },
          "execution_count": 262
        }
      ]
    },
    {
      "cell_type": "code",
      "metadata": {
        "id": "EB6Rj2a0Q0Ka",
        "colab_type": "code",
        "colab": {
          "base_uri": "https://localhost:8080/",
          "height": 54
        },
        "outputId": "6e5cf825-2f41-47b9-940c-0c30238f3121"
      },
      "source": [
        "rows[0].text"
      ],
      "execution_count": 67,
      "outputs": [
        {
          "output_type": "execute_result",
          "data": {
            "text/plain": [
              "'\\n\\t\\tDaily Sudoku Competition for Nov 25 \\n\\t\\tNumber 5251, Gentle - SOLUTION287 people took an average of 12 minutes to correctly complete this puzzle\\n\\t\\t\\n\\t\\tby Crosswords Ltd. November Puzzle Packs Now Out!. Thanks for supporting our site.\\n\\t\\t\\t\\t\\n\\t\\tFuture Puzzle - will be submitted on the relevant day\\n\\t\\t\\t\\t\\n\\t'"
            ]
          },
          "metadata": {
            "tags": []
          },
          "execution_count": 67
        }
      ]
    },
    {
      "cell_type": "code",
      "metadata": {
        "id": "_qKiDaV3RNrw",
        "colab_type": "code",
        "colab": {}
      },
      "source": [
        "for row in rows:\n",
        "  \n",
        "    print(row.get_text())"
      ],
      "execution_count": 0,
      "outputs": []
    },
    {
      "cell_type": "code",
      "metadata": {
        "id": "qXZG_lMgQDW0",
        "colab_type": "code",
        "colab": {
          "base_uri": "https://localhost:8080/",
          "height": 170
        },
        "outputId": "18b233e4-ab81-4c44-d0e3-f951cc286620"
      },
      "source": [
        "print(soup.select(\"html body td\")[0].get_text())"
      ],
      "execution_count": 72,
      "outputs": [
        {
          "output_type": "stream",
          "text": [
            "\n",
            "\t\tDaily Sudoku Competition for Nov 25 \n",
            "\t\tNumber 5251, Gentle - SOLUTION287 people took an average of 12 minutes to correctly complete this puzzle\n",
            "\t\t\n",
            "\t\tby Crosswords Ltd. November Puzzle Packs Now Out!. Thanks for supporting our site.\n",
            "\t\t\t\t\n",
            "\t\tFuture Puzzle - will be submitted on the relevant day\n",
            "\t\t\t\t\n",
            "\t\n"
          ],
          "name": "stdout"
        }
      ]
    },
    {
      "cell_type": "code",
      "metadata": {
        "id": "ul15CotwQDPg",
        "colab_type": "code",
        "colab": {
          "base_uri": "https://localhost:8080/",
          "height": 34
        },
        "outputId": "586d20bc-ee03-4b26-9cee-12e125774074"
      },
      "source": [
        "contentTable  = soup.find('tr')\n",
        "rows  = contentTable.find_all('td', string=('Number'))\n",
        "print(rows)\n",
        "for row in rows:\n",
        "    print(row.get_text())"
      ],
      "execution_count": 75,
      "outputs": [
        {
          "output_type": "stream",
          "text": [
            "[]\n"
          ],
          "name": "stdout"
        }
      ]
    },
    {
      "cell_type": "code",
      "metadata": {
        "id": "o6IFQln4QDIL",
        "colab_type": "code",
        "colab": {
          "base_uri": "https://localhost:8080/",
          "height": 156
        },
        "outputId": "79328738-14d3-4445-9608-48c9e14def23"
      },
      "source": [
        "content = requests.get(URL)\n",
        "soup = BeautifulSoup(content.text, 'html.parser')\n",
        "#print(soup.head, soup.title)\n",
        "print(soup.table.td)"
      ],
      "execution_count": 112,
      "outputs": [
        {
          "output_type": "stream",
          "text": [
            "<td align=\"left\" colspan=\"2\">\n",
            "<font size=\"5\">Daily Sudoku Competition for Nov 25 </font><p>\n",
            "<font size=\"5\">Number 5251, Gentle - SOLUTION</font><br/>287 people took an average of 12 minutes to correctly complete this puzzle<br/>\n",
            "<br/>\n",
            "<font size=\"2\">by Crosswords Ltd. <font color=\"blue\"><a href=\"http://www.sudokulist.com/ordering/MMPuzzles.asp\">November Puzzle Packs Now Out!</a>. Thanks for supporting our site.</font></font><p>\n",
            "<font size=\"2\">Future Puzzle - will be submitted on the relevant day</font><p>\n",
            "</p></p></p></td>\n"
          ],
          "name": "stdout"
        }
      ]
    },
    {
      "cell_type": "code",
      "metadata": {
        "id": "vLKyGUL3QDA9",
        "colab_type": "code",
        "colab": {
          "base_uri": "https://localhost:8080/",
          "height": 156
        },
        "outputId": "cca43ccd-322a-49a3-d68a-caf783f6dda3"
      },
      "source": [
        "soup.table.td"
      ],
      "execution_count": 116,
      "outputs": [
        {
          "output_type": "execute_result",
          "data": {
            "text/plain": [
              "<td align=\"left\" colspan=\"2\">\n",
              "<font size=\"5\">Daily Sudoku Competition for Nov 25 </font><p>\n",
              "<font size=\"5\">Number 5251, Gentle - SOLUTION</font><br/>287 people took an average of 12 minutes to correctly complete this puzzle<br/>\n",
              "<br/>\n",
              "<font size=\"2\">by Crosswords Ltd. <font color=\"blue\"><a href=\"http://www.sudokulist.com/ordering/MMPuzzles.asp\">November Puzzle Packs Now Out!</a>. Thanks for supporting our site.</font></font><p>\n",
              "<font size=\"2\">Future Puzzle - will be submitted on the relevant day</font><p>\n",
              "</p></p></p></td>"
            ]
          },
          "metadata": {
            "tags": []
          },
          "execution_count": 116
        }
      ]
    },
    {
      "cell_type": "code",
      "metadata": {
        "id": "Gq_s-xbxQC6f",
        "colab_type": "code",
        "colab": {
          "base_uri": "https://localhost:8080/",
          "height": 340
        },
        "outputId": "06c0ff32-996d-4fe6-87ea-9782ab9d6241"
      },
      "source": [
        "print (soup.table.td.get_text(separator='\\n'))"
      ],
      "execution_count": 106,
      "outputs": [
        {
          "output_type": "stream",
          "text": [
            "\n",
            "\n",
            "Daily Sudoku Competition for Nov 25 \n",
            "\n",
            "\n",
            "Number 5251, Gentle - SOLUTION\n",
            "287 people took an average of 12 minutes to correctly complete this puzzle\n",
            "\n",
            "\n",
            "\n",
            "\n",
            "by Crosswords Ltd. \n",
            "November Puzzle Packs Now Out!\n",
            ". Thanks for supporting our site.\n",
            "\n",
            "\n",
            "Future Puzzle - will be submitted on the relevant day\n",
            "\n",
            "\n"
          ],
          "name": "stdout"
        }
      ]
    },
    {
      "cell_type": "code",
      "metadata": {
        "id": "G7VEhzVEQCv_",
        "colab_type": "code",
        "colab": {}
      },
      "source": [
        "aa= soup.table.td.get_text(separator='\\n')"
      ],
      "execution_count": 0,
      "outputs": []
    },
    {
      "cell_type": "code",
      "metadata": {
        "id": "K4zi0vRyQCeo",
        "colab_type": "code",
        "colab": {
          "base_uri": "https://localhost:8080/",
          "height": 34
        },
        "outputId": "f61992ce-4043-45ad-ff6f-bd7d4aae9ecb"
      },
      "source": [
        "aa[5]"
      ],
      "execution_count": 110,
      "outputs": [
        {
          "output_type": "execute_result",
          "data": {
            "text/plain": [
              "'l'"
            ]
          },
          "metadata": {
            "tags": []
          },
          "execution_count": 110
        }
      ]
    },
    {
      "cell_type": "code",
      "metadata": {
        "id": "0VxUSE9VYDEC",
        "colab_type": "code",
        "colab": {}
      },
      "source": [
        "p= list(soup.table.td)[2]"
      ],
      "execution_count": 0,
      "outputs": []
    },
    {
      "cell_type": "code",
      "metadata": {
        "id": "JhaKb2w-YC0M",
        "colab_type": "code",
        "colab": {
          "base_uri": "https://localhost:8080/",
          "height": 139
        },
        "outputId": "415e326c-1bd5-4e1e-c5b2-653402b4c695"
      },
      "source": [
        "p"
      ],
      "execution_count": 191,
      "outputs": [
        {
          "output_type": "execute_result",
          "data": {
            "text/plain": [
              "<p>\n",
              "<font size=\"5\">Number 5251, Gentle - SOLUTION</font><br/>287 people took an average of 12 minutes to correctly complete this puzzle<br/>\n",
              "<br/>\n",
              "<font size=\"2\">by Crosswords Ltd. <font color=\"blue\"><a href=\"http://www.sudokulist.com/ordering/MMPuzzles.asp\">November Puzzle Packs Now Out!</a>. Thanks for supporting our site.</font></font><p>\n",
              "<font size=\"2\">Future Puzzle - will be submitted on the relevant day</font><p>\n",
              "</p></p></p>"
            ]
          },
          "metadata": {
            "tags": []
          },
          "execution_count": 191
        }
      ]
    },
    {
      "cell_type": "code",
      "metadata": {
        "id": "YTwRxGiCiTPK",
        "colab_type": "code",
        "colab": {}
      },
      "source": [
        "level=str(list(p)[1].get_text())\n",
        "people_min=str(list(p)[3])"
      ],
      "execution_count": 0,
      "outputs": []
    },
    {
      "cell_type": "code",
      "metadata": {
        "id": "6nyT9kbjYCOA",
        "colab_type": "code",
        "colab": {
          "base_uri": "https://localhost:8080/",
          "height": 34
        },
        "outputId": "83195463-1dee-41f9-9bd1-9c1824166e6e"
      },
      "source": [
        "level.split(\", \")[1].split()[0]"
      ],
      "execution_count": 221,
      "outputs": [
        {
          "output_type": "execute_result",
          "data": {
            "text/plain": [
              "'Gentle'"
            ]
          },
          "metadata": {
            "tags": []
          },
          "execution_count": 221
        }
      ]
    },
    {
      "cell_type": "code",
      "metadata": {
        "id": "VkRT1nTBjzSs",
        "colab_type": "code",
        "colab": {
          "base_uri": "https://localhost:8080/",
          "height": 34
        },
        "outputId": "2c411c1d-a560-45b3-c90b-8ca3cc060ef5"
      },
      "source": [
        "people_min.split()[0]"
      ],
      "execution_count": 226,
      "outputs": [
        {
          "output_type": "execute_result",
          "data": {
            "text/plain": [
              "'287'"
            ]
          },
          "metadata": {
            "tags": []
          },
          "execution_count": 226
        }
      ]
    },
    {
      "cell_type": "code",
      "metadata": {
        "id": "HSJ9OJ-ajzKz",
        "colab_type": "code",
        "colab": {
          "base_uri": "https://localhost:8080/",
          "height": 34
        },
        "outputId": "bbd828ae-ee1c-4d99-a782-ea75ca5a4745"
      },
      "source": [
        "people_min.split()[6]"
      ],
      "execution_count": 223,
      "outputs": [
        {
          "output_type": "execute_result",
          "data": {
            "text/plain": [
              "'12'"
            ]
          },
          "metadata": {
            "tags": []
          },
          "execution_count": 223
        }
      ]
    },
    {
      "cell_type": "code",
      "metadata": {
        "id": "MYrjkf7_jzHn",
        "colab_type": "code",
        "colab": {
          "base_uri": "https://localhost:8080/",
          "height": 34
        },
        "outputId": "2d6edffe-a2c3-43be-d418-2251bd2410c5"
      },
      "source": [
        "people_min.split()[7]"
      ],
      "execution_count": 224,
      "outputs": [
        {
          "output_type": "execute_result",
          "data": {
            "text/plain": [
              "'minutes'"
            ]
          },
          "metadata": {
            "tags": []
          },
          "execution_count": 224
        }
      ]
    },
    {
      "cell_type": "code",
      "metadata": {
        "id": "s76momxLjy_K",
        "colab_type": "code",
        "colab": {}
      },
      "source": [
        ""
      ],
      "execution_count": 0,
      "outputs": []
    },
    {
      "cell_type": "code",
      "metadata": {
        "id": "ds30Hgrsjy2R",
        "colab_type": "code",
        "colab": {}
      },
      "source": [
        ""
      ],
      "execution_count": 0,
      "outputs": []
    },
    {
      "cell_type": "code",
      "metadata": {
        "id": "0Ep5NdiCDn3W",
        "colab_type": "code",
        "colab": {
          "base_uri": "https://localhost:8080/",
          "height": 51
        },
        "outputId": "53ae5b93-d117-4a54-9604-0458a5f75e02"
      },
      "source": [
        "import pandas as pd\n",
        "df = pd.DataFrame(list_rows)\n",
        "df[0]"
      ],
      "execution_count": 63,
      "outputs": [
        {
          "output_type": "execute_result",
          "data": {
            "text/plain": [
              "0    \\n\\t\\tDaily Sudoku Competition for Nov 25 \\n\\t...\n",
              "Name: 0, dtype: object"
            ]
          },
          "metadata": {
            "tags": []
          },
          "execution_count": 63
        }
      ]
    },
    {
      "cell_type": "code",
      "metadata": {
        "id": "Khr4k2PcKa6d",
        "colab_type": "code",
        "colab": {
          "base_uri": "https://localhost:8080/",
          "height": 80
        },
        "outputId": "a5d0fce5-4167-437a-a7e7-7b632d1d538d"
      },
      "source": [
        "df1 = df[0].str.split('\\n', expand=True)\n",
        "df1.head(10)"
      ],
      "execution_count": 54,
      "outputs": [
        {
          "output_type": "execute_result",
          "data": {
            "text/html": [
              "<div>\n",
              "<style scoped>\n",
              "    .dataframe tbody tr th:only-of-type {\n",
              "        vertical-align: middle;\n",
              "    }\n",
              "\n",
              "    .dataframe tbody tr th {\n",
              "        vertical-align: top;\n",
              "    }\n",
              "\n",
              "    .dataframe thead th {\n",
              "        text-align: right;\n",
              "    }\n",
              "</style>\n",
              "<table border=\"1\" class=\"dataframe\">\n",
              "  <thead>\n",
              "    <tr style=\"text-align: right;\">\n",
              "      <th></th>\n",
              "      <th>0</th>\n",
              "      <th>1</th>\n",
              "      <th>2</th>\n",
              "      <th>3</th>\n",
              "      <th>4</th>\n",
              "      <th>5</th>\n",
              "      <th>6</th>\n",
              "      <th>7</th>\n",
              "      <th>8</th>\n",
              "    </tr>\n",
              "  </thead>\n",
              "  <tbody>\n",
              "    <tr>\n",
              "      <th>0</th>\n",
              "      <td></td>\n",
              "      <td>\\t\\tDaily Sudoku Competition for Nov 25</td>\n",
              "      <td>\\t\\tNumber 5251, Gentle - SOLUTION287 people t...</td>\n",
              "      <td>\\t\\t</td>\n",
              "      <td>\\t\\tby Crosswords Ltd. November Puzzle Packs N...</td>\n",
              "      <td>\\t\\t\\t\\t</td>\n",
              "      <td>\\t\\tFuture Puzzle - will be submitted on the r...</td>\n",
              "      <td>\\t\\t\\t\\t</td>\n",
              "      <td>\\t</td>\n",
              "    </tr>\n",
              "  </tbody>\n",
              "</table>\n",
              "</div>"
            ],
            "text/plain": [
              "  0                                         1  ...         7   8\n",
              "0    \\t\\tDaily Sudoku Competition for Nov 25   ...  \\t\\t\\t\\t  \\t\n",
              "\n",
              "[1 rows x 9 columns]"
            ]
          },
          "metadata": {
            "tags": []
          },
          "execution_count": 54
        }
      ]
    },
    {
      "cell_type": "code",
      "metadata": {
        "id": "kCfcMVvDM_Mk",
        "colab_type": "code",
        "colab": {
          "base_uri": "https://localhost:8080/",
          "height": 34
        },
        "outputId": "ba4cb3e0-08fd-4449-f16c-fab6956e5811"
      },
      "source": [
        "list(df1.columns)"
      ],
      "execution_count": 56,
      "outputs": [
        {
          "output_type": "execute_result",
          "data": {
            "text/plain": [
              "[0, 1, 2, 3, 4, 5, 6, 7, 8]"
            ]
          },
          "metadata": {
            "tags": []
          },
          "execution_count": 56
        }
      ]
    },
    {
      "cell_type": "code",
      "metadata": {
        "id": "1ECKq8TbNH8O",
        "colab_type": "code",
        "colab": {
          "base_uri": "https://localhost:8080/",
          "height": 51
        },
        "outputId": "18da01bc-c47b-4a16-b6b8-20910b235629"
      },
      "source": [
        ""
      ],
      "execution_count": 64,
      "outputs": [
        {
          "output_type": "stream",
          "text": [
            "0    \\t\\tNumber 5251, Gentle - SOLUTION287 people t...\n",
            "Name: 2, dtype: object\n"
          ],
          "name": "stdout"
        }
      ]
    },
    {
      "cell_type": "code",
      "metadata": {
        "id": "bEwekKPjMidz",
        "colab_type": "code",
        "colab": {}
      },
      "source": [
        "df1.drop(['0',])"
      ],
      "execution_count": 0,
      "outputs": []
    },
    {
      "cell_type": "code",
      "metadata": {
        "id": "smQTU-ao3K8l",
        "colab_type": "code",
        "colab": {}
      },
      "source": [
        ""
      ],
      "execution_count": 0,
      "outputs": []
    },
    {
      "cell_type": "code",
      "metadata": {
        "id": "iqApnx1k3Ky7",
        "colab_type": "code",
        "colab": {}
      },
      "source": [
        "\n",
        "URL = \"http://www.sudoku.org.uk/DailySudoku.asp?solution=please&day=11/25/2019\""
      ],
      "execution_count": 0,
      "outputs": []
    },
    {
      "cell_type": "code",
      "metadata": {
        "id": "sNSwec_43KoP",
        "colab_type": "code",
        "colab": {
          "base_uri": "https://localhost:8080/",
          "height": 34
        },
        "outputId": "5381ad6a-d03e-4920-ab63-d9a33a7602d0"
      },
      "source": [
        "from urllib.request import urlopen \n",
        "from urllib.error import HTTPError \n",
        "from urllib.error import URLError\n",
        "try:\n",
        "  html = urlopen('http://www.sudoku.org.uk/DailySudoku.asp?solution=please&day=11/25/2003')\n",
        "except HTTPError as e: \n",
        "  print(e)\n",
        "except URLError as e:\n",
        "  print('The server could not be found!')\n",
        "else:\n",
        "  print('It Worked!')"
      ],
      "execution_count": 266,
      "outputs": [
        {
          "output_type": "stream",
          "text": [
            "HTTP Error 500: Internal Server Error\n"
          ],
          "name": "stdout"
        }
      ]
    },
    {
      "cell_type": "code",
      "metadata": {
        "id": "DyLLhOpB3TkC",
        "colab_type": "code",
        "colab": {}
      },
      "source": [
        ""
      ],
      "execution_count": 0,
      "outputs": []
    }
  ]
}