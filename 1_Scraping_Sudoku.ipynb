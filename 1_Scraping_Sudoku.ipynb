{
 "cells": [
  {
   "cell_type": "markdown",
   "metadata": {
    "colab_type": "text",
    "id": "umL15HBo5AUd"
   },
   "source": [
    "### Final version Scrapping Sudoku UK\n"
   ]
  },
  {
   "cell_type": "code",
   "execution_count": 1,
   "metadata": {
    "colab": {},
    "colab_type": "code",
    "id": "_QG2jmswOkHm"
   },
   "outputs": [],
   "source": [
    "from bs4 import BeautifulSoup\n",
    "import urllib3\n",
    "import requests \n",
    "import datetime\n",
    "import numpy as np\n",
    "import pandas as pd\n",
    "from urllib.request import urlopen \n",
    "from urllib.error import HTTPError \n",
    "from urllib.error import URLError\n",
    "from tqdm import tqdm"
   ]
  },
  {
   "cell_type": "markdown",
   "metadata": {
    "colab_type": "text",
    "id": "VApKMQxns-oj"
   },
   "source": [
    "## FUNCTIONS"
   ]
  },
  {
   "cell_type": "markdown",
   "metadata": {
    "colab_type": "text",
    "id": "FmyZphEBtCow"
   },
   "source": [
    "## Get_dates():\n",
    "To extract all the data we need to open all the different solutions that have been posted during the time in the web site. "
   ]
  },
  {
   "cell_type": "code",
   "execution_count": 2,
   "metadata": {
    "colab": {},
    "colab_type": "code",
    "id": "O3YA5wgC4_zI"
   },
   "outputs": [],
   "source": [
    "def list_dates():\n",
    "  dates = []\n",
    "  dates_error = []\n",
    "  urls = []\n",
    "  for i in tqdm(range(2,5269)):\n",
    "    d = datetime.date.today()- datetime.timedelta(days = i)\n",
    "    d_format = str(d.day)+'/'+str(d.month) +'/'+ str(d.year)\n",
    "    URL = \"http://www.sudoku.org.uk/DailySudoku.asp?solution=please&day=\"+d_format\n",
    "    try:\n",
    "      urlopen(URL)\n",
    "    except HTTPError as e:\n",
    "        pass\n",
    "#       dates_error.append(d_format)\n",
    "    except URLError as e:\n",
    "        pass\n",
    "#       dates_error.append(d_format)\n",
    "    else:\n",
    "#       dates.append(d_format)\n",
    "      urls.append(URL)\n",
    "  return urls\n"
   ]
  },
  {
   "cell_type": "markdown",
   "metadata": {
    "colab_type": "text",
    "id": "glu191x9tpmH"
   },
   "source": [
    "## Get_html()\n",
    "Using the list of the days we're going to open each URL and extract all the HTML code."
   ]
  },
  {
   "cell_type": "code",
   "execution_count": 3,
   "metadata": {
    "colab": {},
    "colab_type": "code",
    "id": "2FdF6AfD4-VX"
   },
   "outputs": [],
   "source": [
    "def get_html(url):\n",
    "  r = requests.get(url) \n",
    "  return BeautifulSoup(r.content,'html.parser')"
   ]
  },
  {
   "cell_type": "markdown",
   "metadata": {
    "colab_type": "text",
    "id": "ssT4VJMuuCjm"
   },
   "source": [
    "## Consolidate()\n",
    "extract all the sudokus and their solutions, the level of difficulty, number of people that solved the soduku and the average time in minutes."
   ]
  },
  {
   "cell_type": "code",
   "execution_count": 4,
   "metadata": {
    "colab": {},
    "colab_type": "code",
    "id": "yuwVP45yOoiz"
   },
   "outputs": [],
   "source": [
    "def consolidate(urls):\n",
    "    solution, sudoku, level, people,av_time, unit = ([] for i in range(6))\n",
    "\n",
    "    for url in tqdm(urls):\n",
    "        a, b = ([] for i in range(2))\n",
    "        soup = get_html(url)\n",
    "        for link in soup.find_all('td', attrs={'class': ['InnerTDone2','InnerTDone'] }):\n",
    "            if link.attrs['class'] == ['InnerTDone2']:\n",
    "              b.append(link.text)\n",
    "            else:\n",
    "              b.append('.')\n",
    "            a.append(link.text)\n",
    "            \n",
    "        sudoku.append(''.join(b))\n",
    "        solution.append(''.join(a))\n",
    "             \n",
    "        p = list(list(soup.table.td)[2])\n",
    "        level.append(str(p[1].get_text()).split(\", \")[1].split()[0])\n",
    "        people.append(str(p[3]).split()[0])\n",
    "        av_time.append(str(p[3]).split()[6])\n",
    "        unit.append(str(p[3]).split()[7])\n",
    "        \n",
    "    return  urls, level, people, av_time, unit, sudoku, solution "
   ]
  },
  {
   "cell_type": "markdown",
   "metadata": {
    "colab_type": "text",
    "id": "KvyA16N-GyEK"
   },
   "source": [
    "# Extract Dates"
   ]
  },
  {
   "cell_type": "code",
   "execution_count": 5,
   "metadata": {
    "colab": {},
    "colab_type": "code",
    "id": "0_ubcNKjOrAo"
   },
   "outputs": [
    {
     "name": "stderr",
     "output_type": "stream",
     "text": [
      "100%|██████████| 5267/5267 [19:34<00:00,  4.48it/s] \n"
     ]
    }
   ],
   "source": [
    "# dates, urls, dates_error = list_dates()\n",
    "urls = list_dates()"
   ]
  },
  {
   "cell_type": "code",
   "execution_count": 6,
   "metadata": {},
   "outputs": [
    {
     "data": {
      "text/plain": [
       "5225"
      ]
     },
     "execution_count": 6,
     "metadata": {},
     "output_type": "execute_result"
    }
   ],
   "source": [
    "len(urls)"
   ]
  },
  {
   "cell_type": "markdown",
   "metadata": {},
   "source": [
    "# Export URLs to CSV"
   ]
  },
  {
   "cell_type": "code",
   "execution_count": 7,
   "metadata": {},
   "outputs": [],
   "source": [
    "urls_df = pd.DataFrame(list(urls), \n",
    "               columns =['urls'])\n",
    "urls_df.to_csv('data/urls.csv')"
   ]
  },
  {
   "cell_type": "markdown",
   "metadata": {},
   "source": [
    "# Load URLs"
   ]
  },
  {
   "cell_type": "code",
   "execution_count": 8,
   "metadata": {
    "colab": {},
    "colab_type": "code",
    "id": "-fr90DBPHIcZ"
   },
   "outputs": [],
   "source": [
    "df_urls = pd.read_csv('data/urls.csv', sep=',').drop('Unnamed: 0', axis=1)"
   ]
  },
  {
   "cell_type": "code",
   "execution_count": 9,
   "metadata": {},
   "outputs": [
    {
     "data": {
      "text/html": [
       "<div>\n",
       "<style scoped>\n",
       "    .dataframe tbody tr th:only-of-type {\n",
       "        vertical-align: middle;\n",
       "    }\n",
       "\n",
       "    .dataframe tbody tr th {\n",
       "        vertical-align: top;\n",
       "    }\n",
       "\n",
       "    .dataframe thead th {\n",
       "        text-align: right;\n",
       "    }\n",
       "</style>\n",
       "<table border=\"1\" class=\"dataframe\">\n",
       "  <thead>\n",
       "    <tr style=\"text-align: right;\">\n",
       "      <th></th>\n",
       "      <th>urls</th>\n",
       "    </tr>\n",
       "  </thead>\n",
       "  <tbody>\n",
       "    <tr>\n",
       "      <th>0</th>\n",
       "      <td>http://www.sudoku.org.uk/DailySudoku.asp?solut...</td>\n",
       "    </tr>\n",
       "    <tr>\n",
       "      <th>1</th>\n",
       "      <td>http://www.sudoku.org.uk/DailySudoku.asp?solut...</td>\n",
       "    </tr>\n",
       "    <tr>\n",
       "      <th>2</th>\n",
       "      <td>http://www.sudoku.org.uk/DailySudoku.asp?solut...</td>\n",
       "    </tr>\n",
       "    <tr>\n",
       "      <th>3</th>\n",
       "      <td>http://www.sudoku.org.uk/DailySudoku.asp?solut...</td>\n",
       "    </tr>\n",
       "    <tr>\n",
       "      <th>4</th>\n",
       "      <td>http://www.sudoku.org.uk/DailySudoku.asp?solut...</td>\n",
       "    </tr>\n",
       "    <tr>\n",
       "      <th>5</th>\n",
       "      <td>http://www.sudoku.org.uk/DailySudoku.asp?solut...</td>\n",
       "    </tr>\n",
       "    <tr>\n",
       "      <th>6</th>\n",
       "      <td>http://www.sudoku.org.uk/DailySudoku.asp?solut...</td>\n",
       "    </tr>\n",
       "    <tr>\n",
       "      <th>7</th>\n",
       "      <td>http://www.sudoku.org.uk/DailySudoku.asp?solut...</td>\n",
       "    </tr>\n",
       "    <tr>\n",
       "      <th>8</th>\n",
       "      <td>http://www.sudoku.org.uk/DailySudoku.asp?solut...</td>\n",
       "    </tr>\n",
       "    <tr>\n",
       "      <th>9</th>\n",
       "      <td>http://www.sudoku.org.uk/DailySudoku.asp?solut...</td>\n",
       "    </tr>\n",
       "    <tr>\n",
       "      <th>10</th>\n",
       "      <td>http://www.sudoku.org.uk/DailySudoku.asp?solut...</td>\n",
       "    </tr>\n",
       "    <tr>\n",
       "      <th>11</th>\n",
       "      <td>http://www.sudoku.org.uk/DailySudoku.asp?solut...</td>\n",
       "    </tr>\n",
       "    <tr>\n",
       "      <th>12</th>\n",
       "      <td>http://www.sudoku.org.uk/DailySudoku.asp?solut...</td>\n",
       "    </tr>\n",
       "    <tr>\n",
       "      <th>13</th>\n",
       "      <td>http://www.sudoku.org.uk/DailySudoku.asp?solut...</td>\n",
       "    </tr>\n",
       "    <tr>\n",
       "      <th>14</th>\n",
       "      <td>http://www.sudoku.org.uk/DailySudoku.asp?solut...</td>\n",
       "    </tr>\n",
       "    <tr>\n",
       "      <th>15</th>\n",
       "      <td>http://www.sudoku.org.uk/DailySudoku.asp?solut...</td>\n",
       "    </tr>\n",
       "    <tr>\n",
       "      <th>16</th>\n",
       "      <td>http://www.sudoku.org.uk/DailySudoku.asp?solut...</td>\n",
       "    </tr>\n",
       "    <tr>\n",
       "      <th>17</th>\n",
       "      <td>http://www.sudoku.org.uk/DailySudoku.asp?solut...</td>\n",
       "    </tr>\n",
       "    <tr>\n",
       "      <th>18</th>\n",
       "      <td>http://www.sudoku.org.uk/DailySudoku.asp?solut...</td>\n",
       "    </tr>\n",
       "    <tr>\n",
       "      <th>19</th>\n",
       "      <td>http://www.sudoku.org.uk/DailySudoku.asp?solut...</td>\n",
       "    </tr>\n",
       "    <tr>\n",
       "      <th>20</th>\n",
       "      <td>http://www.sudoku.org.uk/DailySudoku.asp?solut...</td>\n",
       "    </tr>\n",
       "    <tr>\n",
       "      <th>21</th>\n",
       "      <td>http://www.sudoku.org.uk/DailySudoku.asp?solut...</td>\n",
       "    </tr>\n",
       "    <tr>\n",
       "      <th>22</th>\n",
       "      <td>http://www.sudoku.org.uk/DailySudoku.asp?solut...</td>\n",
       "    </tr>\n",
       "    <tr>\n",
       "      <th>23</th>\n",
       "      <td>http://www.sudoku.org.uk/DailySudoku.asp?solut...</td>\n",
       "    </tr>\n",
       "    <tr>\n",
       "      <th>24</th>\n",
       "      <td>http://www.sudoku.org.uk/DailySudoku.asp?solut...</td>\n",
       "    </tr>\n",
       "    <tr>\n",
       "      <th>25</th>\n",
       "      <td>http://www.sudoku.org.uk/DailySudoku.asp?solut...</td>\n",
       "    </tr>\n",
       "    <tr>\n",
       "      <th>26</th>\n",
       "      <td>http://www.sudoku.org.uk/DailySudoku.asp?solut...</td>\n",
       "    </tr>\n",
       "    <tr>\n",
       "      <th>27</th>\n",
       "      <td>http://www.sudoku.org.uk/DailySudoku.asp?solut...</td>\n",
       "    </tr>\n",
       "    <tr>\n",
       "      <th>28</th>\n",
       "      <td>http://www.sudoku.org.uk/DailySudoku.asp?solut...</td>\n",
       "    </tr>\n",
       "    <tr>\n",
       "      <th>29</th>\n",
       "      <td>http://www.sudoku.org.uk/DailySudoku.asp?solut...</td>\n",
       "    </tr>\n",
       "    <tr>\n",
       "      <th>...</th>\n",
       "      <td>...</td>\n",
       "    </tr>\n",
       "    <tr>\n",
       "      <th>5195</th>\n",
       "      <td>http://www.sudoku.org.uk/DailySudoku.asp?solut...</td>\n",
       "    </tr>\n",
       "    <tr>\n",
       "      <th>5196</th>\n",
       "      <td>http://www.sudoku.org.uk/DailySudoku.asp?solut...</td>\n",
       "    </tr>\n",
       "    <tr>\n",
       "      <th>5197</th>\n",
       "      <td>http://www.sudoku.org.uk/DailySudoku.asp?solut...</td>\n",
       "    </tr>\n",
       "    <tr>\n",
       "      <th>5198</th>\n",
       "      <td>http://www.sudoku.org.uk/DailySudoku.asp?solut...</td>\n",
       "    </tr>\n",
       "    <tr>\n",
       "      <th>5199</th>\n",
       "      <td>http://www.sudoku.org.uk/DailySudoku.asp?solut...</td>\n",
       "    </tr>\n",
       "    <tr>\n",
       "      <th>5200</th>\n",
       "      <td>http://www.sudoku.org.uk/DailySudoku.asp?solut...</td>\n",
       "    </tr>\n",
       "    <tr>\n",
       "      <th>5201</th>\n",
       "      <td>http://www.sudoku.org.uk/DailySudoku.asp?solut...</td>\n",
       "    </tr>\n",
       "    <tr>\n",
       "      <th>5202</th>\n",
       "      <td>http://www.sudoku.org.uk/DailySudoku.asp?solut...</td>\n",
       "    </tr>\n",
       "    <tr>\n",
       "      <th>5203</th>\n",
       "      <td>http://www.sudoku.org.uk/DailySudoku.asp?solut...</td>\n",
       "    </tr>\n",
       "    <tr>\n",
       "      <th>5204</th>\n",
       "      <td>http://www.sudoku.org.uk/DailySudoku.asp?solut...</td>\n",
       "    </tr>\n",
       "    <tr>\n",
       "      <th>5205</th>\n",
       "      <td>http://www.sudoku.org.uk/DailySudoku.asp?solut...</td>\n",
       "    </tr>\n",
       "    <tr>\n",
       "      <th>5206</th>\n",
       "      <td>http://www.sudoku.org.uk/DailySudoku.asp?solut...</td>\n",
       "    </tr>\n",
       "    <tr>\n",
       "      <th>5207</th>\n",
       "      <td>http://www.sudoku.org.uk/DailySudoku.asp?solut...</td>\n",
       "    </tr>\n",
       "    <tr>\n",
       "      <th>5208</th>\n",
       "      <td>http://www.sudoku.org.uk/DailySudoku.asp?solut...</td>\n",
       "    </tr>\n",
       "    <tr>\n",
       "      <th>5209</th>\n",
       "      <td>http://www.sudoku.org.uk/DailySudoku.asp?solut...</td>\n",
       "    </tr>\n",
       "    <tr>\n",
       "      <th>5210</th>\n",
       "      <td>http://www.sudoku.org.uk/DailySudoku.asp?solut...</td>\n",
       "    </tr>\n",
       "    <tr>\n",
       "      <th>5211</th>\n",
       "      <td>http://www.sudoku.org.uk/DailySudoku.asp?solut...</td>\n",
       "    </tr>\n",
       "    <tr>\n",
       "      <th>5212</th>\n",
       "      <td>http://www.sudoku.org.uk/DailySudoku.asp?solut...</td>\n",
       "    </tr>\n",
       "    <tr>\n",
       "      <th>5213</th>\n",
       "      <td>http://www.sudoku.org.uk/DailySudoku.asp?solut...</td>\n",
       "    </tr>\n",
       "    <tr>\n",
       "      <th>5214</th>\n",
       "      <td>http://www.sudoku.org.uk/DailySudoku.asp?solut...</td>\n",
       "    </tr>\n",
       "    <tr>\n",
       "      <th>5215</th>\n",
       "      <td>http://www.sudoku.org.uk/DailySudoku.asp?solut...</td>\n",
       "    </tr>\n",
       "    <tr>\n",
       "      <th>5216</th>\n",
       "      <td>http://www.sudoku.org.uk/DailySudoku.asp?solut...</td>\n",
       "    </tr>\n",
       "    <tr>\n",
       "      <th>5217</th>\n",
       "      <td>http://www.sudoku.org.uk/DailySudoku.asp?solut...</td>\n",
       "    </tr>\n",
       "    <tr>\n",
       "      <th>5218</th>\n",
       "      <td>http://www.sudoku.org.uk/DailySudoku.asp?solut...</td>\n",
       "    </tr>\n",
       "    <tr>\n",
       "      <th>5219</th>\n",
       "      <td>http://www.sudoku.org.uk/DailySudoku.asp?solut...</td>\n",
       "    </tr>\n",
       "    <tr>\n",
       "      <th>5220</th>\n",
       "      <td>http://www.sudoku.org.uk/DailySudoku.asp?solut...</td>\n",
       "    </tr>\n",
       "    <tr>\n",
       "      <th>5221</th>\n",
       "      <td>http://www.sudoku.org.uk/DailySudoku.asp?solut...</td>\n",
       "    </tr>\n",
       "    <tr>\n",
       "      <th>5222</th>\n",
       "      <td>http://www.sudoku.org.uk/DailySudoku.asp?solut...</td>\n",
       "    </tr>\n",
       "    <tr>\n",
       "      <th>5223</th>\n",
       "      <td>http://www.sudoku.org.uk/DailySudoku.asp?solut...</td>\n",
       "    </tr>\n",
       "    <tr>\n",
       "      <th>5224</th>\n",
       "      <td>http://www.sudoku.org.uk/DailySudoku.asp?solut...</td>\n",
       "    </tr>\n",
       "  </tbody>\n",
       "</table>\n",
       "<p>5225 rows × 1 columns</p>\n",
       "</div>"
      ],
      "text/plain": [
       "                                                   urls\n",
       "0     http://www.sudoku.org.uk/DailySudoku.asp?solut...\n",
       "1     http://www.sudoku.org.uk/DailySudoku.asp?solut...\n",
       "2     http://www.sudoku.org.uk/DailySudoku.asp?solut...\n",
       "3     http://www.sudoku.org.uk/DailySudoku.asp?solut...\n",
       "4     http://www.sudoku.org.uk/DailySudoku.asp?solut...\n",
       "5     http://www.sudoku.org.uk/DailySudoku.asp?solut...\n",
       "6     http://www.sudoku.org.uk/DailySudoku.asp?solut...\n",
       "7     http://www.sudoku.org.uk/DailySudoku.asp?solut...\n",
       "8     http://www.sudoku.org.uk/DailySudoku.asp?solut...\n",
       "9     http://www.sudoku.org.uk/DailySudoku.asp?solut...\n",
       "10    http://www.sudoku.org.uk/DailySudoku.asp?solut...\n",
       "11    http://www.sudoku.org.uk/DailySudoku.asp?solut...\n",
       "12    http://www.sudoku.org.uk/DailySudoku.asp?solut...\n",
       "13    http://www.sudoku.org.uk/DailySudoku.asp?solut...\n",
       "14    http://www.sudoku.org.uk/DailySudoku.asp?solut...\n",
       "15    http://www.sudoku.org.uk/DailySudoku.asp?solut...\n",
       "16    http://www.sudoku.org.uk/DailySudoku.asp?solut...\n",
       "17    http://www.sudoku.org.uk/DailySudoku.asp?solut...\n",
       "18    http://www.sudoku.org.uk/DailySudoku.asp?solut...\n",
       "19    http://www.sudoku.org.uk/DailySudoku.asp?solut...\n",
       "20    http://www.sudoku.org.uk/DailySudoku.asp?solut...\n",
       "21    http://www.sudoku.org.uk/DailySudoku.asp?solut...\n",
       "22    http://www.sudoku.org.uk/DailySudoku.asp?solut...\n",
       "23    http://www.sudoku.org.uk/DailySudoku.asp?solut...\n",
       "24    http://www.sudoku.org.uk/DailySudoku.asp?solut...\n",
       "25    http://www.sudoku.org.uk/DailySudoku.asp?solut...\n",
       "26    http://www.sudoku.org.uk/DailySudoku.asp?solut...\n",
       "27    http://www.sudoku.org.uk/DailySudoku.asp?solut...\n",
       "28    http://www.sudoku.org.uk/DailySudoku.asp?solut...\n",
       "29    http://www.sudoku.org.uk/DailySudoku.asp?solut...\n",
       "...                                                 ...\n",
       "5195  http://www.sudoku.org.uk/DailySudoku.asp?solut...\n",
       "5196  http://www.sudoku.org.uk/DailySudoku.asp?solut...\n",
       "5197  http://www.sudoku.org.uk/DailySudoku.asp?solut...\n",
       "5198  http://www.sudoku.org.uk/DailySudoku.asp?solut...\n",
       "5199  http://www.sudoku.org.uk/DailySudoku.asp?solut...\n",
       "5200  http://www.sudoku.org.uk/DailySudoku.asp?solut...\n",
       "5201  http://www.sudoku.org.uk/DailySudoku.asp?solut...\n",
       "5202  http://www.sudoku.org.uk/DailySudoku.asp?solut...\n",
       "5203  http://www.sudoku.org.uk/DailySudoku.asp?solut...\n",
       "5204  http://www.sudoku.org.uk/DailySudoku.asp?solut...\n",
       "5205  http://www.sudoku.org.uk/DailySudoku.asp?solut...\n",
       "5206  http://www.sudoku.org.uk/DailySudoku.asp?solut...\n",
       "5207  http://www.sudoku.org.uk/DailySudoku.asp?solut...\n",
       "5208  http://www.sudoku.org.uk/DailySudoku.asp?solut...\n",
       "5209  http://www.sudoku.org.uk/DailySudoku.asp?solut...\n",
       "5210  http://www.sudoku.org.uk/DailySudoku.asp?solut...\n",
       "5211  http://www.sudoku.org.uk/DailySudoku.asp?solut...\n",
       "5212  http://www.sudoku.org.uk/DailySudoku.asp?solut...\n",
       "5213  http://www.sudoku.org.uk/DailySudoku.asp?solut...\n",
       "5214  http://www.sudoku.org.uk/DailySudoku.asp?solut...\n",
       "5215  http://www.sudoku.org.uk/DailySudoku.asp?solut...\n",
       "5216  http://www.sudoku.org.uk/DailySudoku.asp?solut...\n",
       "5217  http://www.sudoku.org.uk/DailySudoku.asp?solut...\n",
       "5218  http://www.sudoku.org.uk/DailySudoku.asp?solut...\n",
       "5219  http://www.sudoku.org.uk/DailySudoku.asp?solut...\n",
       "5220  http://www.sudoku.org.uk/DailySudoku.asp?solut...\n",
       "5221  http://www.sudoku.org.uk/DailySudoku.asp?solut...\n",
       "5222  http://www.sudoku.org.uk/DailySudoku.asp?solut...\n",
       "5223  http://www.sudoku.org.uk/DailySudoku.asp?solut...\n",
       "5224  http://www.sudoku.org.uk/DailySudoku.asp?solut...\n",
       "\n",
       "[5225 rows x 1 columns]"
      ]
     },
     "execution_count": 9,
     "metadata": {},
     "output_type": "execute_result"
    }
   ],
   "source": [
    "df_urls"
   ]
  },
  {
   "cell_type": "markdown",
   "metadata": {},
   "source": [
    "#### However in the website says that they have 5269 puzzles (that means that the first post of a Sudoku was Feb 2006) before Mar 7 of 2006 there are not registers about the players or the average time in the website, for this reason we're cut this urls "
   ]
  },
  {
   "cell_type": "code",
   "execution_count": 10,
   "metadata": {},
   "outputs": [],
   "source": [
    "index = df_urls.index[df_urls['urls'].str.contains('=7/3/2006', regex=False)]"
   ]
  },
  {
   "cell_type": "code",
   "execution_count": 11,
   "metadata": {},
   "outputs": [
    {
     "name": "stdout",
     "output_type": "stream",
     "text": [
      "5026\n"
     ]
    }
   ],
   "source": [
    "print(index[0])"
   ]
  },
  {
   "cell_type": "code",
   "execution_count": 12,
   "metadata": {},
   "outputs": [],
   "source": [
    "\n",
    "new_urls = df_urls.iloc[:index[0]]"
   ]
  },
  {
   "cell_type": "code",
   "execution_count": 13,
   "metadata": {},
   "outputs": [
    {
     "data": {
      "text/plain": [
       "(5026, 1)"
      ]
     },
     "execution_count": 13,
     "metadata": {},
     "output_type": "execute_result"
    }
   ],
   "source": [
    "new_urls.shape"
   ]
  },
  {
   "cell_type": "code",
   "execution_count": 14,
   "metadata": {},
   "outputs": [],
   "source": [
    "#Export to csv\n",
    "new_urls.to_csv('data/new_urls.csv')"
   ]
  },
  {
   "cell_type": "markdown",
   "metadata": {},
   "source": [
    "# Extract Data"
   ]
  },
  {
   "cell_type": "code",
   "execution_count": 15,
   "metadata": {},
   "outputs": [
    {
     "name": "stderr",
     "output_type": "stream",
     "text": [
      "100%|██████████| 5026/5026 [19:21<00:00,  4.33it/s]\n"
     ]
    }
   ],
   "source": [
    "urls, level, people,av_time, unit, sudoku, solution = consolidate(new_urls['urls'])"
   ]
  },
  {
   "cell_type": "markdown",
   "metadata": {
    "colab_type": "text",
    "id": "gTxohNqsG1f8"
   },
   "source": [
    "# Create Dataframe"
   ]
  },
  {
   "cell_type": "code",
   "execution_count": 16,
   "metadata": {
    "colab": {},
    "colab_type": "code",
    "id": "ktdQd4jGxv-m"
   },
   "outputs": [],
   "source": [
    "df = pd.DataFrame(list(zip(urls, level, people,av_time, unit, sudoku, solution)), \n",
    "               columns =['URL', 'Level','People','Average-Time', 'Unit-Time', 'Sudoku', 'Solution']) "
   ]
  },
  {
   "cell_type": "code",
   "execution_count": 17,
   "metadata": {
    "colab": {
     "base_uri": "https://localhost:8080/",
     "height": 326
    },
    "colab_type": "code",
    "id": "B4MmhMSmzSv8",
    "outputId": "721dd156-3889-4590-b0db-671c0b32547c"
   },
   "outputs": [
    {
     "data": {
      "text/html": [
       "<div>\n",
       "<style scoped>\n",
       "    .dataframe tbody tr th:only-of-type {\n",
       "        vertical-align: middle;\n",
       "    }\n",
       "\n",
       "    .dataframe tbody tr th {\n",
       "        vertical-align: top;\n",
       "    }\n",
       "\n",
       "    .dataframe thead th {\n",
       "        text-align: right;\n",
       "    }\n",
       "</style>\n",
       "<table border=\"1\" class=\"dataframe\">\n",
       "  <thead>\n",
       "    <tr style=\"text-align: right;\">\n",
       "      <th></th>\n",
       "      <th>URL</th>\n",
       "      <th>Level</th>\n",
       "      <th>People</th>\n",
       "      <th>Average-Time</th>\n",
       "      <th>Unit-Time</th>\n",
       "      <th>Sudoku</th>\n",
       "      <th>Solution</th>\n",
       "    </tr>\n",
       "  </thead>\n",
       "  <tbody>\n",
       "    <tr>\n",
       "      <th>0</th>\n",
       "      <td>http://www.sudoku.org.uk/DailySudoku.asp?solut...</td>\n",
       "      <td>Tough</td>\n",
       "      <td>279</td>\n",
       "      <td>19</td>\n",
       "      <td>minutes</td>\n",
       "      <td>9......31.3...8.....5.7.9..3...4...8.916..54.4...</td>\n",
       "      <td>9274568316341982758153729643527496187916835424...</td>\n",
       "    </tr>\n",
       "    <tr>\n",
       "      <th>1</th>\n",
       "      <td>http://www.sudoku.org.uk/DailySudoku.asp?solut...</td>\n",
       "      <td>Moderate</td>\n",
       "      <td>301</td>\n",
       "      <td>14</td>\n",
       "      <td>minutes</td>\n",
       "      <td>9.......2784.1.5.....4.....2.53.1.7...7...8......</td>\n",
       "      <td>9615387427846125395234796182953814761479568236...</td>\n",
       "    </tr>\n",
       "    <tr>\n",
       "      <th>2</th>\n",
       "      <td>http://www.sudoku.org.uk/DailySudoku.asp?solut...</td>\n",
       "      <td>Moderate</td>\n",
       "      <td>294</td>\n",
       "      <td>13</td>\n",
       "      <td>minutes</td>\n",
       "      <td>...251...5...6...79.4.....2..519.7...9.....4.....</td>\n",
       "      <td>3782519645214698379647381522351947861976823458...</td>\n",
       "    </tr>\n",
       "    <tr>\n",
       "      <th>3</th>\n",
       "      <td>http://www.sudoku.org.uk/DailySudoku.asp?solut...</td>\n",
       "      <td>Gentle</td>\n",
       "      <td>291</td>\n",
       "      <td>12</td>\n",
       "      <td>minutes</td>\n",
       "      <td>..9...3.21..94.6..45..3....6......37....5....5...</td>\n",
       "      <td>7895613421239486754567329816481295372378564195...</td>\n",
       "    </tr>\n",
       "    <tr>\n",
       "      <th>4</th>\n",
       "      <td>http://www.sudoku.org.uk/DailySudoku.asp?solut...</td>\n",
       "      <td>Diabolical</td>\n",
       "      <td>262</td>\n",
       "      <td>25</td>\n",
       "      <td>minutes</td>\n",
       "      <td>..1.4.....8.....129...7...83.5.....4..6..72..4...</td>\n",
       "      <td>6215483975873694129342716583158269748964172354...</td>\n",
       "    </tr>\n",
       "  </tbody>\n",
       "</table>\n",
       "</div>"
      ],
      "text/plain": [
       "                                                 URL       Level People  \\\n",
       "0  http://www.sudoku.org.uk/DailySudoku.asp?solut...       Tough    279   \n",
       "1  http://www.sudoku.org.uk/DailySudoku.asp?solut...    Moderate    301   \n",
       "2  http://www.sudoku.org.uk/DailySudoku.asp?solut...    Moderate    294   \n",
       "3  http://www.sudoku.org.uk/DailySudoku.asp?solut...      Gentle    291   \n",
       "4  http://www.sudoku.org.uk/DailySudoku.asp?solut...  Diabolical    262   \n",
       "\n",
       "  Average-Time Unit-Time                                             Sudoku  \\\n",
       "0           19   minutes  9......31.3...8.....5.7.9..3...4...8.916..54.4...   \n",
       "1           14   minutes  9.......2784.1.5.....4.....2.53.1.7...7...8......   \n",
       "2           13   minutes  ...251...5...6...79.4.....2..519.7...9.....4.....   \n",
       "3           12   minutes  ..9...3.21..94.6..45..3....6......37....5....5...   \n",
       "4           25   minutes  ..1.4.....8.....129...7...83.5.....4..6..72..4...   \n",
       "\n",
       "                                            Solution  \n",
       "0  9274568316341982758153729643527496187916835424...  \n",
       "1  9615387427846125395234796182953814761479568236...  \n",
       "2  3782519645214698379647381522351947861976823458...  \n",
       "3  7895613421239486754567329816481295372378564195...  \n",
       "4  6215483975873694129342716583158269748964172354...  "
      ]
     },
     "execution_count": 17,
     "metadata": {},
     "output_type": "execute_result"
    }
   ],
   "source": [
    "df.head()"
   ]
  },
  {
   "cell_type": "code",
   "execution_count": 18,
   "metadata": {},
   "outputs": [
    {
     "data": {
      "text/plain": [
       "(5026, 7)"
      ]
     },
     "execution_count": 18,
     "metadata": {},
     "output_type": "execute_result"
    }
   ],
   "source": [
    "df.shape"
   ]
  },
  {
   "cell_type": "markdown",
   "metadata": {},
   "source": [
    "## Splititng DataFrame \n",
    "#### DF1: URL,Level, unit-time,  and solution \n",
    "#### DF2: People, Average-Time and Sudoku\n"
   ]
  },
  {
   "cell_type": "code",
   "execution_count": 19,
   "metadata": {},
   "outputs": [],
   "source": [
    "df['Id'] = df.index"
   ]
  },
  {
   "cell_type": "code",
   "execution_count": 20,
   "metadata": {},
   "outputs": [
    {
     "data": {
      "text/html": [
       "<div>\n",
       "<style scoped>\n",
       "    .dataframe tbody tr th:only-of-type {\n",
       "        vertical-align: middle;\n",
       "    }\n",
       "\n",
       "    .dataframe tbody tr th {\n",
       "        vertical-align: top;\n",
       "    }\n",
       "\n",
       "    .dataframe thead th {\n",
       "        text-align: right;\n",
       "    }\n",
       "</style>\n",
       "<table border=\"1\" class=\"dataframe\">\n",
       "  <thead>\n",
       "    <tr style=\"text-align: right;\">\n",
       "      <th></th>\n",
       "      <th>URL</th>\n",
       "      <th>Level</th>\n",
       "      <th>People</th>\n",
       "      <th>Average-Time</th>\n",
       "      <th>Unit-Time</th>\n",
       "      <th>Sudoku</th>\n",
       "      <th>Solution</th>\n",
       "      <th>Id</th>\n",
       "    </tr>\n",
       "  </thead>\n",
       "  <tbody>\n",
       "    <tr>\n",
       "      <th>0</th>\n",
       "      <td>http://www.sudoku.org.uk/DailySudoku.asp?solut...</td>\n",
       "      <td>Tough</td>\n",
       "      <td>279</td>\n",
       "      <td>19</td>\n",
       "      <td>minutes</td>\n",
       "      <td>9......31.3...8.....5.7.9..3...4...8.916..54.4...</td>\n",
       "      <td>9274568316341982758153729643527496187916835424...</td>\n",
       "      <td>0</td>\n",
       "    </tr>\n",
       "    <tr>\n",
       "      <th>1</th>\n",
       "      <td>http://www.sudoku.org.uk/DailySudoku.asp?solut...</td>\n",
       "      <td>Moderate</td>\n",
       "      <td>301</td>\n",
       "      <td>14</td>\n",
       "      <td>minutes</td>\n",
       "      <td>9.......2784.1.5.....4.....2.53.1.7...7...8......</td>\n",
       "      <td>9615387427846125395234796182953814761479568236...</td>\n",
       "      <td>1</td>\n",
       "    </tr>\n",
       "    <tr>\n",
       "      <th>2</th>\n",
       "      <td>http://www.sudoku.org.uk/DailySudoku.asp?solut...</td>\n",
       "      <td>Moderate</td>\n",
       "      <td>294</td>\n",
       "      <td>13</td>\n",
       "      <td>minutes</td>\n",
       "      <td>...251...5...6...79.4.....2..519.7...9.....4.....</td>\n",
       "      <td>3782519645214698379647381522351947861976823458...</td>\n",
       "      <td>2</td>\n",
       "    </tr>\n",
       "    <tr>\n",
       "      <th>3</th>\n",
       "      <td>http://www.sudoku.org.uk/DailySudoku.asp?solut...</td>\n",
       "      <td>Gentle</td>\n",
       "      <td>291</td>\n",
       "      <td>12</td>\n",
       "      <td>minutes</td>\n",
       "      <td>..9...3.21..94.6..45..3....6......37....5....5...</td>\n",
       "      <td>7895613421239486754567329816481295372378564195...</td>\n",
       "      <td>3</td>\n",
       "    </tr>\n",
       "    <tr>\n",
       "      <th>4</th>\n",
       "      <td>http://www.sudoku.org.uk/DailySudoku.asp?solut...</td>\n",
       "      <td>Diabolical</td>\n",
       "      <td>262</td>\n",
       "      <td>25</td>\n",
       "      <td>minutes</td>\n",
       "      <td>..1.4.....8.....129...7...83.5.....4..6..72..4...</td>\n",
       "      <td>6215483975873694129342716583158269748964172354...</td>\n",
       "      <td>4</td>\n",
       "    </tr>\n",
       "  </tbody>\n",
       "</table>\n",
       "</div>"
      ],
      "text/plain": [
       "                                                 URL       Level People  \\\n",
       "0  http://www.sudoku.org.uk/DailySudoku.asp?solut...       Tough    279   \n",
       "1  http://www.sudoku.org.uk/DailySudoku.asp?solut...    Moderate    301   \n",
       "2  http://www.sudoku.org.uk/DailySudoku.asp?solut...    Moderate    294   \n",
       "3  http://www.sudoku.org.uk/DailySudoku.asp?solut...      Gentle    291   \n",
       "4  http://www.sudoku.org.uk/DailySudoku.asp?solut...  Diabolical    262   \n",
       "\n",
       "  Average-Time Unit-Time                                             Sudoku  \\\n",
       "0           19   minutes  9......31.3...8.....5.7.9..3...4...8.916..54.4...   \n",
       "1           14   minutes  9.......2784.1.5.....4.....2.53.1.7...7...8......   \n",
       "2           13   minutes  ...251...5...6...79.4.....2..519.7...9.....4.....   \n",
       "3           12   minutes  ..9...3.21..94.6..45..3....6......37....5....5...   \n",
       "4           25   minutes  ..1.4.....8.....129...7...83.5.....4..6..72..4...   \n",
       "\n",
       "                                            Solution  Id  \n",
       "0  9274568316341982758153729643527496187916835424...   0  \n",
       "1  9615387427846125395234796182953814761479568236...   1  \n",
       "2  3782519645214698379647381522351947861976823458...   2  \n",
       "3  7895613421239486754567329816481295372378564195...   3  \n",
       "4  6215483975873694129342716583158269748964172354...   4  "
      ]
     },
     "execution_count": 20,
     "metadata": {},
     "output_type": "execute_result"
    }
   ],
   "source": [
    "df.head()"
   ]
  },
  {
   "cell_type": "code",
   "execution_count": 21,
   "metadata": {},
   "outputs": [],
   "source": [
    "df1 = df[['Id','URL', 'Level','Unit-Time','Solution']]\n",
    "df2 = df[['Id','People','Average-Time','Sudoku']]"
   ]
  },
  {
   "cell_type": "code",
   "execution_count": 22,
   "metadata": {},
   "outputs": [
    {
     "data": {
      "text/plain": [
       "((5026, 5), (5026, 4))"
      ]
     },
     "execution_count": 22,
     "metadata": {},
     "output_type": "execute_result"
    }
   ],
   "source": [
    "df1.shape, df2.shape"
   ]
  },
  {
   "cell_type": "code",
   "execution_count": 23,
   "metadata": {},
   "outputs": [
    {
     "data": {
      "text/html": [
       "<div>\n",
       "<style scoped>\n",
       "    .dataframe tbody tr th:only-of-type {\n",
       "        vertical-align: middle;\n",
       "    }\n",
       "\n",
       "    .dataframe tbody tr th {\n",
       "        vertical-align: top;\n",
       "    }\n",
       "\n",
       "    .dataframe thead th {\n",
       "        text-align: right;\n",
       "    }\n",
       "</style>\n",
       "<table border=\"1\" class=\"dataframe\">\n",
       "  <thead>\n",
       "    <tr style=\"text-align: right;\">\n",
       "      <th></th>\n",
       "      <th>Id</th>\n",
       "      <th>URL</th>\n",
       "      <th>Level</th>\n",
       "      <th>Unit-Time</th>\n",
       "      <th>Solution</th>\n",
       "    </tr>\n",
       "  </thead>\n",
       "  <tbody>\n",
       "    <tr>\n",
       "      <th>0</th>\n",
       "      <td>0</td>\n",
       "      <td>http://www.sudoku.org.uk/DailySudoku.asp?solut...</td>\n",
       "      <td>Tough</td>\n",
       "      <td>minutes</td>\n",
       "      <td>9274568316341982758153729643527496187916835424...</td>\n",
       "    </tr>\n",
       "    <tr>\n",
       "      <th>1</th>\n",
       "      <td>1</td>\n",
       "      <td>http://www.sudoku.org.uk/DailySudoku.asp?solut...</td>\n",
       "      <td>Moderate</td>\n",
       "      <td>minutes</td>\n",
       "      <td>9615387427846125395234796182953814761479568236...</td>\n",
       "    </tr>\n",
       "    <tr>\n",
       "      <th>2</th>\n",
       "      <td>2</td>\n",
       "      <td>http://www.sudoku.org.uk/DailySudoku.asp?solut...</td>\n",
       "      <td>Moderate</td>\n",
       "      <td>minutes</td>\n",
       "      <td>3782519645214698379647381522351947861976823458...</td>\n",
       "    </tr>\n",
       "    <tr>\n",
       "      <th>3</th>\n",
       "      <td>3</td>\n",
       "      <td>http://www.sudoku.org.uk/DailySudoku.asp?solut...</td>\n",
       "      <td>Gentle</td>\n",
       "      <td>minutes</td>\n",
       "      <td>7895613421239486754567329816481295372378564195...</td>\n",
       "    </tr>\n",
       "    <tr>\n",
       "      <th>4</th>\n",
       "      <td>4</td>\n",
       "      <td>http://www.sudoku.org.uk/DailySudoku.asp?solut...</td>\n",
       "      <td>Diabolical</td>\n",
       "      <td>minutes</td>\n",
       "      <td>6215483975873694129342716583158269748964172354...</td>\n",
       "    </tr>\n",
       "  </tbody>\n",
       "</table>\n",
       "</div>"
      ],
      "text/plain": [
       "   Id                                                URL       Level  \\\n",
       "0   0  http://www.sudoku.org.uk/DailySudoku.asp?solut...       Tough   \n",
       "1   1  http://www.sudoku.org.uk/DailySudoku.asp?solut...    Moderate   \n",
       "2   2  http://www.sudoku.org.uk/DailySudoku.asp?solut...    Moderate   \n",
       "3   3  http://www.sudoku.org.uk/DailySudoku.asp?solut...      Gentle   \n",
       "4   4  http://www.sudoku.org.uk/DailySudoku.asp?solut...  Diabolical   \n",
       "\n",
       "  Unit-Time                                           Solution  \n",
       "0   minutes  9274568316341982758153729643527496187916835424...  \n",
       "1   minutes  9615387427846125395234796182953814761479568236...  \n",
       "2   minutes  3782519645214698379647381522351947861976823458...  \n",
       "3   minutes  7895613421239486754567329816481295372378564195...  \n",
       "4   minutes  6215483975873694129342716583158269748964172354...  "
      ]
     },
     "execution_count": 23,
     "metadata": {},
     "output_type": "execute_result"
    }
   ],
   "source": [
    "df1.head()"
   ]
  },
  {
   "cell_type": "code",
   "execution_count": 30,
   "metadata": {},
   "outputs": [
    {
     "data": {
      "text/html": [
       "<div>\n",
       "<style scoped>\n",
       "    .dataframe tbody tr th:only-of-type {\n",
       "        vertical-align: middle;\n",
       "    }\n",
       "\n",
       "    .dataframe tbody tr th {\n",
       "        vertical-align: top;\n",
       "    }\n",
       "\n",
       "    .dataframe thead th {\n",
       "        text-align: right;\n",
       "    }\n",
       "</style>\n",
       "<table border=\"1\" class=\"dataframe\">\n",
       "  <thead>\n",
       "    <tr style=\"text-align: right;\">\n",
       "      <th></th>\n",
       "      <th>Id</th>\n",
       "      <th>People</th>\n",
       "      <th>Average-Time</th>\n",
       "      <th>Sudoku</th>\n",
       "    </tr>\n",
       "  </thead>\n",
       "  <tbody>\n",
       "    <tr>\n",
       "      <th>0</th>\n",
       "      <td>0</td>\n",
       "      <td>292</td>\n",
       "      <td>14</td>\n",
       "      <td>.96..3.4.8.....1..4....6.829....4.....4.5.3......</td>\n",
       "    </tr>\n",
       "    <tr>\n",
       "      <th>1</th>\n",
       "      <td>1</td>\n",
       "      <td>283</td>\n",
       "      <td>12</td>\n",
       "      <td>..7..34....17528......8.....4.5...3.1.2...5.8....</td>\n",
       "    </tr>\n",
       "    <tr>\n",
       "      <th>2</th>\n",
       "      <td>2</td>\n",
       "      <td>238</td>\n",
       "      <td>30</td>\n",
       "      <td>.6...3.7.....6.1.49.......3..97.45..7...1...9....</td>\n",
       "    </tr>\n",
       "    <tr>\n",
       "      <th>3</th>\n",
       "      <td>3</td>\n",
       "      <td>274</td>\n",
       "      <td>14</td>\n",
       "      <td>.54....8.....4..7.79...8.....26..1....35..2......</td>\n",
       "    </tr>\n",
       "    <tr>\n",
       "      <th>4</th>\n",
       "      <td>4</td>\n",
       "      <td>244</td>\n",
       "      <td>28</td>\n",
       "      <td>..2...9......425.....751...4.......63.7...8..8...</td>\n",
       "    </tr>\n",
       "  </tbody>\n",
       "</table>\n",
       "</div>"
      ],
      "text/plain": [
       "   Id People Average-Time                                             Sudoku\n",
       "0   0    292           14  .96..3.4.8.....1..4....6.829....4.....4.5.3......\n",
       "1   1    283           12  ..7..34....17528......8.....4.5...3.1.2...5.8....\n",
       "2   2    238           30  .6...3.7.....6.1.49.......3..97.45..7...1...9....\n",
       "3   3    274           14  .54....8.....4..7.79...8.....26..1....35..2......\n",
       "4   4    244           28  ..2...9......425.....751...4.......63.7...8..8..."
      ]
     },
     "execution_count": 30,
     "metadata": {},
     "output_type": "execute_result"
    }
   ],
   "source": [
    "df2.head()"
   ]
  },
  {
   "cell_type": "markdown",
   "metadata": {
    "colab_type": "text",
    "id": "R18LaoxTG4zH"
   },
   "source": [
    "# Function to visualize Sudoku"
   ]
  },
  {
   "cell_type": "code",
   "execution_count": 24,
   "metadata": {
    "colab": {},
    "colab_type": "code",
    "id": "DVss-SVUu_qU"
   },
   "outputs": [],
   "source": [
    "def split(element): \n",
    "    return [char for char in element]  \n",
    "\n",
    "def transform_matrix(element):\n",
    "  return np.reshape(split(element), (-1, 9))"
   ]
  },
  {
   "cell_type": "code",
   "execution_count": 25,
   "metadata": {
    "colab": {
     "base_uri": "https://localhost:8080/",
     "height": 170
    },
    "colab_type": "code",
    "id": "D38eCqXJOrJ1",
    "outputId": "96bb6d53-bedf-4881-b175-3354bd93a06a"
   },
   "outputs": [
    {
     "data": {
      "text/plain": [
       "array([['9', '2', '7', '4', '5', '6', '8', '3', '1'],\n",
       "       ['6', '3', '4', '1', '9', '8', '2', '7', '5'],\n",
       "       ['8', '1', '5', '3', '7', '2', '9', '6', '4'],\n",
       "       ['3', '5', '2', '7', '4', '9', '6', '1', '8'],\n",
       "       ['7', '9', '1', '6', '8', '3', '5', '4', '2'],\n",
       "       ['4', '8', '6', '2', '1', '5', '3', '9', '7'],\n",
       "       ['1', '6', '8', '9', '2', '4', '7', '5', '3'],\n",
       "       ['5', '7', '3', '8', '6', '1', '4', '2', '9'],\n",
       "       ['2', '4', '9', '5', '3', '7', '1', '8', '6']], dtype='<U1')"
      ]
     },
     "execution_count": 25,
     "metadata": {},
     "output_type": "execute_result"
    }
   ],
   "source": [
    "transform_matrix(df.Solution[0])"
   ]
  },
  {
   "cell_type": "code",
   "execution_count": 26,
   "metadata": {
    "colab": {
     "base_uri": "https://localhost:8080/",
     "height": 170
    },
    "colab_type": "code",
    "id": "L4MusQFO_tbJ",
    "outputId": "54ffb853-4a58-4950-dc13-b235199b333c"
   },
   "outputs": [
    {
     "data": {
      "text/plain": [
       "array([['9', '.', '.', '.', '.', '.', '.', '3', '1'],\n",
       "       ['.', '3', '.', '.', '.', '8', '.', '.', '.'],\n",
       "       ['.', '.', '5', '.', '7', '.', '9', '.', '.'],\n",
       "       ['3', '.', '.', '.', '4', '.', '.', '.', '8'],\n",
       "       ['.', '9', '1', '6', '.', '.', '5', '4', '.'],\n",
       "       ['4', '.', '.', '.', '1', '.', '.', '.', '7'],\n",
       "       ['.', '.', '8', '.', '2', '.', '7', '.', '.'],\n",
       "       ['.', '.', '.', '8', '.', '.', '.', '2', '.'],\n",
       "       ['.', '4', '.', '.', '.', '.', '.', '.', '6']], dtype='<U1')"
      ]
     },
     "execution_count": 26,
     "metadata": {},
     "output_type": "execute_result"
    }
   ],
   "source": [
    "transform_matrix(df.Sudoku[0])"
   ]
  },
  {
   "cell_type": "code",
   "execution_count": 27,
   "metadata": {},
   "outputs": [
    {
     "data": {
      "text/plain": [
       "array([['9', '.', '.', '.', '.', '.', '.', '.', '2'],\n",
       "       ['7', '8', '4', '.', '1', '.', '5', '.', '.'],\n",
       "       ['.', '.', '.', '4', '.', '.', '.', '.', '.'],\n",
       "       ['2', '.', '5', '3', '.', '1', '.', '7', '.'],\n",
       "       ['.', '.', '7', '.', '.', '.', '8', '.', '.'],\n",
       "       ['.', '3', '.', '2', '.', '7', '9', '.', '1'],\n",
       "       ['.', '.', '.', '.', '.', '3', '.', '.', '.'],\n",
       "       ['.', '.', '2', '.', '6', '.', '1', '9', '5'],\n",
       "       ['8', '.', '.', '.', '.', '.', '.', '.', '4']], dtype='<U1')"
      ]
     },
     "execution_count": 27,
     "metadata": {},
     "output_type": "execute_result"
    }
   ],
   "source": [
    "transform_matrix(df.Sudoku[1])"
   ]
  },
  {
   "cell_type": "markdown",
   "metadata": {
    "colab_type": "text",
    "id": "so9CjnefG9EH"
   },
   "source": [
    "# Export Data Frame"
   ]
  },
  {
   "cell_type": "code",
   "execution_count": 29,
   "metadata": {
    "colab": {},
    "colab_type": "code",
    "id": "4XgPA2gD_wpx"
   },
   "outputs": [],
   "source": [
    "df.to_csv('data/data.csv')"
   ]
  },
  {
   "cell_type": "code",
   "execution_count": 36,
   "metadata": {},
   "outputs": [],
   "source": [
    "df1.to_csv('df1.csv')\n",
    "df2.to_csv('df2.csv')"
   ]
  },
  {
   "cell_type": "code",
   "execution_count": null,
   "metadata": {},
   "outputs": [],
   "source": []
  }
 ],
 "metadata": {
  "colab": {
   "name": "Final_Scraping_UK.ipynb",
   "provenance": [],
   "toc_visible": true
  },
  "kernelspec": {
   "display_name": "conda_python3",
   "language": "python",
   "name": "conda_python3"
  },
  "language_info": {
   "codemirror_mode": {
    "name": "ipython",
    "version": 3
   },
   "file_extension": ".py",
   "mimetype": "text/x-python",
   "name": "python",
   "nbconvert_exporter": "python",
   "pygments_lexer": "ipython3",
   "version": "3.6.5"
  }
 },
 "nbformat": 4,
 "nbformat_minor": 4
}
