{
 "cells": [
  {
   "cell_type": "markdown",
   "metadata": {},
   "source": [
    "#### Loading Data Set"
   ]
  },
  {
   "cell_type": "code",
   "execution_count": 29,
   "metadata": {},
   "outputs": [],
   "source": [
    "# Importing Libraries\n",
    "import pandas as pd\n",
    "import numpy as np\n",
    "import seaborn as sns\n",
    "import matplotlib.pyplot as plt\n",
    "import sklearn"
   ]
  },
  {
   "cell_type": "code",
   "execution_count": 30,
   "metadata": {},
   "outputs": [],
   "source": [
    "df = pd.read_csv('sudoku_uk.csv').drop('Unnamed: 0', axis=1)\n",
    "\n",
    "df = df.replace({'Gentle': 'Gentle-1', 'Moderate': 'Moderate-2', 'Tough': 'Tough-3','Diabolical': 'Diabolical-4'})"
   ]
  },
  {
   "cell_type": "code",
   "execution_count": 31,
   "metadata": {},
   "outputs": [
    {
     "data": {
      "text/plain": [
       "(5017, 8)"
      ]
     },
     "execution_count": 31,
     "metadata": {},
     "output_type": "execute_result"
    }
   ],
   "source": [
    "# check size\n",
    "df.shape"
   ]
  },
  {
   "cell_type": "code",
   "execution_count": 32,
   "metadata": {},
   "outputs": [
    {
     "data": {
      "text/html": [
       "<div>\n",
       "<style scoped>\n",
       "    .dataframe tbody tr th:only-of-type {\n",
       "        vertical-align: middle;\n",
       "    }\n",
       "\n",
       "    .dataframe tbody tr th {\n",
       "        vertical-align: top;\n",
       "    }\n",
       "\n",
       "    .dataframe thead th {\n",
       "        text-align: right;\n",
       "    }\n",
       "</style>\n",
       "<table border=\"1\" class=\"dataframe\">\n",
       "  <thead>\n",
       "    <tr style=\"text-align: right;\">\n",
       "      <th></th>\n",
       "      <th>URL</th>\n",
       "      <th>Level</th>\n",
       "      <th>People</th>\n",
       "      <th>Average-Time</th>\n",
       "      <th>Unit-Time</th>\n",
       "      <th>Sudoku</th>\n",
       "      <th>Solution</th>\n",
       "      <th>Id</th>\n",
       "    </tr>\n",
       "  </thead>\n",
       "  <tbody>\n",
       "    <tr>\n",
       "      <th>0</th>\n",
       "      <td>http://www.sudoku.org.uk/DailySudoku.asp?solut...</td>\n",
       "      <td>Moderate-2</td>\n",
       "      <td>292</td>\n",
       "      <td>14</td>\n",
       "      <td>minutes</td>\n",
       "      <td>.96..3.4.8.....1..4....6.829....4.....4.5.3......</td>\n",
       "      <td>2961835478754291364315769829583642717149523683...</td>\n",
       "      <td>0</td>\n",
       "    </tr>\n",
       "    <tr>\n",
       "      <th>1</th>\n",
       "      <td>http://www.sudoku.org.uk/DailySudoku.asp?solut...</td>\n",
       "      <td>Gentle-1</td>\n",
       "      <td>283</td>\n",
       "      <td>12</td>\n",
       "      <td>minutes</td>\n",
       "      <td>..7..34....17528......8.....4.5...3.1.2...5.8....</td>\n",
       "      <td>9871634254317528696259843718495167321623795487...</td>\n",
       "      <td>1</td>\n",
       "    </tr>\n",
       "    <tr>\n",
       "      <th>2</th>\n",
       "      <td>http://www.sudoku.org.uk/DailySudoku.asp?solut...</td>\n",
       "      <td>Diabolical-4</td>\n",
       "      <td>238</td>\n",
       "      <td>30</td>\n",
       "      <td>minutes</td>\n",
       "      <td>.6...3.7.....6.1.49.......3..97.45..7...1...9....</td>\n",
       "      <td>8641239753259671849175486232897345617462158391...</td>\n",
       "      <td>2</td>\n",
       "    </tr>\n",
       "    <tr>\n",
       "      <th>3</th>\n",
       "      <td>http://www.sudoku.org.uk/DailySudoku.asp?solut...</td>\n",
       "      <td>Moderate-2</td>\n",
       "      <td>274</td>\n",
       "      <td>14</td>\n",
       "      <td>minutes</td>\n",
       "      <td>.54....8.....4..7.79...8.....26..1....35..2......</td>\n",
       "      <td>1547639823289456717962183459726341588435712965...</td>\n",
       "      <td>3</td>\n",
       "    </tr>\n",
       "    <tr>\n",
       "      <th>4</th>\n",
       "      <td>http://www.sudoku.org.uk/DailySudoku.asp?solut...</td>\n",
       "      <td>Diabolical-4</td>\n",
       "      <td>244</td>\n",
       "      <td>28</td>\n",
       "      <td>minutes</td>\n",
       "      <td>..2...9......425.....751...4.......63.7...8..8...</td>\n",
       "      <td>5126389477639425819847516234218953763571268948...</td>\n",
       "      <td>4</td>\n",
       "    </tr>\n",
       "  </tbody>\n",
       "</table>\n",
       "</div>"
      ],
      "text/plain": [
       "                                                 URL         Level  People  \\\n",
       "0  http://www.sudoku.org.uk/DailySudoku.asp?solut...    Moderate-2     292   \n",
       "1  http://www.sudoku.org.uk/DailySudoku.asp?solut...      Gentle-1     283   \n",
       "2  http://www.sudoku.org.uk/DailySudoku.asp?solut...  Diabolical-4     238   \n",
       "3  http://www.sudoku.org.uk/DailySudoku.asp?solut...    Moderate-2     274   \n",
       "4  http://www.sudoku.org.uk/DailySudoku.asp?solut...  Diabolical-4     244   \n",
       "\n",
       "   Average-Time Unit-Time                                             Sudoku  \\\n",
       "0            14   minutes  .96..3.4.8.....1..4....6.829....4.....4.5.3......   \n",
       "1            12   minutes  ..7..34....17528......8.....4.5...3.1.2...5.8....   \n",
       "2            30   minutes  .6...3.7.....6.1.49.......3..97.45..7...1...9....   \n",
       "3            14   minutes  .54....8.....4..7.79...8.....26..1....35..2......   \n",
       "4            28   minutes  ..2...9......425.....751...4.......63.7...8..8...   \n",
       "\n",
       "                                            Solution  Id  \n",
       "0  2961835478754291364315769829583642717149523683...   0  \n",
       "1  9871634254317528696259843718495167321623795487...   1  \n",
       "2  8641239753259671849175486232897345617462158391...   2  \n",
       "3  1547639823289456717962183459726341588435712965...   3  \n",
       "4  5126389477639425819847516234218953763571268948...   4  "
      ]
     },
     "execution_count": 32,
     "metadata": {},
     "output_type": "execute_result"
    }
   ],
   "source": [
    "df.head()"
   ]
  },
  {
   "cell_type": "code",
   "execution_count": 33,
   "metadata": {},
   "outputs": [
    {
     "data": {
      "text/plain": [
       "['URL',\n",
       " 'Level',\n",
       " 'People',\n",
       " 'Average-Time',\n",
       " 'Unit-Time',\n",
       " 'Sudoku',\n",
       " 'Solution',\n",
       " 'Id']"
      ]
     },
     "execution_count": 33,
     "metadata": {},
     "output_type": "execute_result"
    }
   ],
   "source": [
    "# Reorganizing the columns\n",
    "list(df.columns)"
   ]
  },
  {
   "cell_type": "code",
   "execution_count": 34,
   "metadata": {},
   "outputs": [],
   "source": [
    "df = df[['Id', 'Level', 'Sudoku','Solution', 'People', 'Average-Time','Unit-Time','URL']]"
   ]
  },
  {
   "cell_type": "code",
   "execution_count": 35,
   "metadata": {},
   "outputs": [
    {
     "data": {
      "text/html": [
       "<div>\n",
       "<style scoped>\n",
       "    .dataframe tbody tr th:only-of-type {\n",
       "        vertical-align: middle;\n",
       "    }\n",
       "\n",
       "    .dataframe tbody tr th {\n",
       "        vertical-align: top;\n",
       "    }\n",
       "\n",
       "    .dataframe thead th {\n",
       "        text-align: right;\n",
       "    }\n",
       "</style>\n",
       "<table border=\"1\" class=\"dataframe\">\n",
       "  <thead>\n",
       "    <tr style=\"text-align: right;\">\n",
       "      <th></th>\n",
       "      <th>Id</th>\n",
       "      <th>Level</th>\n",
       "      <th>Sudoku</th>\n",
       "      <th>Solution</th>\n",
       "      <th>People</th>\n",
       "      <th>Average-Time</th>\n",
       "      <th>Unit-Time</th>\n",
       "      <th>URL</th>\n",
       "    </tr>\n",
       "  </thead>\n",
       "  <tbody>\n",
       "    <tr>\n",
       "      <th>0</th>\n",
       "      <td>0</td>\n",
       "      <td>Moderate-2</td>\n",
       "      <td>.96..3.4.8.....1..4....6.829....4.....4.5.3......</td>\n",
       "      <td>2961835478754291364315769829583642717149523683...</td>\n",
       "      <td>292</td>\n",
       "      <td>14</td>\n",
       "      <td>minutes</td>\n",
       "      <td>http://www.sudoku.org.uk/DailySudoku.asp?solut...</td>\n",
       "    </tr>\n",
       "    <tr>\n",
       "      <th>1</th>\n",
       "      <td>1</td>\n",
       "      <td>Gentle-1</td>\n",
       "      <td>..7..34....17528......8.....4.5...3.1.2...5.8....</td>\n",
       "      <td>9871634254317528696259843718495167321623795487...</td>\n",
       "      <td>283</td>\n",
       "      <td>12</td>\n",
       "      <td>minutes</td>\n",
       "      <td>http://www.sudoku.org.uk/DailySudoku.asp?solut...</td>\n",
       "    </tr>\n",
       "    <tr>\n",
       "      <th>2</th>\n",
       "      <td>2</td>\n",
       "      <td>Diabolical-4</td>\n",
       "      <td>.6...3.7.....6.1.49.......3..97.45..7...1...9....</td>\n",
       "      <td>8641239753259671849175486232897345617462158391...</td>\n",
       "      <td>238</td>\n",
       "      <td>30</td>\n",
       "      <td>minutes</td>\n",
       "      <td>http://www.sudoku.org.uk/DailySudoku.asp?solut...</td>\n",
       "    </tr>\n",
       "    <tr>\n",
       "      <th>3</th>\n",
       "      <td>3</td>\n",
       "      <td>Moderate-2</td>\n",
       "      <td>.54....8.....4..7.79...8.....26..1....35..2......</td>\n",
       "      <td>1547639823289456717962183459726341588435712965...</td>\n",
       "      <td>274</td>\n",
       "      <td>14</td>\n",
       "      <td>minutes</td>\n",
       "      <td>http://www.sudoku.org.uk/DailySudoku.asp?solut...</td>\n",
       "    </tr>\n",
       "    <tr>\n",
       "      <th>4</th>\n",
       "      <td>4</td>\n",
       "      <td>Diabolical-4</td>\n",
       "      <td>..2...9......425.....751...4.......63.7...8..8...</td>\n",
       "      <td>5126389477639425819847516234218953763571268948...</td>\n",
       "      <td>244</td>\n",
       "      <td>28</td>\n",
       "      <td>minutes</td>\n",
       "      <td>http://www.sudoku.org.uk/DailySudoku.asp?solut...</td>\n",
       "    </tr>\n",
       "  </tbody>\n",
       "</table>\n",
       "</div>"
      ],
      "text/plain": [
       "   Id         Level                                             Sudoku  \\\n",
       "0   0    Moderate-2  .96..3.4.8.....1..4....6.829....4.....4.5.3......   \n",
       "1   1      Gentle-1  ..7..34....17528......8.....4.5...3.1.2...5.8....   \n",
       "2   2  Diabolical-4  .6...3.7.....6.1.49.......3..97.45..7...1...9....   \n",
       "3   3    Moderate-2  .54....8.....4..7.79...8.....26..1....35..2......   \n",
       "4   4  Diabolical-4  ..2...9......425.....751...4.......63.7...8..8...   \n",
       "\n",
       "                                            Solution  People  Average-Time  \\\n",
       "0  2961835478754291364315769829583642717149523683...     292            14   \n",
       "1  9871634254317528696259843718495167321623795487...     283            12   \n",
       "2  8641239753259671849175486232897345617462158391...     238            30   \n",
       "3  1547639823289456717962183459726341588435712965...     274            14   \n",
       "4  5126389477639425819847516234218953763571268948...     244            28   \n",
       "\n",
       "  Unit-Time                                                URL  \n",
       "0   minutes  http://www.sudoku.org.uk/DailySudoku.asp?solut...  \n",
       "1   minutes  http://www.sudoku.org.uk/DailySudoku.asp?solut...  \n",
       "2   minutes  http://www.sudoku.org.uk/DailySudoku.asp?solut...  \n",
       "3   minutes  http://www.sudoku.org.uk/DailySudoku.asp?solut...  \n",
       "4   minutes  http://www.sudoku.org.uk/DailySudoku.asp?solut...  "
      ]
     },
     "execution_count": 35,
     "metadata": {},
     "output_type": "execute_result"
    }
   ],
   "source": [
    "df.head()"
   ]
  },
  {
   "cell_type": "markdown",
   "metadata": {},
   "source": [
    "### Who many levels are there?"
   ]
  },
  {
   "cell_type": "code",
   "execution_count": 36,
   "metadata": {},
   "outputs": [
    {
     "data": {
      "text/plain": [
       "Moderate-2      2151\n",
       "Diabolical-4    1432\n",
       "Tough-3          717\n",
       "Gentle-1         717\n",
       "Name: Level, dtype: int64"
      ]
     },
     "execution_count": 36,
     "metadata": {},
     "output_type": "execute_result"
    }
   ],
   "source": [
    "df['Level'].value_counts()"
   ]
  },
  {
   "cell_type": "markdown",
   "metadata": {},
   "source": [
    "##### On the website they rank the levels in this way from the easiest to the most difficult:\n",
    "##### 1. Gentle \n",
    "##### 2. Moderate \n",
    "##### 3. Tough \n",
    "##### 4. Diabolical\n"
   ]
  },
  {
   "cell_type": "markdown",
   "metadata": {},
   "source": [
    "### QUESTION / HYPTHESIS /RESULTS"
   ]
  },
  {
   "cell_type": "markdown",
   "metadata": {},
   "source": [
    "#### 1) Is the number of people who solve easy Sudoku greater than those who solve difficult?\n",
    "#### Hypothesis: the total of players fro the level \"Gentle\" is bigger than the leven \"Diabolical\" \n",
    "#### Results:"
   ]
  },
  {
   "cell_type": "code",
   "execution_count": 37,
   "metadata": {},
   "outputs": [
    {
     "data": {
      "text/plain": [
       "Level\n",
       "Diabolical-4     954833\n",
       "Gentle-1         594821\n",
       "Moderate-2      1697595\n",
       "Tough-3          534043\n",
       "Name: People, dtype: int64"
      ]
     },
     "execution_count": 37,
     "metadata": {},
     "output_type": "execute_result"
    }
   ],
   "source": [
    "df['People'].groupby([df['Level']]).sum()"
   ]
  },
  {
   "cell_type": "code",
   "execution_count": 38,
   "metadata": {},
   "outputs": [
    {
     "data": {
      "text/html": [
       "<div>\n",
       "<style scoped>\n",
       "    .dataframe tbody tr th:only-of-type {\n",
       "        vertical-align: middle;\n",
       "    }\n",
       "\n",
       "    .dataframe tbody tr th {\n",
       "        vertical-align: top;\n",
       "    }\n",
       "\n",
       "    .dataframe thead th {\n",
       "        text-align: right;\n",
       "    }\n",
       "</style>\n",
       "<table border=\"1\" class=\"dataframe\">\n",
       "  <thead>\n",
       "    <tr style=\"text-align: right;\">\n",
       "      <th></th>\n",
       "      <th>People</th>\n",
       "    </tr>\n",
       "    <tr>\n",
       "      <th>Level</th>\n",
       "      <th></th>\n",
       "    </tr>\n",
       "  </thead>\n",
       "  <tbody>\n",
       "    <tr>\n",
       "      <th>Diabolical-4</th>\n",
       "      <td>954833</td>\n",
       "    </tr>\n",
       "    <tr>\n",
       "      <th>Gentle-1</th>\n",
       "      <td>594821</td>\n",
       "    </tr>\n",
       "    <tr>\n",
       "      <th>Moderate-2</th>\n",
       "      <td>1697595</td>\n",
       "    </tr>\n",
       "    <tr>\n",
       "      <th>Tough-3</th>\n",
       "      <td>534043</td>\n",
       "    </tr>\n",
       "  </tbody>\n",
       "</table>\n",
       "</div>"
      ],
      "text/plain": [
       "               People\n",
       "Level                \n",
       "Diabolical-4   954833\n",
       "Gentle-1       594821\n",
       "Moderate-2    1697595\n",
       "Tough-3        534043"
      ]
     },
     "execution_count": 38,
     "metadata": {},
     "output_type": "execute_result"
    }
   ],
   "source": [
    "df.groupby('Level')[['People']].sum()"
   ]
  },
  {
   "cell_type": "code",
   "execution_count": 39,
   "metadata": {},
   "outputs": [
    {
     "data": {
      "text/html": [
       "<div>\n",
       "<style scoped>\n",
       "    .dataframe tbody tr th:only-of-type {\n",
       "        vertical-align: middle;\n",
       "    }\n",
       "\n",
       "    .dataframe tbody tr th {\n",
       "        vertical-align: top;\n",
       "    }\n",
       "\n",
       "    .dataframe thead th {\n",
       "        text-align: right;\n",
       "    }\n",
       "</style>\n",
       "<table border=\"1\" class=\"dataframe\">\n",
       "  <thead>\n",
       "    <tr style=\"text-align: right;\">\n",
       "      <th></th>\n",
       "      <th>Level</th>\n",
       "      <th>People</th>\n",
       "      <th>%</th>\n",
       "    </tr>\n",
       "  </thead>\n",
       "  <tbody>\n",
       "    <tr>\n",
       "      <th>2</th>\n",
       "      <td>Moderate-2</td>\n",
       "      <td>1697595</td>\n",
       "      <td>0.448946</td>\n",
       "    </tr>\n",
       "    <tr>\n",
       "      <th>0</th>\n",
       "      <td>Diabolical-4</td>\n",
       "      <td>954833</td>\n",
       "      <td>0.252515</td>\n",
       "    </tr>\n",
       "    <tr>\n",
       "      <th>1</th>\n",
       "      <td>Gentle-1</td>\n",
       "      <td>594821</td>\n",
       "      <td>0.157306</td>\n",
       "    </tr>\n",
       "    <tr>\n",
       "      <th>3</th>\n",
       "      <td>Tough-3</td>\n",
       "      <td>534043</td>\n",
       "      <td>0.141233</td>\n",
       "    </tr>\n",
       "  </tbody>\n",
       "</table>\n",
       "</div>"
      ],
      "text/plain": [
       "          Level   People         %\n",
       "2    Moderate-2  1697595  0.448946\n",
       "0  Diabolical-4   954833  0.252515\n",
       "1      Gentle-1   594821  0.157306\n",
       "3       Tough-3   534043  0.141233"
      ]
     },
     "execution_count": 39,
     "metadata": {},
     "output_type": "execute_result"
    }
   ],
   "source": [
    "gb1 = df.groupby('Level', as_index=False).agg({\"People\": \"sum\"}).sort_values(by='People', ascending=False)\n",
    "total= gb1.People.sum()\n",
    "gb1['%'] = gb1['People']/total\n",
    "gb1.head()"
   ]
  },
  {
   "cell_type": "code",
   "execution_count": 40,
   "metadata": {},
   "outputs": [],
   "source": [
    "diabolical = gb1[gb1['Level']=='Diabolical-4'].values[0,1]\n",
    "gentle = gb1[gb1['Level']=='Gentle-1'].values[0,1]\n"
   ]
  },
  {
   "cell_type": "code",
   "execution_count": 41,
   "metadata": {},
   "outputs": [
    {
     "name": "stdout",
     "output_type": "stream",
     "text": [
      "The hypothesis is False , more people plays diabolical than Gentle\n"
     ]
    }
   ],
   "source": [
    "if gentle > diabolical:\n",
    "    print('Hyphothesis is True')\n",
    "else: \n",
    "    print('The hypothesis is False , more people plays diabolical than Gentle')"
   ]
  },
  {
   "cell_type": "code",
   "execution_count": 42,
   "metadata": {},
   "outputs": [
    {
     "data": {
      "image/png": "[encoded data removed]",
      "text/plain": [
       "<Figure size 360x360 with 1 Axes>"
      ]
     },
     "metadata": {},
     "output_type": "display_data"
    }
   ],
   "source": [
    "### Plot \n",
    "plt.figure(figsize=(5, 5))\n",
    "plt.bar(gb1['Level'], gb1['People'])\n",
    "plt.show();"
   ]
  },
  {
   "cell_type": "markdown",
   "metadata": {},
   "source": [
    "#### 2) Does it take more time for people to solve the most difficult  ?\n",
    "#### Hypothesis: The average time to solve Sudoku in a \"Diabolical\" level is bigger than \"Thought\" level\n",
    "#### Results:"
   ]
  },
  {
   "cell_type": "code",
   "execution_count": 43,
   "metadata": {},
   "outputs": [
    {
     "data": {
      "text/html": [
       "<div>\n",
       "<style scoped>\n",
       "    .dataframe tbody tr th:only-of-type {\n",
       "        vertical-align: middle;\n",
       "    }\n",
       "\n",
       "    .dataframe tbody tr th {\n",
       "        vertical-align: top;\n",
       "    }\n",
       "\n",
       "    .dataframe thead th {\n",
       "        text-align: right;\n",
       "    }\n",
       "</style>\n",
       "<table border=\"1\" class=\"dataframe\">\n",
       "  <thead>\n",
       "    <tr style=\"text-align: right;\">\n",
       "      <th></th>\n",
       "      <th>Level</th>\n",
       "      <th>Average-Time</th>\n",
       "    </tr>\n",
       "  </thead>\n",
       "  <tbody>\n",
       "    <tr>\n",
       "      <th>0</th>\n",
       "      <td>Diabolical-4</td>\n",
       "      <td>31.043994</td>\n",
       "    </tr>\n",
       "    <tr>\n",
       "      <th>3</th>\n",
       "      <td>Tough-3</td>\n",
       "      <td>24.037657</td>\n",
       "    </tr>\n",
       "    <tr>\n",
       "      <th>2</th>\n",
       "      <td>Moderate-2</td>\n",
       "      <td>17.211994</td>\n",
       "    </tr>\n",
       "    <tr>\n",
       "      <th>1</th>\n",
       "      <td>Gentle-1</td>\n",
       "      <td>13.919107</td>\n",
       "    </tr>\n",
       "  </tbody>\n",
       "</table>\n",
       "</div>"
      ],
      "text/plain": [
       "          Level  Average-Time\n",
       "0  Diabolical-4     31.043994\n",
       "3       Tough-3     24.037657\n",
       "2    Moderate-2     17.211994\n",
       "1      Gentle-1     13.919107"
      ]
     },
     "execution_count": 43,
     "metadata": {},
     "output_type": "execute_result"
    }
   ],
   "source": [
    "gb2 = df.groupby('Level', as_index=False).agg({\"Average-Time\": \"mean\"}).sort_values(by='Average-Time', ascending=False)\n",
    "gb2.head()"
   ]
  },
  {
   "cell_type": "code",
   "execution_count": 44,
   "metadata": {},
   "outputs": [
    {
     "data": {
      "text/plain": [
       "[<matplotlib.lines.Line2D at 0x7f4563d89eb8>]"
      ]
     },
     "execution_count": 44,
     "metadata": {},
     "output_type": "execute_result"
    },
    {
     "data": {
      "image/png": "[encoded data removed]",
      "text/plain": [
       "<Figure size 432x288 with 1 Axes>"
      ]
     },
     "metadata": {},
     "output_type": "display_data"
    }
   ],
   "source": [
    "plt.plot(df['Id'], df['Average-Time'], marker='', linewidth=1, alpha=0.9, label=df['Level'])"
   ]
  },
  {
   "cell_type": "markdown",
   "metadata": {},
   "source": [
    "#### 3) Is the difficulty of a level defined by the amound of numbers given in the initial Sudoku?\n",
    "#### Hypothesis: Each Level has a range of numbers given in the initial Sudoku\n",
    "#### Results:"
   ]
  },
  {
   "cell_type": "code",
   "execution_count": 45,
   "metadata": {},
   "outputs": [],
   "source": [
    "# df['number_given'] = df.apply(lambda row: row.Sudoku.isdigit(), axis = 1)\n",
    "# df.head()"
   ]
  },
  {
   "cell_type": "code",
   "execution_count": 46,
   "metadata": {},
   "outputs": [
    {
     "data": {
      "text/plain": [
       "5017"
      ]
     },
     "execution_count": 46,
     "metadata": {},
     "output_type": "execute_result"
    }
   ],
   "source": [
    "len(df)"
   ]
  },
  {
   "cell_type": "code",
   "execution_count": 47,
   "metadata": {},
   "outputs": [
    {
     "name": "stderr",
     "output_type": "stream",
     "text": [
      "/home/ec2-user/anaconda3/envs/pytorch_p36/lib/python3.6/site-packages/ipykernel/__main__.py:3: SettingWithCopyWarning: \n",
      "A value is trying to be set on a copy of a slice from a DataFrame\n",
      "\n",
      "See the caveats in the documentation: http://pandas.pydata.org/pandas-docs/stable/indexing.html#indexing-view-versus-copy\n",
      "  app.launch_new_instance()\n"
     ]
    }
   ],
   "source": [
    "df['number_given']= 0\n",
    "for i in range(len(df)):\n",
    "    df['number_given'][i] = sum(c.isdigit() for c in df['Sudoku'][i])"
   ]
  },
  {
   "cell_type": "code",
   "execution_count": 48,
   "metadata": {},
   "outputs": [
    {
     "data": {
      "text/plain": [
       "25"
      ]
     },
     "execution_count": 48,
     "metadata": {},
     "output_type": "execute_result"
    }
   ],
   "source": [
    "sum(c.isdigit() for c in df['Sudoku'][0])"
   ]
  },
  {
   "cell_type": "code",
   "execution_count": 49,
   "metadata": {},
   "outputs": [
    {
     "data": {
      "text/plain": [
       "25"
      ]
     },
     "execution_count": 49,
     "metadata": {},
     "output_type": "execute_result"
    }
   ],
   "source": [
    "df['number_given'][0]"
   ]
  },
  {
   "cell_type": "code",
   "execution_count": 50,
   "metadata": {},
   "outputs": [
    {
     "data": {
      "text/html": [
       "<div>\n",
       "<style scoped>\n",
       "    .dataframe tbody tr th:only-of-type {\n",
       "        vertical-align: middle;\n",
       "    }\n",
       "\n",
       "    .dataframe tbody tr th {\n",
       "        vertical-align: top;\n",
       "    }\n",
       "\n",
       "    .dataframe thead th {\n",
       "        text-align: right;\n",
       "    }\n",
       "</style>\n",
       "<table border=\"1\" class=\"dataframe\">\n",
       "  <thead>\n",
       "    <tr style=\"text-align: right;\">\n",
       "      <th></th>\n",
       "      <th>Id</th>\n",
       "      <th>Level</th>\n",
       "      <th>Sudoku</th>\n",
       "      <th>Solution</th>\n",
       "      <th>People</th>\n",
       "      <th>Average-Time</th>\n",
       "      <th>Unit-Time</th>\n",
       "      <th>URL</th>\n",
       "      <th>number_given</th>\n",
       "    </tr>\n",
       "  </thead>\n",
       "  <tbody>\n",
       "    <tr>\n",
       "      <th>0</th>\n",
       "      <td>0</td>\n",
       "      <td>Moderate-2</td>\n",
       "      <td>.96..3.4.8.....1..4....6.829....4.....4.5.3......</td>\n",
       "      <td>2961835478754291364315769829583642717149523683...</td>\n",
       "      <td>292</td>\n",
       "      <td>14</td>\n",
       "      <td>minutes</td>\n",
       "      <td>http://www.sudoku.org.uk/DailySudoku.asp?solut...</td>\n",
       "      <td>25</td>\n",
       "    </tr>\n",
       "    <tr>\n",
       "      <th>1</th>\n",
       "      <td>1</td>\n",
       "      <td>Gentle-1</td>\n",
       "      <td>..7..34....17528......8.....4.5...3.1.2...5.8....</td>\n",
       "      <td>9871634254317528696259843718495167321623795487...</td>\n",
       "      <td>283</td>\n",
       "      <td>12</td>\n",
       "      <td>minutes</td>\n",
       "      <td>http://www.sudoku.org.uk/DailySudoku.asp?solut...</td>\n",
       "      <td>28</td>\n",
       "    </tr>\n",
       "    <tr>\n",
       "      <th>2</th>\n",
       "      <td>2</td>\n",
       "      <td>Diabolical-4</td>\n",
       "      <td>.6...3.7.....6.1.49.......3..97.45..7...1...9....</td>\n",
       "      <td>8641239753259671849175486232897345617462158391...</td>\n",
       "      <td>238</td>\n",
       "      <td>30</td>\n",
       "      <td>minutes</td>\n",
       "      <td>http://www.sudoku.org.uk/DailySudoku.asp?solut...</td>\n",
       "      <td>27</td>\n",
       "    </tr>\n",
       "    <tr>\n",
       "      <th>3</th>\n",
       "      <td>3</td>\n",
       "      <td>Moderate-2</td>\n",
       "      <td>.54....8.....4..7.79...8.....26..1....35..2......</td>\n",
       "      <td>1547639823289456717962183459726341588435712965...</td>\n",
       "      <td>274</td>\n",
       "      <td>14</td>\n",
       "      <td>minutes</td>\n",
       "      <td>http://www.sudoku.org.uk/DailySudoku.asp?solut...</td>\n",
       "      <td>25</td>\n",
       "    </tr>\n",
       "    <tr>\n",
       "      <th>4</th>\n",
       "      <td>4</td>\n",
       "      <td>Diabolical-4</td>\n",
       "      <td>..2...9......425.....751...4.......63.7...8..8...</td>\n",
       "      <td>5126389477639425819847516234218953763571268948...</td>\n",
       "      <td>244</td>\n",
       "      <td>28</td>\n",
       "      <td>minutes</td>\n",
       "      <td>http://www.sudoku.org.uk/DailySudoku.asp?solut...</td>\n",
       "      <td>25</td>\n",
       "    </tr>\n",
       "  </tbody>\n",
       "</table>\n",
       "</div>"
      ],
      "text/plain": [
       "   Id         Level                                             Sudoku  \\\n",
       "0   0    Moderate-2  .96..3.4.8.....1..4....6.829....4.....4.5.3......   \n",
       "1   1      Gentle-1  ..7..34....17528......8.....4.5...3.1.2...5.8....   \n",
       "2   2  Diabolical-4  .6...3.7.....6.1.49.......3..97.45..7...1...9....   \n",
       "3   3    Moderate-2  .54....8.....4..7.79...8.....26..1....35..2......   \n",
       "4   4  Diabolical-4  ..2...9......425.....751...4.......63.7...8..8...   \n",
       "\n",
       "                                            Solution  People  Average-Time  \\\n",
       "0  2961835478754291364315769829583642717149523683...     292            14   \n",
       "1  9871634254317528696259843718495167321623795487...     283            12   \n",
       "2  8641239753259671849175486232897345617462158391...     238            30   \n",
       "3  1547639823289456717962183459726341588435712965...     274            14   \n",
       "4  5126389477639425819847516234218953763571268948...     244            28   \n",
       "\n",
       "  Unit-Time                                                URL  number_given  \n",
       "0   minutes  http://www.sudoku.org.uk/DailySudoku.asp?solut...            25  \n",
       "1   minutes  http://www.sudoku.org.uk/DailySudoku.asp?solut...            28  \n",
       "2   minutes  http://www.sudoku.org.uk/DailySudoku.asp?solut...            27  \n",
       "3   minutes  http://www.sudoku.org.uk/DailySudoku.asp?solut...            25  \n",
       "4   minutes  http://www.sudoku.org.uk/DailySudoku.asp?solut...            25  "
      ]
     },
     "execution_count": 50,
     "metadata": {},
     "output_type": "execute_result"
    }
   ],
   "source": [
    "df.head()"
   ]
  },
  {
   "cell_type": "code",
   "execution_count": 51,
   "metadata": {},
   "outputs": [],
   "source": [
    "number_gentle = df['number_given'][df['Level']=='Gentle-1'].unique()\n",
    "number_moderate = df['number_given'][df['Level']=='Moderate-2'].unique()\n",
    "number_tough = df['number_given'][df['Level']=='Tough-3'].unique()\n",
    "number_diabolical = df['number_given'][df['Level']=='Diabolical-4'].unique()"
   ]
  },
  {
   "cell_type": "code",
   "execution_count": 59,
   "metadata": {},
   "outputs": [
    {
     "data": {
      "text/plain": [
       "array([23, 24, 25, 26, 27, 28, 29])"
      ]
     },
     "execution_count": 59,
     "metadata": {},
     "output_type": "execute_result"
    }
   ],
   "source": [
    "number_gentle.sort()\n",
    "number_gentle"
   ]
  },
  {
   "cell_type": "code",
   "execution_count": 60,
   "metadata": {},
   "outputs": [
    {
     "data": {
      "text/plain": [
       "array([22, 23, 24, 25, 26, 27, 28, 29])"
      ]
     },
     "execution_count": 60,
     "metadata": {},
     "output_type": "execute_result"
    }
   ],
   "source": [
    "number_moderate.sort()\n",
    "number_moderate"
   ]
  },
  {
   "cell_type": "code",
   "execution_count": 61,
   "metadata": {},
   "outputs": [
    {
     "data": {
      "text/plain": [
       "array([22, 23, 24, 25, 26, 27, 28, 29])"
      ]
     },
     "execution_count": 61,
     "metadata": {},
     "output_type": "execute_result"
    }
   ],
   "source": [
    "number_tough.sort()\n",
    "number_tough"
   ]
  },
  {
   "cell_type": "code",
   "execution_count": 62,
   "metadata": {},
   "outputs": [
    {
     "data": {
      "text/plain": [
       "array([21, 22, 23, 24, 25, 26, 27, 28, 29])"
      ]
     },
     "execution_count": 62,
     "metadata": {},
     "output_type": "execute_result"
    }
   ],
   "source": [
    "number_diabolical.sort()\n",
    "number_diabolical"
   ]
  },
  {
   "cell_type": "code",
   "execution_count": null,
   "metadata": {},
   "outputs": [],
   "source": []
  },
  {
   "cell_type": "code",
   "execution_count": null,
   "metadata": {},
   "outputs": [],
   "source": []
  },
  {
   "cell_type": "markdown",
   "metadata": {},
   "source": [
    "#### PREDICT if base on the position I can predict the level"
   ]
  },
  {
   "cell_type": "code",
   "execution_count": 63,
   "metadata": {},
   "outputs": [
    {
     "data": {
      "text/plain": [
       "0    .96..3.4.8.....1..4....6.829....4.....4.5.3......\n",
       "1    ..7..34....17528......8.....4.5...3.1.2...5.8....\n",
       "2    .6...3.7.....6.1.49.......3..97.45..7...1...9....\n",
       "3    .54....8.....4..7.79...8.....26..1....35..2......\n",
       "4    ..2...9......425.....751...4.......63.7...8..8...\n",
       "Name: Sudoku, dtype: object"
      ]
     },
     "execution_count": 63,
     "metadata": {},
     "output_type": "execute_result"
    }
   ],
   "source": [
    "test = df['Sudoku']\n",
    "test.head()"
   ]
  },
  {
   "cell_type": "code",
   "execution_count": 64,
   "metadata": {},
   "outputs": [
    {
     "data": {
      "text/plain": [
       "5017"
      ]
     },
     "execution_count": 64,
     "metadata": {},
     "output_type": "execute_result"
    }
   ],
   "source": [
    "len(test)"
   ]
  },
  {
   "cell_type": "code",
   "execution_count": 65,
   "metadata": {},
   "outputs": [],
   "source": [
    "def split(element): \n",
    "    return [char for char in element]\n"
   ]
  },
  {
   "cell_type": "code",
   "execution_count": 66,
   "metadata": {},
   "outputs": [
    {
     "name": "stderr",
     "output_type": "stream",
     "text": [
      "/home/ec2-user/anaconda3/envs/pytorch_p36/lib/python3.6/site-packages/ipykernel/__main__.py:3: SettingWithCopyWarning: \n",
      "A value is trying to be set on a copy of a slice from a DataFrame\n",
      "\n",
      "See the caveats in the documentation: http://pandas.pydata.org/pandas-docs/stable/indexing.html#indexing-view-versus-copy\n",
      "  app.launch_new_instance()\n"
     ]
    }
   ],
   "source": [
    "for i in range(len(test)):\n",
    "#     test['Sudoku'][i] = split(test['Sudoku'][i])\n",
    "    test[i] = [x.replace('.','0') for x in test[i]]\n"
   ]
  },
  {
   "cell_type": "code",
   "execution_count": 67,
   "metadata": {},
   "outputs": [
    {
     "data": {
      "text/plain": [
       "0    [0, 9, 6, 0, 0, 3, 0, 4, 0, 8, 0, 0, 0, 0, 0, ...\n",
       "1    [0, 0, 7, 0, 0, 3, 4, 0, 0, 0, 0, 1, 7, 5, 2, ...\n",
       "2    [0, 6, 0, 0, 0, 3, 0, 7, 0, 0, 0, 0, 0, 6, 0, ...\n",
       "3    [0, 5, 4, 0, 0, 0, 0, 8, 0, 0, 0, 0, 0, 4, 0, ...\n",
       "4    [0, 0, 2, 0, 0, 0, 9, 0, 0, 0, 0, 0, 0, 4, 2, ...\n",
       "Name: Sudoku, dtype: object"
      ]
     },
     "execution_count": 67,
     "metadata": {},
     "output_type": "execute_result"
    }
   ],
   "source": [
    "test.head()"
   ]
  },
  {
   "cell_type": "code",
   "execution_count": null,
   "metadata": {},
   "outputs": [],
   "source": []
  },
  {
   "cell_type": "markdown",
   "metadata": {},
   "source": [
    "### PREDICT LEVEL"
   ]
  },
  {
   "cell_type": "code",
   "execution_count": 68,
   "metadata": {},
   "outputs": [],
   "source": [
    "from sklearn.model_selection import train_test_split"
   ]
  },
  {
   "cell_type": "code",
   "execution_count": 69,
   "metadata": {},
   "outputs": [],
   "source": [
    "y = df['Level']\n",
    "x = test"
   ]
  },
  {
   "cell_type": "code",
   "execution_count": 70,
   "metadata": {},
   "outputs": [
    {
     "data": {
      "text/plain": [
       "0    [0, 9, 6, 0, 0, 3, 0, 4, 0, 8, 0, 0, 0, 0, 0, ...\n",
       "1    [0, 0, 7, 0, 0, 3, 4, 0, 0, 0, 0, 1, 7, 5, 2, ...\n",
       "2    [0, 6, 0, 0, 0, 3, 0, 7, 0, 0, 0, 0, 0, 6, 0, ...\n",
       "3    [0, 5, 4, 0, 0, 0, 0, 8, 0, 0, 0, 0, 0, 4, 0, ...\n",
       "4    [0, 0, 2, 0, 0, 0, 9, 0, 0, 0, 0, 0, 0, 4, 2, ...\n",
       "Name: Sudoku, dtype: object"
      ]
     },
     "execution_count": 70,
     "metadata": {},
     "output_type": "execute_result"
    }
   ],
   "source": [
    "x.head()"
   ]
  },
  {
   "cell_type": "code",
   "execution_count": 71,
   "metadata": {},
   "outputs": [],
   "source": [
    "y = y.replace({'Gentle-1': '1', 'Moderate-2': '2', 'Tough-3': '3','Diabolical-4': '4'})\n"
   ]
  },
  {
   "cell_type": "code",
   "execution_count": 72,
   "metadata": {},
   "outputs": [
    {
     "data": {
      "text/plain": [
       "0    2\n",
       "1    1\n",
       "2    4\n",
       "3    2\n",
       "4    4\n",
       "Name: Level, dtype: object"
      ]
     },
     "execution_count": 72,
     "metadata": {},
     "output_type": "execute_result"
    }
   ],
   "source": [
    "y.head()"
   ]
  },
  {
   "cell_type": "code",
   "execution_count": 73,
   "metadata": {},
   "outputs": [
    {
     "data": {
      "text/plain": [
       "((4013,), (4013,), (1004,), (1004,))"
      ]
     },
     "execution_count": 73,
     "metadata": {},
     "output_type": "execute_result"
    }
   ],
   "source": [
    "X_train, X_test, y_train, y_test = train_test_split(x, y, test_size=0.2)\n",
    "X_train.shape, y_train.shape, X_test.shape, y_test.shape"
   ]
  },
  {
   "cell_type": "code",
   "execution_count": 74,
   "metadata": {},
   "outputs": [],
   "source": [
    "from sklearn.linear_model import LogisticRegression\n",
    "from sklearn.ensemble import RandomForestClassifier\n",
    "lr = LogisticRegression()\n",
    "rf = RandomForestClassifier(n_estimators=25,max_depth=10)"
   ]
  },
  {
   "cell_type": "code",
   "execution_count": 75,
   "metadata": {},
   "outputs": [
    {
     "data": {
      "text/plain": [
       "RandomForestClassifier(bootstrap=True, class_weight=None, criterion='gini',\n",
       "            max_depth=10, max_features='auto', max_leaf_nodes=None,\n",
       "            min_impurity_decrease=0.0, min_impurity_split=None,\n",
       "            min_samples_leaf=1, min_samples_split=2,\n",
       "            min_weight_fraction_leaf=0.0, n_estimators=25, n_jobs=None,\n",
       "            oob_score=False, random_state=None, verbose=0,\n",
       "            warm_start=False)"
      ]
     },
     "execution_count": 75,
     "metadata": {},
     "output_type": "execute_result"
    }
   ],
   "source": [
    "rf.fit(list(X_train),y_train)"
   ]
  },
  {
   "cell_type": "code",
   "execution_count": 76,
   "metadata": {},
   "outputs": [],
   "source": [
    "y_pred =rf.predict(list(X_test))"
   ]
  },
  {
   "cell_type": "code",
   "execution_count": 77,
   "metadata": {},
   "outputs": [
    {
     "data": {
      "text/plain": [
       "0.4123505976095618"
      ]
     },
     "execution_count": 77,
     "metadata": {},
     "output_type": "execute_result"
    }
   ],
   "source": [
    "from sklearn.metrics import accuracy_score\n",
    "accuracy_score(y_test,y_pred)"
   ]
  },
  {
   "cell_type": "code",
   "execution_count": null,
   "metadata": {},
   "outputs": [],
   "source": []
  },
  {
   "cell_type": "markdown",
   "metadata": {},
   "source": [
    "#### CNN"
   ]
  },
  {
   "cell_type": "code",
   "execution_count": 78,
   "metadata": {},
   "outputs": [],
   "source": [
    "def transform_matrix(element):\n",
    "  return np.reshape(element, (-1, 9))"
   ]
  },
  {
   "cell_type": "code",
   "execution_count": 79,
   "metadata": {},
   "outputs": [
    {
     "data": {
      "text/plain": [
       "(4013,)"
      ]
     },
     "execution_count": 79,
     "metadata": {},
     "output_type": "execute_result"
    }
   ],
   "source": [
    "X_train.shape"
   ]
  },
  {
   "cell_type": "code",
   "execution_count": null,
   "metadata": {},
   "outputs": [],
   "source": []
  },
  {
   "cell_type": "code",
   "execution_count": 80,
   "metadata": {},
   "outputs": [],
   "source": [
    "X_train_new = []\n",
    "\n",
    "for i in X_train:\n",
    "#     print('here:   ',i)\n",
    "    X_train_new.append(transform_matrix(i).astype(np.float))\n"
   ]
  },
  {
   "cell_type": "code",
   "execution_count": 81,
   "metadata": {},
   "outputs": [
    {
     "data": {
      "text/plain": [
       "4013"
      ]
     },
     "execution_count": 81,
     "metadata": {},
     "output_type": "execute_result"
    }
   ],
   "source": [
    "len(X_train_new)"
   ]
  },
  {
   "cell_type": "code",
   "execution_count": 82,
   "metadata": {},
   "outputs": [
    {
     "data": {
      "text/plain": [
       "(9, 9)"
      ]
     },
     "execution_count": 82,
     "metadata": {},
     "output_type": "execute_result"
    }
   ],
   "source": [
    "X_train_new[0].shape"
   ]
  },
  {
   "cell_type": "code",
   "execution_count": 83,
   "metadata": {},
   "outputs": [
    {
     "data": {
      "image/png": "[encoded data removed]",
      "text/plain": [
       "<Figure size 432x288 with 1 Axes>"
      ]
     },
     "metadata": {},
     "output_type": "display_data"
    }
   ],
   "source": [
    "plt.gray()\n",
    "plt.imshow(X_train_new[1])\n",
    "plt.show()"
   ]
  },
  {
   "cell_type": "code",
   "execution_count": 84,
   "metadata": {},
   "outputs": [
    {
     "data": {
      "text/plain": [
       "(4013,)"
      ]
     },
     "execution_count": 84,
     "metadata": {},
     "output_type": "execute_result"
    }
   ],
   "source": [
    "y_train.shape"
   ]
  },
  {
   "cell_type": "code",
   "execution_count": 85,
   "metadata": {},
   "outputs": [
    {
     "ename": "ModuleNotFoundError",
     "evalue": "No module named 'keras'",
     "output_type": "error",
     "traceback": [
      "\u001b[0;31m---------------------------------------------------------------------------\u001b[0m",
      "\u001b[0;31mModuleNotFoundError\u001b[0m                       Traceback (most recent call last)",
      "\u001b[0;32m<ipython-input-85-ee4df02e44a0>\u001b[0m in \u001b[0;36m<module>\u001b[0;34m()\u001b[0m\n\u001b[1;32m      1\u001b[0m \u001b[0;31m# Create a model\u001b[0m\u001b[0;34m\u001b[0m\u001b[0;34m\u001b[0m\u001b[0m\n\u001b[0;32m----> 2\u001b[0;31m \u001b[0;32mfrom\u001b[0m \u001b[0mkeras\u001b[0m\u001b[0;34m.\u001b[0m\u001b[0mmodels\u001b[0m \u001b[0;32mimport\u001b[0m \u001b[0mSequential\u001b[0m\u001b[0;34m\u001b[0m\u001b[0m\n\u001b[0m\u001b[1;32m      3\u001b[0m \u001b[0;32mfrom\u001b[0m \u001b[0mkeras\u001b[0m\u001b[0;34m.\u001b[0m\u001b[0mlayers\u001b[0m \u001b[0;32mimport\u001b[0m \u001b[0mDense\u001b[0m\u001b[0;34m,\u001b[0m \u001b[0mConv2D\u001b[0m\u001b[0;34m,\u001b[0m \u001b[0mFlatten\u001b[0m\u001b[0;34m\u001b[0m\u001b[0m\n",
      "\u001b[0;31mModuleNotFoundError\u001b[0m: No module named 'keras'"
     ]
    }
   ],
   "source": [
    "# Create a model \n",
    "from keras.models import Sequential\n",
    "from keras.layers import Dense, Conv2D, Flatten\n"
   ]
  },
  {
   "cell_type": "code",
   "execution_count": 86,
   "metadata": {},
   "outputs": [],
   "source": [
    "model = Sequential()\n",
    "# Input => Hidden\n",
    "model.add(Dense(9, input_dim=9, activation='relu'))\n",
    "# Hiddens\n",
    "model.add(Dense(6, activation='sigmoid'))\n",
    "model.add(Dense(3, activation='relu'))\n",
    "# Output\n",
    "model.add(Dense(1, activation='relu'))\n",
    "\n",
    "\n",
    "model.compile(loss='mse', optimizer='adam', metrics=['mse'])\n",
    "model.summary()\n",
    "# model.compile(loss='binary_crossentropy', optimizer='adam', metrics=['accuracy'])"
   ]
  },
  {
   "cell_type": "code",
   "execution_count": 91,
   "metadata": {},
   "outputs": [
    {
     "ename": "AssertionError",
     "evalue": "",
     "output_type": "error",
     "traceback": [
      "\u001b[0;31m---------------------------------------------------------------------------\u001b[0m",
      "\u001b[0;31mAssertionError\u001b[0m                            Traceback (most recent call last)",
      "\u001b[0;32m<ipython-input-91-1105fc3dae16>\u001b[0m in \u001b[0;36m<module>\u001b[0;34m\u001b[0m\n\u001b[0;32m----> 1\u001b[0;31m \u001b[0mmodel\u001b[0m\u001b[0;34m.\u001b[0m\u001b[0mfit\u001b[0m\u001b[0;34m(\u001b[0m\u001b[0mX_train_new\u001b[0m\u001b[0;34m,\u001b[0m\u001b[0my_train\u001b[0m\u001b[0;34m,\u001b[0m \u001b[0mepochs\u001b[0m\u001b[0;34m=\u001b[0m\u001b[0;36m150\u001b[0m\u001b[0;34m)\u001b[0m\u001b[0;34m\u001b[0m\u001b[0;34m\u001b[0m\u001b[0m\n\u001b[0m",
      "\u001b[0;32m/usr/local/lib/python3.6/dist-packages/keras/engine/training.py\u001b[0m in \u001b[0;36mfit\u001b[0;34m(self, x, y, batch_size, epochs, verbose, callbacks, validation_split, validation_data, shuffle, class_weight, sample_weight, initial_epoch, steps_per_epoch, validation_steps, validation_freq, max_queue_size, workers, use_multiprocessing, **kwargs)\u001b[0m\n\u001b[1;32m   1152\u001b[0m             \u001b[0msample_weight\u001b[0m\u001b[0;34m=\u001b[0m\u001b[0msample_weight\u001b[0m\u001b[0;34m,\u001b[0m\u001b[0;34m\u001b[0m\u001b[0;34m\u001b[0m\u001b[0m\n\u001b[1;32m   1153\u001b[0m             \u001b[0mclass_weight\u001b[0m\u001b[0;34m=\u001b[0m\u001b[0mclass_weight\u001b[0m\u001b[0;34m,\u001b[0m\u001b[0;34m\u001b[0m\u001b[0;34m\u001b[0m\u001b[0m\n\u001b[0;32m-> 1154\u001b[0;31m             batch_size=batch_size)\n\u001b[0m\u001b[1;32m   1155\u001b[0m \u001b[0;34m\u001b[0m\u001b[0m\n\u001b[1;32m   1156\u001b[0m         \u001b[0;31m# Prepare validation data.\u001b[0m\u001b[0;34m\u001b[0m\u001b[0;34m\u001b[0m\u001b[0;34m\u001b[0m\u001b[0m\n",
      "\u001b[0;32m/usr/local/lib/python3.6/dist-packages/keras/engine/training.py\u001b[0m in \u001b[0;36m_standardize_user_data\u001b[0;34m(self, x, y, sample_weight, class_weight, check_array_lengths, batch_size)\u001b[0m\n\u001b[1;32m    502\u001b[0m             \u001b[0;31m# to match the value shapes.\u001b[0m\u001b[0;34m\u001b[0m\u001b[0;34m\u001b[0m\u001b[0;34m\u001b[0m\u001b[0m\n\u001b[1;32m    503\u001b[0m             \u001b[0;32mif\u001b[0m \u001b[0;32mnot\u001b[0m \u001b[0mself\u001b[0m\u001b[0;34m.\u001b[0m\u001b[0minputs\u001b[0m\u001b[0;34m:\u001b[0m\u001b[0;34m\u001b[0m\u001b[0;34m\u001b[0m\u001b[0m\n\u001b[0;32m--> 504\u001b[0;31m                 \u001b[0mself\u001b[0m\u001b[0;34m.\u001b[0m\u001b[0m_set_inputs\u001b[0m\u001b[0;34m(\u001b[0m\u001b[0mx\u001b[0m\u001b[0;34m)\u001b[0m\u001b[0;34m\u001b[0m\u001b[0;34m\u001b[0m\u001b[0m\n\u001b[0m\u001b[1;32m    505\u001b[0m \u001b[0;34m\u001b[0m\u001b[0m\n\u001b[1;32m    506\u001b[0m         \u001b[0;32mif\u001b[0m \u001b[0my\u001b[0m \u001b[0;32mis\u001b[0m \u001b[0;32mnot\u001b[0m \u001b[0;32mNone\u001b[0m\u001b[0;34m:\u001b[0m\u001b[0;34m\u001b[0m\u001b[0;34m\u001b[0m\u001b[0m\n",
      "\u001b[0;32m/usr/local/lib/python3.6/dist-packages/keras/engine/training.py\u001b[0m in \u001b[0;36m_set_inputs\u001b[0;34m(self, inputs, outputs, training)\u001b[0m\n\u001b[1;32m    412\u001b[0m             \u001b[0;31m# since `Sequential` depends on `Model`.\u001b[0m\u001b[0;34m\u001b[0m\u001b[0;34m\u001b[0m\u001b[0;34m\u001b[0m\u001b[0m\n\u001b[1;32m    413\u001b[0m             \u001b[0;32mif\u001b[0m \u001b[0misinstance\u001b[0m\u001b[0;34m(\u001b[0m\u001b[0minputs\u001b[0m\u001b[0;34m,\u001b[0m \u001b[0mlist\u001b[0m\u001b[0;34m)\u001b[0m\u001b[0;34m:\u001b[0m\u001b[0;34m\u001b[0m\u001b[0;34m\u001b[0m\u001b[0m\n\u001b[0;32m--> 414\u001b[0;31m                 \u001b[0;32massert\u001b[0m \u001b[0mlen\u001b[0m\u001b[0;34m(\u001b[0m\u001b[0minputs\u001b[0m\u001b[0;34m)\u001b[0m \u001b[0;34m==\u001b[0m \u001b[0;36m1\u001b[0m\u001b[0;34m\u001b[0m\u001b[0;34m\u001b[0m\u001b[0m\n\u001b[0m\u001b[1;32m    415\u001b[0m                 \u001b[0minputs\u001b[0m \u001b[0;34m=\u001b[0m \u001b[0minputs\u001b[0m\u001b[0;34m[\u001b[0m\u001b[0;36m0\u001b[0m\u001b[0;34m]\u001b[0m\u001b[0;34m\u001b[0m\u001b[0;34m\u001b[0m\u001b[0m\n\u001b[1;32m    416\u001b[0m             \u001b[0mself\u001b[0m\u001b[0;34m.\u001b[0m\u001b[0mbuild\u001b[0m\u001b[0;34m(\u001b[0m\u001b[0minput_shape\u001b[0m\u001b[0;34m=\u001b[0m\u001b[0;34m(\u001b[0m\u001b[0;32mNone\u001b[0m\u001b[0;34m,\u001b[0m\u001b[0;34m)\u001b[0m \u001b[0;34m+\u001b[0m \u001b[0minputs\u001b[0m\u001b[0;34m.\u001b[0m\u001b[0mshape\u001b[0m\u001b[0;34m[\u001b[0m\u001b[0;36m1\u001b[0m\u001b[0;34m:\u001b[0m\u001b[0;34m]\u001b[0m\u001b[0;34m)\u001b[0m\u001b[0;34m\u001b[0m\u001b[0;34m\u001b[0m\u001b[0m\n",
      "\u001b[0;31mAssertionError\u001b[0m: "
     ]
    }
   ],
   "source": [
    "model.fit(X_train_new,y_train, epochs=150)"
   ]
  },
  {
   "cell_type": "code",
   "execution_count": null,
   "metadata": {},
   "outputs": [],
   "source": []
  }
 ],
 "metadata": {
  "kernelspec": {
   "display_name": "conda_pytorch_p36",
   "language": "python",
   "name": "conda_pytorch_p36"
  },
  "language_info": {
   "codemirror_mode": {
    "name": "ipython",
    "version": 3
   },
   "file_extension": ".py",
   "mimetype": "text/x-python",
   "name": "python",
   "nbconvert_exporter": "python",
   "pygments_lexer": "ipython3",
   "version": "3.6.5"
  }
 },
 "nbformat": 4,
 "nbformat_minor": 4
}
