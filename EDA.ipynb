{
 "cells": [
  {
   "cell_type": "markdown",
   "metadata": {},
   "source": [
    "#### Loading Data Set"
   ]
  },
  {
   "cell_type": "code",
   "execution_count": 1,
   "metadata": {},
   "outputs": [],
   "source": [
    "# Importing Libraries\n",
    "import pandas as pd\n",
    "import numpy as np\n",
    "import seaborn as sns\n",
    "import matplotlib.pyplot as plt\n",
    "import sklearn"
   ]
  },
  {
   "cell_type": "code",
   "execution_count": 82,
   "metadata": {},
   "outputs": [],
   "source": [
    "df = pd.read_csv('sudoku_uk.csv').drop('Unnamed: 0', axis=1)\n",
    "\n",
    "df = df.replace({'Gentle': 'Gentle-1', 'Moderate': 'Moderate-2', 'Tough': 'Tough-3','Diabolical': 'Diabolical-4'})"
   ]
  },
  {
   "cell_type": "code",
   "execution_count": 83,
   "metadata": {},
   "outputs": [
    {
     "data": {
      "text/plain": [
       "(5017, 8)"
      ]
     },
     "execution_count": 83,
     "metadata": {},
     "output_type": "execute_result"
    }
   ],
   "source": [
    "# check size\n",
    "df.shape"
   ]
  },
  {
   "cell_type": "code",
   "execution_count": 84,
   "metadata": {},
   "outputs": [
    {
     "data": {
      "text/html": [
       "<div>\n",
       "<style scoped>\n",
       "    .dataframe tbody tr th:only-of-type {\n",
       "        vertical-align: middle;\n",
       "    }\n",
       "\n",
       "    .dataframe tbody tr th {\n",
       "        vertical-align: top;\n",
       "    }\n",
       "\n",
       "    .dataframe thead th {\n",
       "        text-align: right;\n",
       "    }\n",
       "</style>\n",
       "<table border=\"1\" class=\"dataframe\">\n",
       "  <thead>\n",
       "    <tr style=\"text-align: right;\">\n",
       "      <th></th>\n",
       "      <th>URL</th>\n",
       "      <th>Level</th>\n",
       "      <th>People</th>\n",
       "      <th>Average-Time</th>\n",
       "      <th>Unit-Time</th>\n",
       "      <th>Sudoku</th>\n",
       "      <th>Solution</th>\n",
       "      <th>Id</th>\n",
       "    </tr>\n",
       "  </thead>\n",
       "  <tbody>\n",
       "    <tr>\n",
       "      <th>0</th>\n",
       "      <td>http://www.sudoku.org.uk/DailySudoku.asp?solut...</td>\n",
       "      <td>Moderate-2</td>\n",
       "      <td>292</td>\n",
       "      <td>14</td>\n",
       "      <td>minutes</td>\n",
       "      <td>.96..3.4.8.....1..4....6.829....4.....4.5.3......</td>\n",
       "      <td>2961835478754291364315769829583642717149523683...</td>\n",
       "      <td>0</td>\n",
       "    </tr>\n",
       "    <tr>\n",
       "      <th>1</th>\n",
       "      <td>http://www.sudoku.org.uk/DailySudoku.asp?solut...</td>\n",
       "      <td>Gentle-1</td>\n",
       "      <td>283</td>\n",
       "      <td>12</td>\n",
       "      <td>minutes</td>\n",
       "      <td>..7..34....17528......8.....4.5...3.1.2...5.8....</td>\n",
       "      <td>9871634254317528696259843718495167321623795487...</td>\n",
       "      <td>1</td>\n",
       "    </tr>\n",
       "    <tr>\n",
       "      <th>2</th>\n",
       "      <td>http://www.sudoku.org.uk/DailySudoku.asp?solut...</td>\n",
       "      <td>Diabolical-4</td>\n",
       "      <td>238</td>\n",
       "      <td>30</td>\n",
       "      <td>minutes</td>\n",
       "      <td>.6...3.7.....6.1.49.......3..97.45..7...1...9....</td>\n",
       "      <td>8641239753259671849175486232897345617462158391...</td>\n",
       "      <td>2</td>\n",
       "    </tr>\n",
       "    <tr>\n",
       "      <th>3</th>\n",
       "      <td>http://www.sudoku.org.uk/DailySudoku.asp?solut...</td>\n",
       "      <td>Moderate-2</td>\n",
       "      <td>274</td>\n",
       "      <td>14</td>\n",
       "      <td>minutes</td>\n",
       "      <td>.54....8.....4..7.79...8.....26..1....35..2......</td>\n",
       "      <td>1547639823289456717962183459726341588435712965...</td>\n",
       "      <td>3</td>\n",
       "    </tr>\n",
       "    <tr>\n",
       "      <th>4</th>\n",
       "      <td>http://www.sudoku.org.uk/DailySudoku.asp?solut...</td>\n",
       "      <td>Diabolical-4</td>\n",
       "      <td>244</td>\n",
       "      <td>28</td>\n",
       "      <td>minutes</td>\n",
       "      <td>..2...9......425.....751...4.......63.7...8..8...</td>\n",
       "      <td>5126389477639425819847516234218953763571268948...</td>\n",
       "      <td>4</td>\n",
       "    </tr>\n",
       "  </tbody>\n",
       "</table>\n",
       "</div>"
      ],
      "text/plain": [
       "                                                 URL         Level  People  \\\n",
       "0  http://www.sudoku.org.uk/DailySudoku.asp?solut...    Moderate-2     292   \n",
       "1  http://www.sudoku.org.uk/DailySudoku.asp?solut...      Gentle-1     283   \n",
       "2  http://www.sudoku.org.uk/DailySudoku.asp?solut...  Diabolical-4     238   \n",
       "3  http://www.sudoku.org.uk/DailySudoku.asp?solut...    Moderate-2     274   \n",
       "4  http://www.sudoku.org.uk/DailySudoku.asp?solut...  Diabolical-4     244   \n",
       "\n",
       "   Average-Time Unit-Time                                             Sudoku  \\\n",
       "0            14   minutes  .96..3.4.8.....1..4....6.829....4.....4.5.3......   \n",
       "1            12   minutes  ..7..34....17528......8.....4.5...3.1.2...5.8....   \n",
       "2            30   minutes  .6...3.7.....6.1.49.......3..97.45..7...1...9....   \n",
       "3            14   minutes  .54....8.....4..7.79...8.....26..1....35..2......   \n",
       "4            28   minutes  ..2...9......425.....751...4.......63.7...8..8...   \n",
       "\n",
       "                                            Solution  Id  \n",
       "0  2961835478754291364315769829583642717149523683...   0  \n",
       "1  9871634254317528696259843718495167321623795487...   1  \n",
       "2  8641239753259671849175486232897345617462158391...   2  \n",
       "3  1547639823289456717962183459726341588435712965...   3  \n",
       "4  5126389477639425819847516234218953763571268948...   4  "
      ]
     },
     "execution_count": 84,
     "metadata": {},
     "output_type": "execute_result"
    }
   ],
   "source": [
    "df.head()"
   ]
  },
  {
   "cell_type": "code",
   "execution_count": 85,
   "metadata": {},
   "outputs": [
    {
     "data": {
      "text/plain": [
       "['URL',\n",
       " 'Level',\n",
       " 'People',\n",
       " 'Average-Time',\n",
       " 'Unit-Time',\n",
       " 'Sudoku',\n",
       " 'Solution',\n",
       " 'Id']"
      ]
     },
     "execution_count": 85,
     "metadata": {},
     "output_type": "execute_result"
    }
   ],
   "source": [
    "# Reorganizing the columns\n",
    "list(df.columns)"
   ]
  },
  {
   "cell_type": "code",
   "execution_count": 86,
   "metadata": {},
   "outputs": [],
   "source": [
    "df = df[['Id', 'Level', 'Sudoku','Solution', 'People', 'Average-Time','Unit-Time','URL']]"
   ]
  },
  {
   "cell_type": "code",
   "execution_count": 87,
   "metadata": {},
   "outputs": [
    {
     "data": {
      "text/html": [
       "<div>\n",
       "<style scoped>\n",
       "    .dataframe tbody tr th:only-of-type {\n",
       "        vertical-align: middle;\n",
       "    }\n",
       "\n",
       "    .dataframe tbody tr th {\n",
       "        vertical-align: top;\n",
       "    }\n",
       "\n",
       "    .dataframe thead th {\n",
       "        text-align: right;\n",
       "    }\n",
       "</style>\n",
       "<table border=\"1\" class=\"dataframe\">\n",
       "  <thead>\n",
       "    <tr style=\"text-align: right;\">\n",
       "      <th></th>\n",
       "      <th>Id</th>\n",
       "      <th>Level</th>\n",
       "      <th>Sudoku</th>\n",
       "      <th>Solution</th>\n",
       "      <th>People</th>\n",
       "      <th>Average-Time</th>\n",
       "      <th>Unit-Time</th>\n",
       "      <th>URL</th>\n",
       "    </tr>\n",
       "  </thead>\n",
       "  <tbody>\n",
       "    <tr>\n",
       "      <th>0</th>\n",
       "      <td>0</td>\n",
       "      <td>Moderate-2</td>\n",
       "      <td>.96..3.4.8.....1..4....6.829....4.....4.5.3......</td>\n",
       "      <td>2961835478754291364315769829583642717149523683...</td>\n",
       "      <td>292</td>\n",
       "      <td>14</td>\n",
       "      <td>minutes</td>\n",
       "      <td>http://www.sudoku.org.uk/DailySudoku.asp?solut...</td>\n",
       "    </tr>\n",
       "    <tr>\n",
       "      <th>1</th>\n",
       "      <td>1</td>\n",
       "      <td>Gentle-1</td>\n",
       "      <td>..7..34....17528......8.....4.5...3.1.2...5.8....</td>\n",
       "      <td>9871634254317528696259843718495167321623795487...</td>\n",
       "      <td>283</td>\n",
       "      <td>12</td>\n",
       "      <td>minutes</td>\n",
       "      <td>http://www.sudoku.org.uk/DailySudoku.asp?solut...</td>\n",
       "    </tr>\n",
       "    <tr>\n",
       "      <th>2</th>\n",
       "      <td>2</td>\n",
       "      <td>Diabolical-4</td>\n",
       "      <td>.6...3.7.....6.1.49.......3..97.45..7...1...9....</td>\n",
       "      <td>8641239753259671849175486232897345617462158391...</td>\n",
       "      <td>238</td>\n",
       "      <td>30</td>\n",
       "      <td>minutes</td>\n",
       "      <td>http://www.sudoku.org.uk/DailySudoku.asp?solut...</td>\n",
       "    </tr>\n",
       "    <tr>\n",
       "      <th>3</th>\n",
       "      <td>3</td>\n",
       "      <td>Moderate-2</td>\n",
       "      <td>.54....8.....4..7.79...8.....26..1....35..2......</td>\n",
       "      <td>1547639823289456717962183459726341588435712965...</td>\n",
       "      <td>274</td>\n",
       "      <td>14</td>\n",
       "      <td>minutes</td>\n",
       "      <td>http://www.sudoku.org.uk/DailySudoku.asp?solut...</td>\n",
       "    </tr>\n",
       "    <tr>\n",
       "      <th>4</th>\n",
       "      <td>4</td>\n",
       "      <td>Diabolical-4</td>\n",
       "      <td>..2...9......425.....751...4.......63.7...8..8...</td>\n",
       "      <td>5126389477639425819847516234218953763571268948...</td>\n",
       "      <td>244</td>\n",
       "      <td>28</td>\n",
       "      <td>minutes</td>\n",
       "      <td>http://www.sudoku.org.uk/DailySudoku.asp?solut...</td>\n",
       "    </tr>\n",
       "  </tbody>\n",
       "</table>\n",
       "</div>"
      ],
      "text/plain": [
       "   Id         Level                                             Sudoku  \\\n",
       "0   0    Moderate-2  .96..3.4.8.....1..4....6.829....4.....4.5.3......   \n",
       "1   1      Gentle-1  ..7..34....17528......8.....4.5...3.1.2...5.8....   \n",
       "2   2  Diabolical-4  .6...3.7.....6.1.49.......3..97.45..7...1...9....   \n",
       "3   3    Moderate-2  .54....8.....4..7.79...8.....26..1....35..2......   \n",
       "4   4  Diabolical-4  ..2...9......425.....751...4.......63.7...8..8...   \n",
       "\n",
       "                                            Solution  People  Average-Time  \\\n",
       "0  2961835478754291364315769829583642717149523683...     292            14   \n",
       "1  9871634254317528696259843718495167321623795487...     283            12   \n",
       "2  8641239753259671849175486232897345617462158391...     238            30   \n",
       "3  1547639823289456717962183459726341588435712965...     274            14   \n",
       "4  5126389477639425819847516234218953763571268948...     244            28   \n",
       "\n",
       "  Unit-Time                                                URL  \n",
       "0   minutes  http://www.sudoku.org.uk/DailySudoku.asp?solut...  \n",
       "1   minutes  http://www.sudoku.org.uk/DailySudoku.asp?solut...  \n",
       "2   minutes  http://www.sudoku.org.uk/DailySudoku.asp?solut...  \n",
       "3   minutes  http://www.sudoku.org.uk/DailySudoku.asp?solut...  \n",
       "4   minutes  http://www.sudoku.org.uk/DailySudoku.asp?solut...  "
      ]
     },
     "execution_count": 87,
     "metadata": {},
     "output_type": "execute_result"
    }
   ],
   "source": [
    "df.head()"
   ]
  },
  {
   "cell_type": "markdown",
   "metadata": {},
   "source": [
    "### Who many levels are there?"
   ]
  },
  {
   "cell_type": "code",
   "execution_count": 88,
   "metadata": {},
   "outputs": [
    {
     "data": {
      "text/plain": [
       "Moderate-2      2151\n",
       "Diabolical-4    1432\n",
       "Gentle-1         717\n",
       "Tough-3          717\n",
       "Name: Level, dtype: int64"
      ]
     },
     "execution_count": 88,
     "metadata": {},
     "output_type": "execute_result"
    }
   ],
   "source": [
    "df['Level'].value_counts()"
   ]
  },
  {
   "cell_type": "markdown",
   "metadata": {},
   "source": [
    "##### On the website they rank the levels in this way from the easiest to the most difficult:\n",
    "##### 1. Gentle \n",
    "##### 2. Moderate \n",
    "##### 3. Tough \n",
    "##### 4. Diabolical\n"
   ]
  },
  {
   "cell_type": "markdown",
   "metadata": {},
   "source": [
    "### QUESTION / HYPTHESIS /RESULTS"
   ]
  },
  {
   "cell_type": "markdown",
   "metadata": {},
   "source": [
    "#### 1) Is the number of people who solve easy Sudoku greater than those who solve difficult?\n",
    "#### Hypothesis: the total of players fro the level \"Gentle\" is bigger than the leven \"Diabolical\" \n",
    "#### Results:"
   ]
  },
  {
   "cell_type": "code",
   "execution_count": 89,
   "metadata": {},
   "outputs": [
    {
     "data": {
      "text/plain": [
       "Level\n",
       "Diabolical-4     954833\n",
       "Gentle-1         594821\n",
       "Moderate-2      1697595\n",
       "Tough-3          534043\n",
       "Name: People, dtype: int64"
      ]
     },
     "execution_count": 89,
     "metadata": {},
     "output_type": "execute_result"
    }
   ],
   "source": [
    "df['People'].groupby([df['Level']]).sum()"
   ]
  },
  {
   "cell_type": "code",
   "execution_count": 90,
   "metadata": {},
   "outputs": [
    {
     "data": {
      "text/html": [
       "<div>\n",
       "<style scoped>\n",
       "    .dataframe tbody tr th:only-of-type {\n",
       "        vertical-align: middle;\n",
       "    }\n",
       "\n",
       "    .dataframe tbody tr th {\n",
       "        vertical-align: top;\n",
       "    }\n",
       "\n",
       "    .dataframe thead th {\n",
       "        text-align: right;\n",
       "    }\n",
       "</style>\n",
       "<table border=\"1\" class=\"dataframe\">\n",
       "  <thead>\n",
       "    <tr style=\"text-align: right;\">\n",
       "      <th></th>\n",
       "      <th>People</th>\n",
       "    </tr>\n",
       "    <tr>\n",
       "      <th>Level</th>\n",
       "      <th></th>\n",
       "    </tr>\n",
       "  </thead>\n",
       "  <tbody>\n",
       "    <tr>\n",
       "      <th>Diabolical-4</th>\n",
       "      <td>954833</td>\n",
       "    </tr>\n",
       "    <tr>\n",
       "      <th>Gentle-1</th>\n",
       "      <td>594821</td>\n",
       "    </tr>\n",
       "    <tr>\n",
       "      <th>Moderate-2</th>\n",
       "      <td>1697595</td>\n",
       "    </tr>\n",
       "    <tr>\n",
       "      <th>Tough-3</th>\n",
       "      <td>534043</td>\n",
       "    </tr>\n",
       "  </tbody>\n",
       "</table>\n",
       "</div>"
      ],
      "text/plain": [
       "               People\n",
       "Level                \n",
       "Diabolical-4   954833\n",
       "Gentle-1       594821\n",
       "Moderate-2    1697595\n",
       "Tough-3        534043"
      ]
     },
     "execution_count": 90,
     "metadata": {},
     "output_type": "execute_result"
    }
   ],
   "source": [
    "df.groupby('Level')[['People']].sum()"
   ]
  },
  {
   "cell_type": "code",
   "execution_count": 91,
   "metadata": {},
   "outputs": [
    {
     "data": {
      "text/html": [
       "<div>\n",
       "<style scoped>\n",
       "    .dataframe tbody tr th:only-of-type {\n",
       "        vertical-align: middle;\n",
       "    }\n",
       "\n",
       "    .dataframe tbody tr th {\n",
       "        vertical-align: top;\n",
       "    }\n",
       "\n",
       "    .dataframe thead th {\n",
       "        text-align: right;\n",
       "    }\n",
       "</style>\n",
       "<table border=\"1\" class=\"dataframe\">\n",
       "  <thead>\n",
       "    <tr style=\"text-align: right;\">\n",
       "      <th></th>\n",
       "      <th>Level</th>\n",
       "      <th>People</th>\n",
       "      <th>%</th>\n",
       "    </tr>\n",
       "  </thead>\n",
       "  <tbody>\n",
       "    <tr>\n",
       "      <th>2</th>\n",
       "      <td>Moderate-2</td>\n",
       "      <td>1697595</td>\n",
       "      <td>0.448946</td>\n",
       "    </tr>\n",
       "    <tr>\n",
       "      <th>0</th>\n",
       "      <td>Diabolical-4</td>\n",
       "      <td>954833</td>\n",
       "      <td>0.252515</td>\n",
       "    </tr>\n",
       "    <tr>\n",
       "      <th>1</th>\n",
       "      <td>Gentle-1</td>\n",
       "      <td>594821</td>\n",
       "      <td>0.157306</td>\n",
       "    </tr>\n",
       "    <tr>\n",
       "      <th>3</th>\n",
       "      <td>Tough-3</td>\n",
       "      <td>534043</td>\n",
       "      <td>0.141233</td>\n",
       "    </tr>\n",
       "  </tbody>\n",
       "</table>\n",
       "</div>"
      ],
      "text/plain": [
       "          Level   People         %\n",
       "2    Moderate-2  1697595  0.448946\n",
       "0  Diabolical-4   954833  0.252515\n",
       "1      Gentle-1   594821  0.157306\n",
       "3       Tough-3   534043  0.141233"
      ]
     },
     "execution_count": 91,
     "metadata": {},
     "output_type": "execute_result"
    }
   ],
   "source": [
    "gb1 = df.groupby('Level', as_index=False).agg({\"People\": \"sum\"}).sort_values(by='People', ascending=False)\n",
    "total= gb1.People.sum()\n",
    "gb1['%'] = gb1['People']/total\n",
    "gb1.head()"
   ]
  },
  {
   "cell_type": "code",
   "execution_count": 92,
   "metadata": {},
   "outputs": [],
   "source": [
    "diabolical = gb1[gb1['Level']=='Diabolical-4'].values[0,1]\n",
    "gentle = gb1[gb1['Level']=='Gentle-1'].values[0,1]\n"
   ]
  },
  {
   "cell_type": "code",
   "execution_count": 93,
   "metadata": {},
   "outputs": [
    {
     "name": "stdout",
     "output_type": "stream",
     "text": [
      "The hypothesis is False , more people plays diabolical than Gentle\n"
     ]
    }
   ],
   "source": [
    "if gentle > diabolical:\n",
    "    print('Hyphothesis is True')\n",
    "else: \n",
    "    print('The hypothesis is False , more people plays diabolical than Gentle')"
   ]
  },
  {
   "cell_type": "markdown",
   "metadata": {},
   "source": [
    "#### 2) Does it take more time for people to solve the most difficult  ?\n",
    "#### Hypothesis: The average time to solve Sudoku in a \"Diabolical\" level is bigger than \"Thought\" level\n",
    "#### Results:"
   ]
  },
  {
   "cell_type": "code",
   "execution_count": 95,
   "metadata": {},
   "outputs": [
    {
     "data": {
      "text/html": [
       "<div>\n",
       "<style scoped>\n",
       "    .dataframe tbody tr th:only-of-type {\n",
       "        vertical-align: middle;\n",
       "    }\n",
       "\n",
       "    .dataframe tbody tr th {\n",
       "        vertical-align: top;\n",
       "    }\n",
       "\n",
       "    .dataframe thead th {\n",
       "        text-align: right;\n",
       "    }\n",
       "</style>\n",
       "<table border=\"1\" class=\"dataframe\">\n",
       "  <thead>\n",
       "    <tr style=\"text-align: right;\">\n",
       "      <th></th>\n",
       "      <th>Level</th>\n",
       "      <th>Average-Time</th>\n",
       "    </tr>\n",
       "  </thead>\n",
       "  <tbody>\n",
       "    <tr>\n",
       "      <th>0</th>\n",
       "      <td>Diabolical-4</td>\n",
       "      <td>31.043994</td>\n",
       "    </tr>\n",
       "    <tr>\n",
       "      <th>3</th>\n",
       "      <td>Tough-3</td>\n",
       "      <td>24.037657</td>\n",
       "    </tr>\n",
       "    <tr>\n",
       "      <th>2</th>\n",
       "      <td>Moderate-2</td>\n",
       "      <td>17.211994</td>\n",
       "    </tr>\n",
       "    <tr>\n",
       "      <th>1</th>\n",
       "      <td>Gentle-1</td>\n",
       "      <td>13.919107</td>\n",
       "    </tr>\n",
       "  </tbody>\n",
       "</table>\n",
       "</div>"
      ],
      "text/plain": [
       "          Level  Average-Time\n",
       "0  Diabolical-4     31.043994\n",
       "3       Tough-3     24.037657\n",
       "2    Moderate-2     17.211994\n",
       "1      Gentle-1     13.919107"
      ]
     },
     "execution_count": 95,
     "metadata": {},
     "output_type": "execute_result"
    }
   ],
   "source": [
    "gb2 = df.groupby('Level', as_index=False).agg({\"Average-Time\": \"mean\"}).sort_values(by='Average-Time', ascending=False)\n",
    "gb2.head()"
   ]
  },
  {
   "cell_type": "code",
   "execution_count": 96,
   "metadata": {},
   "outputs": [],
   "source": [
    "### True!"
   ]
  },
  {
   "cell_type": "markdown",
   "metadata": {},
   "source": [
    "#### 3) Is the difficulty of a level defined by the amound of numbers given in the initial Sudoku?\n",
    "#### Hypothesis: Each Level has a range of numbers given in the initial Sudoku\n",
    "#### Results:"
   ]
  },
  {
   "cell_type": "code",
   "execution_count": 106,
   "metadata": {},
   "outputs": [
    {
     "data": {
      "text/html": [
       "<div>\n",
       "<style scoped>\n",
       "    .dataframe tbody tr th:only-of-type {\n",
       "        vertical-align: middle;\n",
       "    }\n",
       "\n",
       "    .dataframe tbody tr th {\n",
       "        vertical-align: top;\n",
       "    }\n",
       "\n",
       "    .dataframe thead th {\n",
       "        text-align: right;\n",
       "    }\n",
       "</style>\n",
       "<table border=\"1\" class=\"dataframe\">\n",
       "  <thead>\n",
       "    <tr style=\"text-align: right;\">\n",
       "      <th></th>\n",
       "      <th>Id</th>\n",
       "      <th>Level</th>\n",
       "      <th>Sudoku</th>\n",
       "      <th>Solution</th>\n",
       "      <th>People</th>\n",
       "      <th>Average-Time</th>\n",
       "      <th>Unit-Time</th>\n",
       "      <th>URL</th>\n",
       "      <th>number_given</th>\n",
       "    </tr>\n",
       "  </thead>\n",
       "  <tbody>\n",
       "    <tr>\n",
       "      <th>0</th>\n",
       "      <td>0</td>\n",
       "      <td>Moderate-2</td>\n",
       "      <td>.96..3.4.8.....1..4....6.829....4.....4.5.3......</td>\n",
       "      <td>2961835478754291364315769829583642717149523683...</td>\n",
       "      <td>292</td>\n",
       "      <td>14</td>\n",
       "      <td>minutes</td>\n",
       "      <td>http://www.sudoku.org.uk/DailySudoku.asp?solut...</td>\n",
       "      <td>False</td>\n",
       "    </tr>\n",
       "    <tr>\n",
       "      <th>1</th>\n",
       "      <td>1</td>\n",
       "      <td>Gentle-1</td>\n",
       "      <td>..7..34....17528......8.....4.5...3.1.2...5.8....</td>\n",
       "      <td>9871634254317528696259843718495167321623795487...</td>\n",
       "      <td>283</td>\n",
       "      <td>12</td>\n",
       "      <td>minutes</td>\n",
       "      <td>http://www.sudoku.org.uk/DailySudoku.asp?solut...</td>\n",
       "      <td>False</td>\n",
       "    </tr>\n",
       "    <tr>\n",
       "      <th>2</th>\n",
       "      <td>2</td>\n",
       "      <td>Diabolical-4</td>\n",
       "      <td>.6...3.7.....6.1.49.......3..97.45..7...1...9....</td>\n",
       "      <td>8641239753259671849175486232897345617462158391...</td>\n",
       "      <td>238</td>\n",
       "      <td>30</td>\n",
       "      <td>minutes</td>\n",
       "      <td>http://www.sudoku.org.uk/DailySudoku.asp?solut...</td>\n",
       "      <td>False</td>\n",
       "    </tr>\n",
       "    <tr>\n",
       "      <th>3</th>\n",
       "      <td>3</td>\n",
       "      <td>Moderate-2</td>\n",
       "      <td>.54....8.....4..7.79...8.....26..1....35..2......</td>\n",
       "      <td>1547639823289456717962183459726341588435712965...</td>\n",
       "      <td>274</td>\n",
       "      <td>14</td>\n",
       "      <td>minutes</td>\n",
       "      <td>http://www.sudoku.org.uk/DailySudoku.asp?solut...</td>\n",
       "      <td>False</td>\n",
       "    </tr>\n",
       "    <tr>\n",
       "      <th>4</th>\n",
       "      <td>4</td>\n",
       "      <td>Diabolical-4</td>\n",
       "      <td>..2...9......425.....751...4.......63.7...8..8...</td>\n",
       "      <td>5126389477639425819847516234218953763571268948...</td>\n",
       "      <td>244</td>\n",
       "      <td>28</td>\n",
       "      <td>minutes</td>\n",
       "      <td>http://www.sudoku.org.uk/DailySudoku.asp?solut...</td>\n",
       "      <td>False</td>\n",
       "    </tr>\n",
       "  </tbody>\n",
       "</table>\n",
       "</div>"
      ],
      "text/plain": [
       "   Id         Level                                             Sudoku  \\\n",
       "0   0    Moderate-2  .96..3.4.8.....1..4....6.829....4.....4.5.3......   \n",
       "1   1      Gentle-1  ..7..34....17528......8.....4.5...3.1.2...5.8....   \n",
       "2   2  Diabolical-4  .6...3.7.....6.1.49.......3..97.45..7...1...9....   \n",
       "3   3    Moderate-2  .54....8.....4..7.79...8.....26..1....35..2......   \n",
       "4   4  Diabolical-4  ..2...9......425.....751...4.......63.7...8..8...   \n",
       "\n",
       "                                            Solution  People  Average-Time  \\\n",
       "0  2961835478754291364315769829583642717149523683...     292            14   \n",
       "1  9871634254317528696259843718495167321623795487...     283            12   \n",
       "2  8641239753259671849175486232897345617462158391...     238            30   \n",
       "3  1547639823289456717962183459726341588435712965...     274            14   \n",
       "4  5126389477639425819847516234218953763571268948...     244            28   \n",
       "\n",
       "  Unit-Time                                                URL  number_given  \n",
       "0   minutes  http://www.sudoku.org.uk/DailySudoku.asp?solut...         False  \n",
       "1   minutes  http://www.sudoku.org.uk/DailySudoku.asp?solut...         False  \n",
       "2   minutes  http://www.sudoku.org.uk/DailySudoku.asp?solut...         False  \n",
       "3   minutes  http://www.sudoku.org.uk/DailySudoku.asp?solut...         False  \n",
       "4   minutes  http://www.sudoku.org.uk/DailySudoku.asp?solut...         False  "
      ]
     },
     "execution_count": 106,
     "metadata": {},
     "output_type": "execute_result"
    }
   ],
   "source": [
    "df['number_given'] = df.apply(lambda row: row.Sudoku.isdigit(), axis = 1)\n",
    "df.head()"
   ]
  },
  {
   "cell_type": "code",
   "execution_count": 127,
   "metadata": {},
   "outputs": [
    {
     "data": {
      "text/plain": [
       "5017"
      ]
     },
     "execution_count": 127,
     "metadata": {},
     "output_type": "execute_result"
    }
   ],
   "source": [
    "len(df)"
   ]
  },
  {
   "cell_type": "code",
   "execution_count": 128,
   "metadata": {},
   "outputs": [
    {
     "name": "stderr",
     "output_type": "stream",
     "text": [
      "/usr/local/lib/python3.6/dist-packages/ipykernel_launcher.py:2: SettingWithCopyWarning: \n",
      "A value is trying to be set on a copy of a slice from a DataFrame\n",
      "\n",
      "See the caveats in the documentation: http://pandas.pydata.org/pandas-docs/stable/user_guide/indexing.html#returning-a-view-versus-a-copy\n",
      "  \n"
     ]
    }
   ],
   "source": [
    "for i in range(len(df)):\n",
    "    df['number_given'][i] = sum(c.isdigit() for c in df['Sudoku'][i])"
   ]
  },
  {
   "cell_type": "code",
   "execution_count": 129,
   "metadata": {},
   "outputs": [
    {
     "data": {
      "text/html": [
       "<div>\n",
       "<style scoped>\n",
       "    .dataframe tbody tr th:only-of-type {\n",
       "        vertical-align: middle;\n",
       "    }\n",
       "\n",
       "    .dataframe tbody tr th {\n",
       "        vertical-align: top;\n",
       "    }\n",
       "\n",
       "    .dataframe thead th {\n",
       "        text-align: right;\n",
       "    }\n",
       "</style>\n",
       "<table border=\"1\" class=\"dataframe\">\n",
       "  <thead>\n",
       "    <tr style=\"text-align: right;\">\n",
       "      <th></th>\n",
       "      <th>Id</th>\n",
       "      <th>Level</th>\n",
       "      <th>Sudoku</th>\n",
       "      <th>Solution</th>\n",
       "      <th>People</th>\n",
       "      <th>Average-Time</th>\n",
       "      <th>Unit-Time</th>\n",
       "      <th>URL</th>\n",
       "      <th>number_given</th>\n",
       "    </tr>\n",
       "  </thead>\n",
       "  <tbody>\n",
       "    <tr>\n",
       "      <th>0</th>\n",
       "      <td>0</td>\n",
       "      <td>Moderate-2</td>\n",
       "      <td>.96..3.4.8.....1..4....6.829....4.....4.5.3......</td>\n",
       "      <td>2961835478754291364315769829583642717149523683...</td>\n",
       "      <td>292</td>\n",
       "      <td>14</td>\n",
       "      <td>minutes</td>\n",
       "      <td>http://www.sudoku.org.uk/DailySudoku.asp?solut...</td>\n",
       "      <td>25</td>\n",
       "    </tr>\n",
       "    <tr>\n",
       "      <th>1</th>\n",
       "      <td>1</td>\n",
       "      <td>Gentle-1</td>\n",
       "      <td>..7..34....17528......8.....4.5...3.1.2...5.8....</td>\n",
       "      <td>9871634254317528696259843718495167321623795487...</td>\n",
       "      <td>283</td>\n",
       "      <td>12</td>\n",
       "      <td>minutes</td>\n",
       "      <td>http://www.sudoku.org.uk/DailySudoku.asp?solut...</td>\n",
       "      <td>28</td>\n",
       "    </tr>\n",
       "    <tr>\n",
       "      <th>2</th>\n",
       "      <td>2</td>\n",
       "      <td>Diabolical-4</td>\n",
       "      <td>.6...3.7.....6.1.49.......3..97.45..7...1...9....</td>\n",
       "      <td>8641239753259671849175486232897345617462158391...</td>\n",
       "      <td>238</td>\n",
       "      <td>30</td>\n",
       "      <td>minutes</td>\n",
       "      <td>http://www.sudoku.org.uk/DailySudoku.asp?solut...</td>\n",
       "      <td>27</td>\n",
       "    </tr>\n",
       "    <tr>\n",
       "      <th>3</th>\n",
       "      <td>3</td>\n",
       "      <td>Moderate-2</td>\n",
       "      <td>.54....8.....4..7.79...8.....26..1....35..2......</td>\n",
       "      <td>1547639823289456717962183459726341588435712965...</td>\n",
       "      <td>274</td>\n",
       "      <td>14</td>\n",
       "      <td>minutes</td>\n",
       "      <td>http://www.sudoku.org.uk/DailySudoku.asp?solut...</td>\n",
       "      <td>25</td>\n",
       "    </tr>\n",
       "    <tr>\n",
       "      <th>4</th>\n",
       "      <td>4</td>\n",
       "      <td>Diabolical-4</td>\n",
       "      <td>..2...9......425.....751...4.......63.7...8..8...</td>\n",
       "      <td>5126389477639425819847516234218953763571268948...</td>\n",
       "      <td>244</td>\n",
       "      <td>28</td>\n",
       "      <td>minutes</td>\n",
       "      <td>http://www.sudoku.org.uk/DailySudoku.asp?solut...</td>\n",
       "      <td>25</td>\n",
       "    </tr>\n",
       "  </tbody>\n",
       "</table>\n",
       "</div>"
      ],
      "text/plain": [
       "   Id         Level                                             Sudoku  \\\n",
       "0   0    Moderate-2  .96..3.4.8.....1..4....6.829....4.....4.5.3......   \n",
       "1   1      Gentle-1  ..7..34....17528......8.....4.5...3.1.2...5.8....   \n",
       "2   2  Diabolical-4  .6...3.7.....6.1.49.......3..97.45..7...1...9....   \n",
       "3   3    Moderate-2  .54....8.....4..7.79...8.....26..1....35..2......   \n",
       "4   4  Diabolical-4  ..2...9......425.....751...4.......63.7...8..8...   \n",
       "\n",
       "                                            Solution  People  Average-Time  \\\n",
       "0  2961835478754291364315769829583642717149523683...     292            14   \n",
       "1  9871634254317528696259843718495167321623795487...     283            12   \n",
       "2  8641239753259671849175486232897345617462158391...     238            30   \n",
       "3  1547639823289456717962183459726341588435712965...     274            14   \n",
       "4  5126389477639425819847516234218953763571268948...     244            28   \n",
       "\n",
       "  Unit-Time                                                URL  number_given  \n",
       "0   minutes  http://www.sudoku.org.uk/DailySudoku.asp?solut...            25  \n",
       "1   minutes  http://www.sudoku.org.uk/DailySudoku.asp?solut...            28  \n",
       "2   minutes  http://www.sudoku.org.uk/DailySudoku.asp?solut...            27  \n",
       "3   minutes  http://www.sudoku.org.uk/DailySudoku.asp?solut...            25  \n",
       "4   minutes  http://www.sudoku.org.uk/DailySudoku.asp?solut...            25  "
      ]
     },
     "execution_count": 129,
     "metadata": {},
     "output_type": "execute_result"
    }
   ],
   "source": [
    "df.head()"
   ]
  },
  {
   "cell_type": "code",
   "execution_count": 136,
   "metadata": {},
   "outputs": [],
   "source": [
    "number_gentle = df['number_given'][df['Level']=='Gentle-1'].unique()\n",
    "number_moderate = df['number_given'][df['Level']=='Moderate-2'].unique()\n",
    "number_tough = df['number_given'][df['Level']=='Tough-3'].unique()\n",
    "number_diabolical = df['number_given'][df['Level']=='Diabolical-4'].unique()"
   ]
  },
  {
   "cell_type": "code",
   "execution_count": 137,
   "metadata": {},
   "outputs": [
    {
     "data": {
      "text/plain": [
       "array([28, 24, 27, 25, 26, 23, 29])"
      ]
     },
     "execution_count": 137,
     "metadata": {},
     "output_type": "execute_result"
    }
   ],
   "source": [
    "number_gentle"
   ]
  },
  {
   "cell_type": "code",
   "execution_count": 138,
   "metadata": {},
   "outputs": [
    {
     "data": {
      "text/plain": [
       "array([25, 28, 27, 24, 26, 23, 22, 29])"
      ]
     },
     "execution_count": 138,
     "metadata": {},
     "output_type": "execute_result"
    }
   ],
   "source": [
    "number_moderate"
   ]
  },
  {
   "cell_type": "code",
   "execution_count": 139,
   "metadata": {},
   "outputs": [
    {
     "data": {
      "text/plain": [
       "array([25, 26, 24, 28, 27, 23, 22, 29])"
      ]
     },
     "execution_count": 139,
     "metadata": {},
     "output_type": "execute_result"
    }
   ],
   "source": [
    "number_tough"
   ]
  },
  {
   "cell_type": "code",
   "execution_count": 140,
   "metadata": {},
   "outputs": [
    {
     "data": {
      "text/plain": [
       "array([27, 25, 24, 28, 26, 23, 21, 22, 29])"
      ]
     },
     "execution_count": 140,
     "metadata": {},
     "output_type": "execute_result"
    }
   ],
   "source": [
    "number_diabolical"
   ]
  },
  {
   "cell_type": "code",
   "execution_count": null,
   "metadata": {},
   "outputs": [],
   "source": []
  }
 ],
 "metadata": {
  "kernelspec": {
   "display_name": "Python 3",
   "language": "python",
   "name": "python3"
  },
  "language_info": {
   "codemirror_mode": {
    "name": "ipython",
    "version": 3
   },
   "file_extension": ".py",
   "mimetype": "text/x-python",
   "name": "python",
   "nbconvert_exporter": "python",
   "pygments_lexer": "ipython3",
   "version": "3.6.8"
  }
 },
 "nbformat": 4,
 "nbformat_minor": 4
}
