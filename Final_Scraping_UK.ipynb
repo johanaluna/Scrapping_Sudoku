{
 "cells": [
  {
   "cell_type": "markdown",
   "metadata": {
    "colab_type": "text",
    "id": "umL15HBo5AUd"
   },
   "source": [
    "### Final version Scrapping Sudoku UK\n"
   ]
  },
  {
   "cell_type": "code",
   "execution_count": 1,
   "metadata": {
    "colab": {},
    "colab_type": "code",
    "id": "_QG2jmswOkHm"
   },
   "outputs": [],
   "source": [
    "from bs4 import BeautifulSoup\n",
    "import urllib3\n",
    "import requests \n",
    "import datetime\n",
    "import numpy as np\n",
    "import pandas as pd\n",
    "from urllib.request import urlopen \n",
    "from urllib.error import HTTPError \n",
    "from urllib.error import URLError\n",
    "from tqdm import tqdm"
   ]
  },
  {
   "cell_type": "markdown",
   "metadata": {
    "colab_type": "text",
    "id": "VApKMQxns-oj"
   },
   "source": [
    "## FUNCTIONS"
   ]
  },
  {
   "cell_type": "markdown",
   "metadata": {
    "colab_type": "text",
    "id": "FmyZphEBtCow"
   },
   "source": [
    "## Get_dates():\n",
    "To extract all the data we need to open all the different solutions that have been posted during the time in the web site. "
   ]
  },
  {
   "cell_type": "code",
   "execution_count": 2,
   "metadata": {
    "colab": {},
    "colab_type": "code",
    "id": "O3YA5wgC4_zI"
   },
   "outputs": [],
   "source": [
    "def list_dates():\n",
    "  dates = []\n",
    "  dates_error = []\n",
    "  urls = []\n",
    "  for i in tqdm(range(2,5252)):\n",
    "    d = datetime.date.today()- datetime.timedelta(days = i)\n",
    "    d_format = str(d.day)+'/'+str(d.month) +'/'+ str(d.year)\n",
    "    URL = \"http://www.sudoku.org.uk/DailySudoku.asp?solution=please&day=\"+d_format\n",
    "    try:\n",
    "      urlopen(URL)\n",
    "    except HTTPError as e:\n",
    "        pass\n",
    "#       dates_error.append(d_format)\n",
    "    except URLError as e:\n",
    "        pass\n",
    "#       dates_error.append(d_format)\n",
    "    else:\n",
    "#       dates.append(d_format)\n",
    "      urls.append(URL)\n",
    "  return urls\n"
   ]
  },
  {
   "cell_type": "markdown",
   "metadata": {
    "colab_type": "text",
    "id": "glu191x9tpmH"
   },
   "source": [
    "## Get_html()\n",
    "Using the list of the days we're going to open each URL and extract all the HTML code."
   ]
  },
  {
   "cell_type": "code",
   "execution_count": 3,
   "metadata": {
    "colab": {},
    "colab_type": "code",
    "id": "2FdF6AfD4-VX"
   },
   "outputs": [],
   "source": [
    "def get_html(url):\n",
    "  r = requests.get(url) \n",
    "  return BeautifulSoup(r.content,'html.parser')"
   ]
  },
  {
   "cell_type": "markdown",
   "metadata": {
    "colab_type": "text",
    "id": "ssT4VJMuuCjm"
   },
   "source": [
    "## Consolidate()\n",
    "extract all the sudokus and their solutions, the level of difficulty, number of people that solved the soduku and the average time in minutes."
   ]
  },
  {
   "cell_type": "code",
   "execution_count": 4,
   "metadata": {
    "colab": {},
    "colab_type": "code",
    "id": "yuwVP45yOoiz"
   },
   "outputs": [],
   "source": [
    "def consolidate(urls):\n",
    "    a, b, solution, sudoku, level, people,av_time, unit = ([] for i in range(8))\n",
    "\n",
    "    for url in tqdm(urls):\n",
    "        soup = get_html(url)\n",
    "        for link in soup.find_all('td', attrs={'class': ['InnerTDone2','InnerTDone'] }):\n",
    "            if link.attrs['class'] == ['InnerTDone2']:\n",
    "              b.append(link.text)\n",
    "            else:\n",
    "              b.append('.')\n",
    "            a.append(link.text)\n",
    "            \n",
    "        sudoku.append(''.join(b))\n",
    "        solution.append(''.join(a))\n",
    "             \n",
    "        p = list(list(soup.table.td)[2])\n",
    "        level.append(str(p[1].get_text()).split(\", \")[1].split()[0])\n",
    "        people.append(str(p[3]).split()[0])\n",
    "        av_time.append(str(p[3]).split()[6])\n",
    "        unit.append(str(p[3]).split()[7])\n",
    "        \n",
    "    return  urls, level, people, av_time, unit, sudoku, solution "
   ]
  },
  {
   "cell_type": "markdown",
   "metadata": {
    "colab_type": "text",
    "id": "KvyA16N-GyEK"
   },
   "source": [
    "# Extract Dates"
   ]
  },
  {
   "cell_type": "code",
   "execution_count": 5,
   "metadata": {
    "colab": {},
    "colab_type": "code",
    "id": "0_ubcNKjOrAo"
   },
   "outputs": [
    {
     "name": "stderr",
     "output_type": "stream",
     "text": [
      "100%|██████████| 5250/5250 [27:23<00:00,  3.19it/s]  \n"
     ]
    }
   ],
   "source": [
    "# dates, urls, dates_error = list_dates()\n",
    "urls = list_dates()"
   ]
  },
  {
   "cell_type": "code",
   "execution_count": 6,
   "metadata": {},
   "outputs": [
    {
     "data": {
      "text/plain": [
       "5209"
      ]
     },
     "execution_count": 6,
     "metadata": {},
     "output_type": "execute_result"
    }
   ],
   "source": [
    "len(urls)"
   ]
  },
  {
   "cell_type": "markdown",
   "metadata": {},
   "source": [
    "# Export URLs to CSV"
   ]
  },
  {
   "cell_type": "code",
   "execution_count": 7,
   "metadata": {},
   "outputs": [],
   "source": [
    "urls_df = pd.DataFrame(list(urls), \n",
    "               columns =['urls'])\n",
    "urls_df.to_csv('urls.csv')"
   ]
  },
  {
   "cell_type": "markdown",
   "metadata": {},
   "source": [
    "# Load URLs"
   ]
  },
  {
   "cell_type": "code",
   "execution_count": 8,
   "metadata": {
    "colab": {},
    "colab_type": "code",
    "id": "-fr90DBPHIcZ"
   },
   "outputs": [],
   "source": [
    "df_urls = pd.read_csv('urls.csv', sep=',').drop('Unnamed: 0', axis=1)"
   ]
  },
  {
   "cell_type": "code",
   "execution_count": 9,
   "metadata": {},
   "outputs": [
    {
     "data": {
      "text/html": [
       "<div>\n",
       "<style scoped>\n",
       "    .dataframe tbody tr th:only-of-type {\n",
       "        vertical-align: middle;\n",
       "    }\n",
       "\n",
       "    .dataframe tbody tr th {\n",
       "        vertical-align: top;\n",
       "    }\n",
       "\n",
       "    .dataframe thead th {\n",
       "        text-align: right;\n",
       "    }\n",
       "</style>\n",
       "<table border=\"1\" class=\"dataframe\">\n",
       "  <thead>\n",
       "    <tr style=\"text-align: right;\">\n",
       "      <th></th>\n",
       "      <th>urls</th>\n",
       "    </tr>\n",
       "  </thead>\n",
       "  <tbody>\n",
       "    <tr>\n",
       "      <th>0</th>\n",
       "      <td>http://www.sudoku.org.uk/DailySudoku.asp?solut...</td>\n",
       "    </tr>\n",
       "    <tr>\n",
       "      <th>1</th>\n",
       "      <td>http://www.sudoku.org.uk/DailySudoku.asp?solut...</td>\n",
       "    </tr>\n",
       "    <tr>\n",
       "      <th>2</th>\n",
       "      <td>http://www.sudoku.org.uk/DailySudoku.asp?solut...</td>\n",
       "    </tr>\n",
       "    <tr>\n",
       "      <th>3</th>\n",
       "      <td>http://www.sudoku.org.uk/DailySudoku.asp?solut...</td>\n",
       "    </tr>\n",
       "    <tr>\n",
       "      <th>4</th>\n",
       "      <td>http://www.sudoku.org.uk/DailySudoku.asp?solut...</td>\n",
       "    </tr>\n",
       "    <tr>\n",
       "      <th>...</th>\n",
       "      <td>...</td>\n",
       "    </tr>\n",
       "    <tr>\n",
       "      <th>5204</th>\n",
       "      <td>http://www.sudoku.org.uk/DailySudoku.asp?solut...</td>\n",
       "    </tr>\n",
       "    <tr>\n",
       "      <th>5205</th>\n",
       "      <td>http://www.sudoku.org.uk/DailySudoku.asp?solut...</td>\n",
       "    </tr>\n",
       "    <tr>\n",
       "      <th>5206</th>\n",
       "      <td>http://www.sudoku.org.uk/DailySudoku.asp?solut...</td>\n",
       "    </tr>\n",
       "    <tr>\n",
       "      <th>5207</th>\n",
       "      <td>http://www.sudoku.org.uk/DailySudoku.asp?solut...</td>\n",
       "    </tr>\n",
       "    <tr>\n",
       "      <th>5208</th>\n",
       "      <td>http://www.sudoku.org.uk/DailySudoku.asp?solut...</td>\n",
       "    </tr>\n",
       "  </tbody>\n",
       "</table>\n",
       "<p>5209 rows × 1 columns</p>\n",
       "</div>"
      ],
      "text/plain": [
       "                                                   urls\n",
       "0     http://www.sudoku.org.uk/DailySudoku.asp?solut...\n",
       "1     http://www.sudoku.org.uk/DailySudoku.asp?solut...\n",
       "2     http://www.sudoku.org.uk/DailySudoku.asp?solut...\n",
       "3     http://www.sudoku.org.uk/DailySudoku.asp?solut...\n",
       "4     http://www.sudoku.org.uk/DailySudoku.asp?solut...\n",
       "...                                                 ...\n",
       "5204  http://www.sudoku.org.uk/DailySudoku.asp?solut...\n",
       "5205  http://www.sudoku.org.uk/DailySudoku.asp?solut...\n",
       "5206  http://www.sudoku.org.uk/DailySudoku.asp?solut...\n",
       "5207  http://www.sudoku.org.uk/DailySudoku.asp?solut...\n",
       "5208  http://www.sudoku.org.uk/DailySudoku.asp?solut...\n",
       "\n",
       "[5209 rows x 1 columns]"
      ]
     },
     "execution_count": 9,
     "metadata": {},
     "output_type": "execute_result"
    }
   ],
   "source": [
    "df_urls"
   ]
  },
  {
   "cell_type": "code",
   "execution_count": 10,
   "metadata": {},
   "outputs": [],
   "source": [
    "#before Mar 7 of 2006 location 5010 there are not registers about the players or the average time in the website, for this reason we're cut this urls \n",
    "new_urls = df_urls.iloc[:5010]"
   ]
  },
  {
   "cell_type": "code",
   "execution_count": 11,
   "metadata": {},
   "outputs": [
    {
     "data": {
      "text/plain": [
       "(5010, 1)"
      ]
     },
     "execution_count": 11,
     "metadata": {},
     "output_type": "execute_result"
    }
   ],
   "source": [
    "new_urls.shape"
   ]
  },
  {
   "cell_type": "markdown",
   "metadata": {},
   "source": [
    "# Extract Data"
   ]
  },
  {
   "cell_type": "code",
   "execution_count": 12,
   "metadata": {},
   "outputs": [
    {
     "name": "stderr",
     "output_type": "stream",
     "text": [
      "100%|██████████| 5010/5010 [27:29<00:00,  3.04it/s]  \n"
     ]
    }
   ],
   "source": [
    "urls, level, people,av_time, unit, sudoku, solution = consolidate(new_urls['urls'])"
   ]
  },
  {
   "cell_type": "markdown",
   "metadata": {
    "colab_type": "text",
    "id": "gTxohNqsG1f8"
   },
   "source": [
    "# Create Dataframe"
   ]
  },
  {
   "cell_type": "code",
   "execution_count": 13,
   "metadata": {
    "colab": {},
    "colab_type": "code",
    "id": "ktdQd4jGxv-m"
   },
   "outputs": [],
   "source": [
    "df = pd.DataFrame(list(zip(urls, level, people,av_time, unit, sudoku, solution)), \n",
    "               columns =['URL', 'Level','People','Average-Time', 'Unit-Time', 'Sudoku', 'Solution']) "
   ]
  },
  {
   "cell_type": "code",
   "execution_count": 14,
   "metadata": {
    "colab": {
     "base_uri": "https://localhost:8080/",
     "height": 326
    },
    "colab_type": "code",
    "id": "B4MmhMSmzSv8",
    "outputId": "721dd156-3889-4590-b0db-671c0b32547c"
   },
   "outputs": [
    {
     "data": {
      "text/html": [
       "<div>\n",
       "<style scoped>\n",
       "    .dataframe tbody tr th:only-of-type {\n",
       "        vertical-align: middle;\n",
       "    }\n",
       "\n",
       "    .dataframe tbody tr th {\n",
       "        vertical-align: top;\n",
       "    }\n",
       "\n",
       "    .dataframe thead th {\n",
       "        text-align: right;\n",
       "    }\n",
       "</style>\n",
       "<table border=\"1\" class=\"dataframe\">\n",
       "  <thead>\n",
       "    <tr style=\"text-align: right;\">\n",
       "      <th></th>\n",
       "      <th>URL</th>\n",
       "      <th>Level</th>\n",
       "      <th>People</th>\n",
       "      <th>Average-Time</th>\n",
       "      <th>Unit-Time</th>\n",
       "      <th>Sudoku</th>\n",
       "      <th>Solution</th>\n",
       "    </tr>\n",
       "  </thead>\n",
       "  <tbody>\n",
       "    <tr>\n",
       "      <th>0</th>\n",
       "      <td>http://www.sudoku.org.uk/DailySudoku.asp?solut...</td>\n",
       "      <td>Moderate</td>\n",
       "      <td>285</td>\n",
       "      <td>16</td>\n",
       "      <td>minutes</td>\n",
       "      <td>3.8..2....7.9.1.........48..61.9.2.74.......57...</td>\n",
       "      <td>3584621792749815636193754825618942374831276957...</td>\n",
       "    </tr>\n",
       "    <tr>\n",
       "      <th>1</th>\n",
       "      <td>http://www.sudoku.org.uk/DailySudoku.asp?solut...</td>\n",
       "      <td>Gentle</td>\n",
       "      <td>287</td>\n",
       "      <td>12</td>\n",
       "      <td>minutes</td>\n",
       "      <td>3.8..2....7.9.1.........48..61.9.2.74.......57...</td>\n",
       "      <td>3584621792749815636193754825618942374831276957...</td>\n",
       "    </tr>\n",
       "    <tr>\n",
       "      <th>2</th>\n",
       "      <td>http://www.sudoku.org.uk/DailySudoku.asp?solut...</td>\n",
       "      <td>Diabolical</td>\n",
       "      <td>254</td>\n",
       "      <td>27</td>\n",
       "      <td>minutes</td>\n",
       "      <td>3.8..2....7.9.1.........48..61.9.2.74.......57...</td>\n",
       "      <td>3584621792749815636193754825618942374831276957...</td>\n",
       "    </tr>\n",
       "    <tr>\n",
       "      <th>3</th>\n",
       "      <td>http://www.sudoku.org.uk/DailySudoku.asp?solut...</td>\n",
       "      <td>Moderate</td>\n",
       "      <td>276</td>\n",
       "      <td>15</td>\n",
       "      <td>minutes</td>\n",
       "      <td>3.8..2....7.9.1.........48..61.9.2.74.......57...</td>\n",
       "      <td>3584621792749815636193754825618942374831276957...</td>\n",
       "    </tr>\n",
       "    <tr>\n",
       "      <th>4</th>\n",
       "      <td>http://www.sudoku.org.uk/DailySudoku.asp?solut...</td>\n",
       "      <td>Diabolical</td>\n",
       "      <td>252</td>\n",
       "      <td>27</td>\n",
       "      <td>minutes</td>\n",
       "      <td>3.8..2....7.9.1.........48..61.9.2.74.......57...</td>\n",
       "      <td>3584621792749815636193754825618942374831276957...</td>\n",
       "    </tr>\n",
       "  </tbody>\n",
       "</table>\n",
       "</div>"
      ],
      "text/plain": [
       "                                                 URL       Level People  \\\n",
       "0  http://www.sudoku.org.uk/DailySudoku.asp?solut...    Moderate    285   \n",
       "1  http://www.sudoku.org.uk/DailySudoku.asp?solut...      Gentle    287   \n",
       "2  http://www.sudoku.org.uk/DailySudoku.asp?solut...  Diabolical    254   \n",
       "3  http://www.sudoku.org.uk/DailySudoku.asp?solut...    Moderate    276   \n",
       "4  http://www.sudoku.org.uk/DailySudoku.asp?solut...  Diabolical    252   \n",
       "\n",
       "  Average-Time Unit-Time                                             Sudoku  \\\n",
       "0           16   minutes  3.8..2....7.9.1.........48..61.9.2.74.......57...   \n",
       "1           12   minutes  3.8..2....7.9.1.........48..61.9.2.74.......57...   \n",
       "2           27   minutes  3.8..2....7.9.1.........48..61.9.2.74.......57...   \n",
       "3           15   minutes  3.8..2....7.9.1.........48..61.9.2.74.......57...   \n",
       "4           27   minutes  3.8..2....7.9.1.........48..61.9.2.74.......57...   \n",
       "\n",
       "                                            Solution  \n",
       "0  3584621792749815636193754825618942374831276957...  \n",
       "1  3584621792749815636193754825618942374831276957...  \n",
       "2  3584621792749815636193754825618942374831276957...  \n",
       "3  3584621792749815636193754825618942374831276957...  \n",
       "4  3584621792749815636193754825618942374831276957...  "
      ]
     },
     "execution_count": 14,
     "metadata": {},
     "output_type": "execute_result"
    }
   ],
   "source": [
    "df.head()"
   ]
  },
  {
   "cell_type": "code",
   "execution_count": 15,
   "metadata": {},
   "outputs": [
    {
     "data": {
      "text/plain": [
       "(5010, 7)"
      ]
     },
     "execution_count": 15,
     "metadata": {},
     "output_type": "execute_result"
    }
   ],
   "source": [
    "df.shape"
   ]
  },
  {
   "cell_type": "markdown",
   "metadata": {
    "colab_type": "text",
    "id": "R18LaoxTG4zH"
   },
   "source": [
    "# Function to visualize Sudoku"
   ]
  },
  {
   "cell_type": "code",
   "execution_count": null,
   "metadata": {
    "colab": {},
    "colab_type": "code",
    "id": "DVss-SVUu_qU"
   },
   "outputs": [],
   "source": [
    "def split(element): \n",
    "    return [char for char in element]  \n",
    "\n",
    "def transform_matrix(element):\n",
    "  return np.reshape(split(element), (-1, 9))"
   ]
  },
  {
   "cell_type": "code",
   "execution_count": 100,
   "metadata": {
    "colab": {
     "base_uri": "https://localhost:8080/",
     "height": 170
    },
    "colab_type": "code",
    "id": "D38eCqXJOrJ1",
    "outputId": "96bb6d53-bedf-4881-b175-3354bd93a06a"
   },
   "outputs": [
    {
     "data": {
      "text/plain": [
       "array([['2', '3', '9', '6', '4', '1', '7', '8', '5'],\n",
       "       ['7', '8', '1', '9', '5', '2', '6', '3', '4'],\n",
       "       ['5', '6', '4', '3', '8', '7', '1', '2', '9'],\n",
       "       ['9', '5', '8', '1', '3', '4', '2', '7', '6'],\n",
       "       ['4', '2', '3', '5', '7', '6', '8', '9', '1'],\n",
       "       ['1', '7', '6', '8', '2', '9', '4', '5', '3'],\n",
       "       ['8', '9', '2', '4', '6', '5', '3', '1', '7'],\n",
       "       ['6', '1', '7', '2', '9', '3', '5', '4', '8'],\n",
       "       ['3', '4', '5', '7', '1', '8', '9', '6', '2']], dtype='<U1')"
      ]
     },
     "execution_count": 100,
     "metadata": {
      "tags": []
     },
     "output_type": "execute_result"
    }
   ],
   "source": [
    "transform_matrix(df.Solution[0])"
   ]
  },
  {
   "cell_type": "code",
   "execution_count": 101,
   "metadata": {
    "colab": {
     "base_uri": "https://localhost:8080/",
     "height": 170
    },
    "colab_type": "code",
    "id": "L4MusQFO_tbJ",
    "outputId": "54ffb853-4a58-4950-dc13-b235199b333c"
   },
   "outputs": [
    {
     "data": {
      "text/plain": [
       "array([['.', '.', '9', '6', '4', '1', '7', '.', '.'],\n",
       "       ['7', '8', '.', '9', '.', '.', '.', '.', '4'],\n",
       "       ['.', '.', '.', '3', '.', '.', '.', '.', '.'],\n",
       "       ['.', '.', '.', '.', '.', '.', '2', '7', '.'],\n",
       "       ['4', '.', '3', '.', '.', '.', '8', '.', '1'],\n",
       "       ['.', '7', '6', '.', '.', '.', '.', '.', '.'],\n",
       "       ['.', '.', '.', '.', '.', '5', '.', '.', '.'],\n",
       "       ['6', '.', '.', '.', '.', '3', '.', '4', '8'],\n",
       "       ['.', '.', '5', '7', '1', '8', '9', '.', '.']], dtype='<U1')"
      ]
     },
     "execution_count": 101,
     "metadata": {
      "tags": []
     },
     "output_type": "execute_result"
    }
   ],
   "source": [
    "transform_matrix(df.Sudoku[0])"
   ]
  },
  {
   "cell_type": "markdown",
   "metadata": {
    "colab_type": "text",
    "id": "so9CjnefG9EH"
   },
   "source": [
    "# Export Data Frame"
   ]
  },
  {
   "cell_type": "code",
   "execution_count": 16,
   "metadata": {
    "colab": {},
    "colab_type": "code",
    "id": "4XgPA2gD_wpx"
   },
   "outputs": [],
   "source": [
    "df.to_csv('sudoku_uk.csv')"
   ]
  }
 ],
 "metadata": {
  "colab": {
   "name": "Final_Scraping_UK.ipynb",
   "provenance": [],
   "toc_visible": true
  },
  "kernelspec": {
   "display_name": "Python 3",
   "language": "python",
   "name": "python3"
  },
  "language_info": {
   "codemirror_mode": {
    "name": "ipython",
    "version": 3
   },
   "file_extension": ".py",
   "mimetype": "text/x-python",
   "name": "python",
   "nbconvert_exporter": "python",
   "pygments_lexer": "ipython3",
   "version": "3.6.8"
  }
 },
 "nbformat": 4,
 "nbformat_minor": 4
}
