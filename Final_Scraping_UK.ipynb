{
  "nbformat": 4,
  "nbformat_minor": 0,
  "metadata": {
    "colab": {
      "name": "Final_Scraping_UK.ipynb",
      "provenance": [],
      "toc_visible": true
    },
    "kernelspec": {
      "name": "python3",
      "display_name": "Python 3"
    }
  },
  "cells": [
    {
      "cell_type": "markdown",
      "metadata": {
        "id": "umL15HBo5AUd",
        "colab_type": "text"
      },
      "source": [
        "### Final version Scrapping Sudoku UK\n"
      ]
    },
    {
      "cell_type": "code",
      "metadata": {
        "id": "_QG2jmswOkHm",
        "colab_type": "code",
        "colab": {}
      },
      "source": [
        "from bs4 import BeautifulSoup\n",
        "import urllib3\n",
        "import requests \n",
        "import datetime\n",
        "import numpy as np\n",
        "import pandas as pd\n",
        "from urllib.request import urlopen \n",
        "from urllib.error import HTTPError \n",
        "from urllib.error import URLError"
      ],
      "execution_count": 0,
      "outputs": []
    },
    {
      "cell_type": "markdown",
      "metadata": {
        "id": "VApKMQxns-oj",
        "colab_type": "text"
      },
      "source": [
        "## FUNCTIONS"
      ]
    },
    {
      "cell_type": "markdown",
      "metadata": {
        "id": "FmyZphEBtCow",
        "colab_type": "text"
      },
      "source": [
        "## Get_dates():\n",
        "To extract all the data we need to open all the different solutions that have been posted during the time in the web site. "
      ]
    },
    {
      "cell_type": "code",
      "metadata": {
        "id": "O3YA5wgC4_zI",
        "colab_type": "code",
        "colab": {}
      },
      "source": [
        "def list_dates():\n",
        "  dates = []\n",
        "  dates_error = []\n",
        "  urls = []\n",
        "  for i in range(2,112):\n",
        "    d = datetime.date.today()- datetime.timedelta(days = i)\n",
        "    d_format = str(d.day)+'/'+str(d.month) +'/'+ str(d.year)\n",
        "    URL = \"http://www.sudoku.org.uk/DailySudoku.asp?solution=please&day=\"+d_format\n",
        "    try:\n",
        "      urlopen(URL)\n",
        "    except HTTPError as e:\n",
        "      dates_error.append(d_format)\n",
        "    except URLError as e:\n",
        "      dates_error.append(d_format)\n",
        "    else:\n",
        "      dates.append(d_format)\n",
        "      urls.append(URL)\n",
        "  return dates, urls, dates_error\n"
      ],
      "execution_count": 0,
      "outputs": []
    },
    {
      "cell_type": "markdown",
      "metadata": {
        "id": "glu191x9tpmH",
        "colab_type": "text"
      },
      "source": [
        "## Get_html()\n",
        "Using the list of the days we're going to open each URL and extract all the HTML code."
      ]
    },
    {
      "cell_type": "code",
      "metadata": {
        "id": "2FdF6AfD4-VX",
        "colab_type": "code",
        "colab": {}
      },
      "source": [
        "def get_html(url):\n",
        "  r = requests.get(url) \n",
        "  return BeautifulSoup(r.content,'html5lib')"
      ],
      "execution_count": 0,
      "outputs": []
    },
    {
      "cell_type": "markdown",
      "metadata": {
        "id": "ssT4VJMuuCjm",
        "colab_type": "text"
      },
      "source": [
        "## Get_sudokus()\n",
        "extract all the sudokus and their solutions"
      ]
    },
    {
      "cell_type": "code",
      "metadata": {
        "id": "yuwVP45yOoiz",
        "colab_type": "code",
        "colab": {}
      },
      "source": [
        "def get_sudokus(urls):\n",
        "  solution =[]\n",
        "  sudoku=[]\n",
        "\n",
        "  for url in urls:\n",
        "    a=[]\n",
        "    b=[]\n",
        "    soup = get_html(url)\n",
        "    if soup.find('h2'):\n",
        "      print('yes')\n",
        "    else:\n",
        "      for link in soup.find_all('td', attrs={'class': ['InnerTDone2','InnerTDone'] }):\n",
        "        if link.attrs['class'] == ['InnerTDone2']:\n",
        "          b.append(link.text)\n",
        "        else:\n",
        "          b.append('.')\n",
        "        a.append(link.text)\n",
        "      sudoku.append(''.join(b))\n",
        "      solution.append(''.join(a))\n",
        "\n",
        "  return sudoku, solution"
      ],
      "execution_count": 0,
      "outputs": []
    },
    {
      "cell_type": "markdown",
      "metadata": {
        "id": "pXe-GrQGGfY2",
        "colab_type": "text"
      },
      "source": [
        "## Get_info()\n",
        "\n",
        "extract the level, number of people that solved the soduku and the average time in minutes."
      ]
    },
    {
      "cell_type": "code",
      "metadata": {
        "id": "rgMUMVS5OrGS",
        "colab_type": "code",
        "colab": {}
      },
      "source": [
        "def get_info(urls):\n",
        "  level = []\n",
        "  people = []\n",
        "  av_sln = []\n",
        "  unit_time = []\n",
        "  \n",
        "  for url in urls :\n",
        "    soup = get_html(url)\n",
        "    p = list(list(soup.table.td)[2])\n",
        "    level.append(str(p[1].get_text()).split(\", \")[1].split()[0])\n",
        "    people.append(str(p[3]).split()[0])\n",
        "    av_sln.append(str(p[3]).split()[6])\n",
        "    unit_time.append(str(p[3]).split()[7])\n",
        "  return level,people,av_sln, unit_time"
      ],
      "execution_count": 0,
      "outputs": []
    },
    {
      "cell_type": "markdown",
      "metadata": {
        "id": "KvyA16N-GyEK",
        "colab_type": "text"
      },
      "source": [
        "# Extract Data"
      ]
    },
    {
      "cell_type": "code",
      "metadata": {
        "id": "0_ubcNKjOrAo",
        "colab_type": "code",
        "colab": {}
      },
      "source": [
        "dates, urls, dates_error = list_dates()"
      ],
      "execution_count": 0,
      "outputs": []
    },
    {
      "cell_type": "code",
      "metadata": {
        "id": "-fr90DBPHIcZ",
        "colab_type": "code",
        "colab": {}
      },
      "source": [
        "sudoku, solution= get_sudokus(urls)"
      ],
      "execution_count": 0,
      "outputs": []
    },
    {
      "cell_type": "code",
      "metadata": {
        "id": "d-wZCuF8HRfv",
        "colab_type": "code",
        "colab": {}
      },
      "source": [
        "level,people,av_sln, unit_time = get_info(urls)"
      ],
      "execution_count": 0,
      "outputs": []
    },
    {
      "cell_type": "markdown",
      "metadata": {
        "id": "gTxohNqsG1f8",
        "colab_type": "text"
      },
      "source": [
        "# Create Dataframe"
      ]
    },
    {
      "cell_type": "code",
      "metadata": {
        "id": "ktdQd4jGxv-m",
        "colab_type": "code",
        "colab": {}
      },
      "source": [
        "df = pd.DataFrame(list(zip(dates, urls,  level, people,av_sln, unit_time, sudoku, solution)), \n",
        "               columns =['Date','URL', 'Level','People','Average-Time', 'Unit-Time', 'Sudoku', 'Solution']) "
      ],
      "execution_count": 0,
      "outputs": []
    },
    {
      "cell_type": "code",
      "metadata": {
        "id": "B4MmhMSmzSv8",
        "colab_type": "code",
        "colab": {
          "base_uri": "https://localhost:8080/",
          "height": 326
        },
        "outputId": "721dd156-3889-4590-b0db-671c0b32547c"
      },
      "source": [
        "df.head()"
      ],
      "execution_count": 98,
      "outputs": [
        {
          "output_type": "execute_result",
          "data": {
            "text/html": [
              "<div>\n",
              "<style scoped>\n",
              "    .dataframe tbody tr th:only-of-type {\n",
              "        vertical-align: middle;\n",
              "    }\n",
              "\n",
              "    .dataframe tbody tr th {\n",
              "        vertical-align: top;\n",
              "    }\n",
              "\n",
              "    .dataframe thead th {\n",
              "        text-align: right;\n",
              "    }\n",
              "</style>\n",
              "<table border=\"1\" class=\"dataframe\">\n",
              "  <thead>\n",
              "    <tr style=\"text-align: right;\">\n",
              "      <th></th>\n",
              "      <th>Date</th>\n",
              "      <th>URL</th>\n",
              "      <th>Level</th>\n",
              "      <th>People</th>\n",
              "      <th>Average-Time</th>\n",
              "      <th>Unit-Time</th>\n",
              "      <th>Sudoku</th>\n",
              "      <th>Solution</th>\n",
              "    </tr>\n",
              "  </thead>\n",
              "  <tbody>\n",
              "    <tr>\n",
              "      <th>0</th>\n",
              "      <td>11/25/2019</td>\n",
              "      <td>http://www.sudoku.org.uk/DailySudoku.asp?solut...</td>\n",
              "      <td>Gentle</td>\n",
              "      <td>287</td>\n",
              "      <td>12</td>\n",
              "      <td>minutes</td>\n",
              "      <td>..96417..78.9....4...3...........27.4.3...8.1....</td>\n",
              "      <td>2396417857819526345643871299581342764235768911...</td>\n",
              "    </tr>\n",
              "    <tr>\n",
              "      <th>1</th>\n",
              "      <td>11/24/2019</td>\n",
              "      <td>http://www.sudoku.org.uk/DailySudoku.asp?solut...</td>\n",
              "      <td>Diabolical</td>\n",
              "      <td>254</td>\n",
              "      <td>27</td>\n",
              "      <td>minutes</td>\n",
              "      <td>..35..7...75.....2.2...7..42..39.....9.....4.....</td>\n",
              "      <td>4135297686758439128291673542683945713972158465...</td>\n",
              "    </tr>\n",
              "    <tr>\n",
              "      <th>2</th>\n",
              "      <td>11/23/2019</td>\n",
              "      <td>http://www.sudoku.org.uk/DailySudoku.asp?solut...</td>\n",
              "      <td>Moderate</td>\n",
              "      <td>276</td>\n",
              "      <td>15</td>\n",
              "      <td>minutes</td>\n",
              "      <td>...73.4...9.1...8......6.....5.78....49...71.....</td>\n",
              "      <td>8617354293971245864528961731359786426492537187...</td>\n",
              "    </tr>\n",
              "    <tr>\n",
              "      <th>3</th>\n",
              "      <td>11/22/2019</td>\n",
              "      <td>http://www.sudoku.org.uk/DailySudoku.asp?solut...</td>\n",
              "      <td>Diabolical</td>\n",
              "      <td>252</td>\n",
              "      <td>27</td>\n",
              "      <td>minutes</td>\n",
              "      <td>.7...5....2.7..3..5..8.....95..6..3.8.6...1.9....</td>\n",
              "      <td>1789352464297163855638429719572618348463571292...</td>\n",
              "    </tr>\n",
              "    <tr>\n",
              "      <th>4</th>\n",
              "      <td>11/21/2019</td>\n",
              "      <td>http://www.sudoku.org.uk/DailySudoku.asp?solut...</td>\n",
              "      <td>Tough</td>\n",
              "      <td>256</td>\n",
              "      <td>23</td>\n",
              "      <td>minutes</td>\n",
              "      <td>.89...17.3.....985....7......5.8....8..7.6..3....</td>\n",
              "      <td>2895341763471629855619783421753892648247165939...</td>\n",
              "    </tr>\n",
              "  </tbody>\n",
              "</table>\n",
              "</div>"
            ],
            "text/plain": [
              "         Date  ...                                           Solution\n",
              "0  11/25/2019  ...  2396417857819526345643871299581342764235768911...\n",
              "1  11/24/2019  ...  4135297686758439128291673542683945713972158465...\n",
              "2  11/23/2019  ...  8617354293971245864528961731359786426492537187...\n",
              "3  11/22/2019  ...  1789352464297163855638429719572618348463571292...\n",
              "4  11/21/2019  ...  2895341763471629855619783421753892648247165939...\n",
              "\n",
              "[5 rows x 8 columns]"
            ]
          },
          "metadata": {
            "tags": []
          },
          "execution_count": 98
        }
      ]
    },
    {
      "cell_type": "markdown",
      "metadata": {
        "id": "R18LaoxTG4zH",
        "colab_type": "text"
      },
      "source": [
        "# Function to visualize Sudoku"
      ]
    },
    {
      "cell_type": "code",
      "metadata": {
        "id": "DVss-SVUu_qU",
        "colab_type": "code",
        "colab": {}
      },
      "source": [
        "def split(element): \n",
        "    return [char for char in element]  \n",
        "\n",
        "def transform_matrix(element):\n",
        "  return np.reshape(split(element), (-1, 9))"
      ],
      "execution_count": 0,
      "outputs": []
    },
    {
      "cell_type": "code",
      "metadata": {
        "id": "D38eCqXJOrJ1",
        "colab_type": "code",
        "colab": {
          "base_uri": "https://localhost:8080/",
          "height": 170
        },
        "outputId": "96bb6d53-bedf-4881-b175-3354bd93a06a"
      },
      "source": [
        "transform_matrix(df.Solution[0])"
      ],
      "execution_count": 100,
      "outputs": [
        {
          "output_type": "execute_result",
          "data": {
            "text/plain": [
              "array([['2', '3', '9', '6', '4', '1', '7', '8', '5'],\n",
              "       ['7', '8', '1', '9', '5', '2', '6', '3', '4'],\n",
              "       ['5', '6', '4', '3', '8', '7', '1', '2', '9'],\n",
              "       ['9', '5', '8', '1', '3', '4', '2', '7', '6'],\n",
              "       ['4', '2', '3', '5', '7', '6', '8', '9', '1'],\n",
              "       ['1', '7', '6', '8', '2', '9', '4', '5', '3'],\n",
              "       ['8', '9', '2', '4', '6', '5', '3', '1', '7'],\n",
              "       ['6', '1', '7', '2', '9', '3', '5', '4', '8'],\n",
              "       ['3', '4', '5', '7', '1', '8', '9', '6', '2']], dtype='<U1')"
            ]
          },
          "metadata": {
            "tags": []
          },
          "execution_count": 100
        }
      ]
    },
    {
      "cell_type": "code",
      "metadata": {
        "id": "L4MusQFO_tbJ",
        "colab_type": "code",
        "colab": {
          "base_uri": "https://localhost:8080/",
          "height": 170
        },
        "outputId": "54ffb853-4a58-4950-dc13-b235199b333c"
      },
      "source": [
        "transform_matrix(df.Sudoku[0])"
      ],
      "execution_count": 101,
      "outputs": [
        {
          "output_type": "execute_result",
          "data": {
            "text/plain": [
              "array([['.', '.', '9', '6', '4', '1', '7', '.', '.'],\n",
              "       ['7', '8', '.', '9', '.', '.', '.', '.', '4'],\n",
              "       ['.', '.', '.', '3', '.', '.', '.', '.', '.'],\n",
              "       ['.', '.', '.', '.', '.', '.', '2', '7', '.'],\n",
              "       ['4', '.', '3', '.', '.', '.', '8', '.', '1'],\n",
              "       ['.', '7', '6', '.', '.', '.', '.', '.', '.'],\n",
              "       ['.', '.', '.', '.', '.', '5', '.', '.', '.'],\n",
              "       ['6', '.', '.', '.', '.', '3', '.', '4', '8'],\n",
              "       ['.', '.', '5', '7', '1', '8', '9', '.', '.']], dtype='<U1')"
            ]
          },
          "metadata": {
            "tags": []
          },
          "execution_count": 101
        }
      ]
    },
    {
      "cell_type": "markdown",
      "metadata": {
        "id": "so9CjnefG9EH",
        "colab_type": "text"
      },
      "source": [
        "# Export Data Frame"
      ]
    },
    {
      "cell_type": "code",
      "metadata": {
        "id": "4XgPA2gD_wpx",
        "colab_type": "code",
        "colab": {}
      },
      "source": [
        "df.to_csv('dataset_sudoku_uk.csv')"
      ],
      "execution_count": 0,
      "outputs": []
    }
  ]
}